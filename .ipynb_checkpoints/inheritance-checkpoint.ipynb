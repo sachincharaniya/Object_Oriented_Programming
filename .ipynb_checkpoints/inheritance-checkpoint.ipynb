{
 "cells": [
  {
   "cell_type": "code",
   "execution_count": 1,
   "id": "6781607e",
   "metadata": {},
   "outputs": [],
   "source": [
    "# inheritance >> refers to process of child class recieveing the proprties of parent class\n"
   ]
  },
  {
   "cell_type": "code",
   "execution_count": 2,
   "id": "a18d1324",
   "metadata": {},
   "outputs": [],
   "source": [
    "# # Syntax \n",
    "# class BaseClass:\n",
    "#     #body of base class\n",
    "# class DerivedClass(BaseClass):\n",
    "#     #body of derived class\n"
   ]
  },
  {
   "cell_type": "code",
   "execution_count": 3,
   "id": "2a8d3ffc",
   "metadata": {},
   "outputs": [],
   "source": [
    "#single inheritance >> when a class has only one parent class"
   ]
  },
  {
   "cell_type": "code",
   "execution_count": 8,
   "id": "a3abd6e7",
   "metadata": {},
   "outputs": [
    {
     "name": "stdout",
     "output_type": "stream",
     "text": [
      "Son has also a job\n"
     ]
    }
   ],
   "source": [
    "class Father:\n",
    "    def father_property(self):\n",
    "        print(\"This is father property\")\n",
    "class Son(Father):\n",
    "    def job(self):\n",
    "        print(\"Son has also a job\")\n",
    "child_obj = Son()\n",
    "# child_obj.father_property()\n",
    "child_obj."
   ]
  },
  {
   "cell_type": "code",
   "execution_count": 12,
   "id": "ddbe3527",
   "metadata": {},
   "outputs": [
    {
     "name": "stdout",
     "output_type": "stream",
     "text": [
      "This is father property\n"
     ]
    }
   ],
   "source": [
    "father_obj = Father()\n",
    "father_obj.father_property()"
   ]
  },
  {
   "cell_type": "code",
   "execution_count": 13,
   "id": "b68d2f85",
   "metadata": {},
   "outputs": [],
   "source": [
    "#parent class will not have access to the property of child class but child class will have acess tp both"
   ]
  },
  {
   "cell_type": "code",
   "execution_count": 16,
   "id": "126a7094",
   "metadata": {},
   "outputs": [
    {
     "name": "stdout",
     "output_type": "stream",
     "text": [
      "Inside the child class\n"
     ]
    }
   ],
   "source": [
    "class Fruit:\n",
    "    def fruit_info(self):\n",
    "        print(\"Inside Parent class\")\n",
    "class Apple(Fruit):\n",
    "    def apple_info(self):\n",
    "        print(\"Inside the child class\")\n",
    "obj = Apple()\n",
    "obj.apple_info()"
   ]
  },
  {
   "cell_type": "code",
   "execution_count": 17,
   "id": "379e70c3",
   "metadata": {},
   "outputs": [
    {
     "name": "stdout",
     "output_type": "stream",
     "text": [
      "Inside Parent class\n"
     ]
    }
   ],
   "source": [
    "obj.fruit_info()"
   ]
  },
  {
   "cell_type": "code",
   "execution_count": 20,
   "id": "58b464e7",
   "metadata": {},
   "outputs": [
    {
     "name": "stdout",
     "output_type": "stream",
     "text": [
      "Inside the child class\n",
      "Inside child  class\n"
     ]
    }
   ],
   "source": [
    "class Fruit:\n",
    "    def fruit_info(self):\n",
    "        print(\"Inside Parent class\")\n",
    "class Apple(Fruit):\n",
    "    def fruit_info(self):\n",
    "        print(\"Inside child  class\")\n",
    "    def apple_info(self):\n",
    "        print(\"Inside the child class\")\n",
    "obj = Apple()\n",
    "obj.apple_info()\n",
    "obj.fruit_info()# mthod overriding >> child class is very powerful"
   ]
  },
  {
   "cell_type": "code",
   "execution_count": 21,
   "id": "8de2d860",
   "metadata": {},
   "outputs": [],
   "source": [
    "# multi-level inheritance "
   ]
  },
  {
   "cell_type": "code",
   "execution_count": 26,
   "id": "334a153d",
   "metadata": {},
   "outputs": [
    {
     "name": "stdout",
     "output_type": "stream",
     "text": [
      "I am your grandfather\n"
     ]
    }
   ],
   "source": [
    "class GrandFather:\n",
    "    def property_grandfather(self):\n",
    "        print(\"I am your grandfather\")\n",
    "class Father(GrandFather):\n",
    "    def property_father(self):\n",
    "        print(\"I am your father and having property of mine and your grandfather as well\")\n",
    "class Son(Father):\n",
    "    def property_son(self):\n",
    "        print(\"I am son and having property of both my father and grand father\")\n",
    "son = Son()\n",
    "son.property_grandfather()"
   ]
  },
  {
   "cell_type": "code",
   "execution_count": 27,
   "id": "8a561c9d",
   "metadata": {},
   "outputs": [
    {
     "name": "stdout",
     "output_type": "stream",
     "text": [
      "I am your father and having property of mine and your grandfather as well\n"
     ]
    }
   ],
   "source": [
    "son.property_father()"
   ]
  },
  {
   "cell_type": "code",
   "execution_count": 28,
   "id": "25346c42",
   "metadata": {},
   "outputs": [
    {
     "name": "stdout",
     "output_type": "stream",
     "text": [
      "I am son and having property of both my father and grand father\n"
     ]
    }
   ],
   "source": [
    "son.property_son()"
   ]
  },
  {
   "cell_type": "code",
   "execution_count": 29,
   "id": "f00d19fb",
   "metadata": {},
   "outputs": [
    {
     "name": "stdout",
     "output_type": "stream",
     "text": [
      "inside sports car class\n"
     ]
    }
   ],
   "source": [
    "class Vehicle:\n",
    "    def vehicle_info(self):\n",
    "        print(\"Inside vehicle class\")\n",
    "class Car(Vehicle):\n",
    "    def car_info(self):\n",
    "        print(\"inside car class\")\n",
    "class SportsCar(Car):\n",
    "    def sports_car_info(self):\n",
    "        print(\"inside sports car class\")\n",
    "sports_car = SportsCar()\n",
    "sports_car.sports_car_info()"
   ]
  },
  {
   "cell_type": "code",
   "execution_count": 30,
   "id": "14a2f1aa",
   "metadata": {},
   "outputs": [
    {
     "name": "stdout",
     "output_type": "stream",
     "text": [
      "inside car class\n"
     ]
    }
   ],
   "source": [
    "sports_car.car_info()"
   ]
  },
  {
   "cell_type": "code",
   "execution_count": 31,
   "id": "2c2b0e22",
   "metadata": {},
   "outputs": [
    {
     "name": "stdout",
     "output_type": "stream",
     "text": [
      "Inside vehicle class\n"
     ]
    }
   ],
   "source": [
    "sports_car.vehicle_info()"
   ]
  },
  {
   "cell_type": "code",
   "execution_count": 33,
   "id": "0d690c42",
   "metadata": {},
   "outputs": [],
   "source": [
    "# multiple inheritance >> one child class may inherite from multiple parent class"
   ]
  },
  {
   "cell_type": "code",
   "execution_count": 43,
   "id": "240c77b8",
   "metadata": {},
   "outputs": [
    {
     "name": "stdout",
     "output_type": "stream",
     "text": [
      "child method\n"
     ]
    }
   ],
   "source": [
    "class ParentClass1:\n",
    "    def method1(self):\n",
    "        print(\"method 1 of parent class 1\")\n",
    "class ParentClass2:\n",
    "    def method2(self):\n",
    "        print(\"method 2 of parent class 2\")\n",
    "class ChildClass(ParentClass1,ParentClass2):\n",
    "    def child_method(self):\n",
    "        print(\"child method\")\n",
    "child = ChildClass()\n",
    "child.child_method()"
   ]
  },
  {
   "cell_type": "code",
   "execution_count": 48,
   "id": "28cf78c8",
   "metadata": {},
   "outputs": [
    {
     "name": "stdout",
     "output_type": "stream",
     "text": [
      "method of class c\n"
     ]
    }
   ],
   "source": [
    "\n",
    "class A:\n",
    "    def method(self):\n",
    "        print(\"method of class A\")\n",
    "class B(A):\n",
    "    def method(self):\n",
    "        print(\"method of class B\")\n",
    "class C(A):\n",
    "    def method(self):\n",
    "        print(\"method of class c\")\n",
    "class D(C,B):\n",
    "    pass\n",
    "obj = D() # Diamond problem\n",
    "obj.method()"
   ]
  },
  {
   "cell_type": "code",
   "execution_count": 49,
   "id": "f57382c3",
   "metadata": {},
   "outputs": [],
   "source": [
    "#hierarchical inheritance"
   ]
  },
  {
   "cell_type": "code",
   "execution_count": 53,
   "id": "4fcbb001",
   "metadata": {},
   "outputs": [
    {
     "name": "stdout",
     "output_type": "stream",
     "text": [
      "This is vehicle\n"
     ]
    }
   ],
   "source": [
    "class Vehicle():\n",
    "    def info(self):\n",
    "        print(\"This is vehicle\")\n",
    "class Car(Vehicle):\n",
    "    def car_info(self,name):\n",
    "        print(\"This is car info\",name)\n",
    "class Track(Vehicle):\n",
    "    def track_info(self,name):\n",
    "        print(\"Track info\",name)\n",
    "obj = Car()\n",
    "obj.info()"
   ]
  },
  {
   "cell_type": "code",
   "execution_count": 55,
   "id": "5f4a0e1d",
   "metadata": {},
   "outputs": [
    {
     "name": "stdout",
     "output_type": "stream",
     "text": [
      "This is car info BMW\n"
     ]
    }
   ],
   "source": [
    "obj.car_info(\"BMW\")"
   ]
  },
  {
   "cell_type": "code",
   "execution_count": 56,
   "id": "fe009b2d",
   "metadata": {},
   "outputs": [],
   "source": [
    "obj2 = Track()"
   ]
  },
  {
   "cell_type": "code",
   "execution_count": 57,
   "id": "1fecb45e",
   "metadata": {},
   "outputs": [
    {
     "name": "stdout",
     "output_type": "stream",
     "text": [
      "This is vehicle\n"
     ]
    }
   ],
   "source": [
    "obj2.info()"
   ]
  },
  {
   "cell_type": "code",
   "execution_count": 59,
   "id": "04c16e7b",
   "metadata": {},
   "outputs": [
    {
     "name": "stdout",
     "output_type": "stream",
     "text": [
      "Track info Ford\n"
     ]
    }
   ],
   "source": [
    "obj2.track_info(\"Ford\")"
   ]
  },
  {
   "cell_type": "code",
   "execution_count": 60,
   "id": "572706b5",
   "metadata": {},
   "outputs": [],
   "source": [
    "# Hybrid inheritance >> multiple types or a cobination of difference inheritance"
   ]
  },
  {
   "cell_type": "code",
   "execution_count": 75,
   "id": "3b908a79",
   "metadata": {},
   "outputs": [
    {
     "name": "stdout",
     "output_type": "stream",
     "text": [
      "inside car class\n"
     ]
    }
   ],
   "source": [
    "class Vehicle():\n",
    "    def vehicle_info(self):\n",
    "        print(\"inside vehicle class\")\n",
    "class Car(Vehicle):\n",
    "    def car_info(self):\n",
    "        print(\"inside car class\")\n",
    "class Track(Vehicle):\n",
    "    def track_info(self):\n",
    "        print(\"Track info\")\n",
    "class SportsCars(Car,Vehicle):\n",
    "    def sports_info(self):\n",
    "        print(\"inside sports car class\")\n",
    "s_car = SportsCars()\n",
    "s_car.car_info()"
   ]
  },
  {
   "cell_type": "code",
   "execution_count": 76,
   "id": "043601f4",
   "metadata": {},
   "outputs": [
    {
     "name": "stdout",
     "output_type": "stream",
     "text": [
      "inside vehicle class\n"
     ]
    }
   ],
   "source": [
    "s_car.vehicle_info()"
   ]
  },
  {
   "cell_type": "code",
   "execution_count": 80,
   "id": "c69ab9d9",
   "metadata": {},
   "outputs": [
    {
     "name": "stdout",
     "output_type": "stream",
     "text": [
      "Track info\n"
     ]
    }
   ],
   "source": [
    "s_car1 = Track()\n",
    "s_car1.track_info()"
   ]
  },
  {
   "cell_type": "markdown",
   "id": "bb790c74",
   "metadata": {},
   "source": [
    "Abstraction"
   ]
  },
  {
   "cell_type": "code",
   "execution_count": 81,
   "id": "0f8ad138",
   "metadata": {},
   "outputs": [],
   "source": [
    "#abstraction >> concept of hinding the complex implementation"
   ]
  },
  {
   "cell_type": "code",
   "execution_count": 82,
   "id": "24bd5983",
   "metadata": {},
   "outputs": [],
   "source": [
    "import abc"
   ]
  },
  {
   "cell_type": "code",
   "execution_count": 86,
   "id": "1a999f3c",
   "metadata": {},
   "outputs": [
    {
     "data": {
      "text/plain": [
       "'data science course studnet details'"
      ]
     },
     "execution_count": 86,
     "metadata": {},
     "output_type": "execute_result"
    }
   ],
   "source": [
    "class PWSkills:\n",
    "    @abc.abstractmethod\n",
    "    def student_details(self):\n",
    "        pass\n",
    "    \n",
    "    @abc.abstractmethod\n",
    "    def student_assignment(self):\n",
    "        pass\n",
    "    \n",
    "    @abc.abstractmethod\n",
    "    def student_marks(self):\n",
    "        pass\n",
    "    \n",
    "class DataScience(PWSkills):\n",
    "    def student_detsils(self):\n",
    "        return \"data science course studnet details\"\n",
    "    def student_marks(self):\n",
    "        return \"give ds course studnet's marks\"\n",
    "    \n",
    "class WebDev(PWSkills):\n",
    "    def student_assignment(self):\n",
    "        return \"This will give studnet assignment of web dev class\"\n",
    "    def student_marks(self):\n",
    "        return \"gice web dev student's class\"\n",
    "\n",
    "ds = DataScience()\n",
    "ds.student_detsils()"
   ]
  },
  {
   "cell_type": "code",
   "execution_count": null,
   "id": "9b7d11da",
   "metadata": {},
   "outputs": [],
   "source": []
  }
 ],
 "metadata": {
  "kernelspec": {
   "display_name": "Python 3 (ipykernel)",
   "language": "python",
   "name": "python3"
  },
  "language_info": {
   "codemirror_mode": {
    "name": "ipython",
    "version": 3
   },
   "file_extension": ".py",
   "mimetype": "text/x-python",
   "name": "python",
   "nbconvert_exporter": "python",
   "pygments_lexer": "ipython3",
   "version": "3.11.5"
  }
 },
 "nbformat": 4,
 "nbformat_minor": 5
}
