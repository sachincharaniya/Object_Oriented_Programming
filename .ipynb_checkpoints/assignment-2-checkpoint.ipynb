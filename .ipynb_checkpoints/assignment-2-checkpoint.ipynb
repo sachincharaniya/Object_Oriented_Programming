{
 "cells": [
  {
   "cell_type": "code",
   "execution_count": null,
   "id": "d9d555f6",
   "metadata": {},
   "outputs": [],
   "source": [
    "#1.Explain the importance of functions.\n",
    "#Functions are fundamental building blocks in programming. They play a crucial role in structuring and organizing code, making it more readable, reusable, and maintainable. Here are some key points highlighting the importance of functions:\n",
    "\n",
    "#Modularity:\n",
    "#Functions break down complex problems into smaller, manageable units. Each function can perform a specific task, making it easier to understand and manage the code.\n",
    "\n",
    "#Reusability:\n",
    "#Functions allow you to write a piece of code once and reuse it multiple times throughout your program. This eliminates redundancy and reduces the likelihood of errors.\n",
    "\n",
    "#Maintainability:\n",
    "#Functions make code more maintainable by isolating functionality. If a bug is found or a change is needed, you can update a single function without affecting other parts of the program.\n",
    "\n",
    "#Readability:\n",
    "#Functions improve the readability of the code by providing a clear structure. Descriptive function names and docstrings help others understand the purpose and usage of each function.\n",
    "\n",
    "#Abstraction:\n",
    "#Functions provide a level of abstraction. Users of a function do not need to know the implementation details; they only need to understand the inputs and outputs.\n",
    "\n",
    "#Testing:\n",
    "#Functions facilitate testing. You can test each function independently to ensure it works correctly, leading to more reliable and robust programs.\n",
    "\n",
    "#Encapsulation:\n",
    "#Functions can encapsulate behavior. They can hide the internal workings and expose only the necessary interface, protecting the integrity of the data.\n"
   ]
  },
  {
   "cell_type": "code",
   "execution_count": 1,
   "id": "2427a7ab",
   "metadata": {},
   "outputs": [
    {
     "name": "stdout",
     "output_type": "stream",
     "text": [
      "Hello, Alice! Welcome to the class.\n"
     ]
    }
   ],
   "source": [
    "#2.Write a basic function to greet students.\n",
    "def greet_students(name):\n",
    "    return f\"Hello, {name}! Welcome to the class.\"\n",
    "\n",
    "# Example usage\n",
    "student_name = \"Alice\"\n",
    "greeting = greet_students(student_name)\n",
    "print(greeting)  # Output: Hello, Alice! Welcome to the class."
   ]
  },
  {
   "cell_type": "code",
   "execution_count": 3,
   "id": "480565b1",
   "metadata": {},
   "outputs": [
    {
     "data": {
      "text/plain": [
       "'Return Statement \\nIt is used to exit a function and return a value \\nIt is return a value that can be assigned to a variable or used in any expression.\\nIt can be used multiple times in a function but not only one value can be returned at a time\\nExiting the function with return ends the function and control returns to calling code \\n'"
      ]
     },
     "execution_count": 3,
     "metadata": {},
     "output_type": "execute_result"
    }
   ],
   "source": [
    "#3.What is the difference between print and return statements.\n",
    "#Return Statement \n",
    "#It is used to exit a function and return a value \n",
    "#It is return a value that can be assigned to a variable or used in any expression.\n",
    "#It can be used multiple times in a function but not only one value can be returned at a time\n",
    "#Exiting the function with return ends the function and control returns to calling code \n",
    "\n",
    "#Print Statement \n",
    "#It is used to display output to the console \n",
    "#It display output to the console but does not return the value.\n",
    "#It can be used multiple times in a function but does not affect the function’s return values\n",
    "#The print does not affect program flow and execution continues normally"
   ]
  },
  {
   "cell_type": "code",
   "execution_count": null,
   "id": "95afcc48",
   "metadata": {},
   "outputs": [],
   "source": [
    "#4.What are *args and **kwargs?\n",
    "#‘*args’ allows a function to accept any number of positional arguments.\n",
    "#It is used to pass a variable-length list of arguments to a function.\n",
    "#Inside the function ‘args’ is treated as tuple.\n",
    "\n",
    "#‘**kwargs’ allows a function to accept any number of keyword arguments.\n",
    "#It is used to pass a variable – length dictionary of keyword arguments to a function.\n",
    "#Inside the function ‘kwargs’ is treated as a dictionary.\n"
   ]
  },
  {
   "cell_type": "code",
   "execution_count": null,
   "id": "b21498c0",
   "metadata": {},
   "outputs": [],
   "source": [
    "#5.Explain the iterator function.\n",
    "#An iterator is an object that allows you to traverse through all the elements of a collection (such as lists, tuples, and dictionaries) one element at a time. Understanding iterators involves knowing about the iter() and next() functions, as well as how to define custom iterator classes.\n",
    "\n",
    "#An object is considered an iterator if it implements two methods\n",
    "#1.__iter__(): returns the iterator object itself.\n",
    "\n",
    "#2.__nexr__():returns the next item from the collection. If there are no more items to return, it should raise the StopIteration exception.\n"
   ]
  },
  {
   "cell_type": "code",
   "execution_count": 6,
   "id": "c75443fa",
   "metadata": {},
   "outputs": [
    {
     "name": "stdout",
     "output_type": "stream",
     "text": [
      "1\n",
      "4\n",
      "9\n",
      "16\n",
      "25\n",
      "36\n",
      "49\n",
      "64\n",
      "81\n",
      "100\n"
     ]
    }
   ],
   "source": [
    "# 6. Write a code thar generates the squares of numbers from 1 to using a generator .\n",
    "def generate_squares(n):\n",
    "    for i in range(1, n + 1):\n",
    "        yield i * i\n",
    "\n",
    "n = 10\n",
    "squares_generator = generate_squares(n)\n",
    "\n",
    "# Printing the squares\n",
    "for square in squares_generator:\n",
    "    print(square)"
   ]
  },
  {
   "cell_type": "code",
   "execution_count": 10,
   "id": "07327b6a",
   "metadata": {},
   "outputs": [
    {
     "name": "stdout",
     "output_type": "stream",
     "text": [
      "100\n",
      "1\n",
      "2\n",
      "3\n",
      "4\n",
      "5\n",
      "6\n",
      "7\n",
      "8\n",
      "9\n",
      "11\n",
      "22\n",
      "33\n",
      "44\n",
      "55\n",
      "66\n",
      "77\n",
      "88\n",
      "99\n"
     ]
    }
   ],
   "source": [
    "# 7. Write a code that generates palindromic numbers up to n a generator.\n",
    "def generate_palindromic_numbers(n):\n",
    "    for num in range(1, n + 1):\n",
    "        if str(num) == str(num)[::-1]:\n",
    "            yield num\n",
    "            \n",
    "n = int(input())\n",
    "palindromic_generator = generate_palindromic_numbers(n)\n",
    "\n",
    "for palindromic_number in palindromic_generator:\n",
    "    print(palindromic_number)\n"
   ]
  },
  {
   "cell_type": "code",
   "execution_count": 11,
   "id": "f133202b",
   "metadata": {},
   "outputs": [
    {
     "name": "stdout",
     "output_type": "stream",
     "text": [
      "2\n",
      "4\n",
      "6\n",
      "8\n",
      "10\n",
      "12\n",
      "14\n",
      "16\n",
      "18\n",
      "20\n"
     ]
    }
   ],
   "source": [
    "# 8. Write a code thar generates even numbers from 2 to n using a generator.\n",
    "def generate_even_numbers(n):\n",
    "    for num in range(2, n + 1):\n",
    "        if num % 2 == 0:\n",
    "            yield num\n",
    "n = 20\n",
    "even_numbers_generator = generate_even_numbers(n)\n",
    "for even_number in even_numbers_generator:\n",
    "    print(even_number)\n"
   ]
  },
  {
   "cell_type": "code",
   "execution_count": 12,
   "id": "9292d4e7",
   "metadata": {
    "scrolled": true
   },
   "outputs": [
    {
     "name": "stdout",
     "output_type": "stream",
     "text": [
      "1\n",
      "2\n",
      "4\n",
      "8\n",
      "16\n",
      "32\n",
      "64\n"
     ]
    }
   ],
   "source": [
    "# 9. write a code that generates powers of two up to n using a generator.\n",
    "def generate_powers_of_two(n):\n",
    "    power = 0\n",
    "    while (2 ** power) <= n:\n",
    "        yield 2 ** power\n",
    "        power += 1\n",
    "n = int(input())\n",
    "powers_of_two_generator = generate_powers_of_two(n)\n",
    "for power in powers_of_two_generator:\n",
    "    print(power)\n"
   ]
  },
  {
   "cell_type": "code",
   "execution_count": 2,
   "id": "0df98eb3",
   "metadata": {},
   "outputs": [
    {
     "name": "stdout",
     "output_type": "stream",
     "text": [
      "50\n",
      "2\n",
      "3\n",
      "5\n",
      "7\n",
      "11\n",
      "13\n",
      "17\n",
      "19\n",
      "23\n",
      "29\n",
      "31\n",
      "37\n",
      "41\n",
      "43\n",
      "47\n"
     ]
    }
   ],
   "source": [
    "#10 Write a code that generates prime numbers up to n using a generator.\n",
    "def is_prime(num):\n",
    "    if num <= 1:\n",
    "        return False\n",
    "    for i in range(2, int(num ** 0.5) + 1):\n",
    "        if num % i == 0:\n",
    "            return False\n",
    "    return True\n",
    "def generate_primes(n):\n",
    "    for num in range(2, n + 1):\n",
    "        if is_prime(num):\n",
    "            yield num\n",
    "n = int(input())\n",
    "primes_generator = generate_primes(n)\n",
    "for prime in primes_generator:\n",
    "    print(prime)"
   ]
  },
  {
   "cell_type": "code",
   "execution_count": 4,
   "id": "e1a6a300",
   "metadata": {},
   "outputs": [
    {
     "name": "stdout",
     "output_type": "stream",
     "text": [
      "14\n"
     ]
    }
   ],
   "source": [
    "add = lambda x,y : x + y\n",
    "sum_of_two_number = add(6, 8)\n",
    "print(\"sum of \"sum_of_two_number)"
   ]
  },
  {
   "cell_type": "code",
   "execution_count": 5,
   "id": "c00b7885",
   "metadata": {},
   "outputs": [
    {
     "name": "stdout",
     "output_type": "stream",
     "text": [
      "The sum of the given numbers is: 50\n"
     ]
    }
   ],
   "source": [
    "# 11.Write a code that uses a lambda function to calculate the sum of give number.\n",
    "numbers = [5, 10, 15, 20]\n",
    "\n",
    "sum_of_numbers = lambda nums: sum(nums)\n",
    "\n",
    "result = sum_of_numbers(numbers)\n",
    "print(f\"The sum of the given numbers is: {result}\")"
   ]
  },
  {
   "cell_type": "code",
   "execution_count": 5,
   "id": "10087b4b",
   "metadata": {},
   "outputs": [
    {
     "name": "stdout",
     "output_type": "stream",
     "text": [
      "The square of 2 is 4.\n",
      "The square of 3 is 9.\n",
      "The square of 4 is 16.\n",
      "The square of 5 is 25.\n"
     ]
    }
   ],
   "source": [
    "#12.Write a code that uses a lambda function to calculate the square of a given number.\n",
    "square = lambda num: num ** 2\n",
    "numbers = [2, 3, 4, 5]\n",
    "for number in numbers:\n",
    "    result = square(number)\n",
    "    print(f\"The square of {number} is {result}.\")"
   ]
  },
  {
   "cell_type": "code",
   "execution_count": 8,
   "id": "738cffa3",
   "metadata": {},
   "outputs": [
    {
     "name": "stdout",
     "output_type": "stream",
     "text": [
      "The number 3 is Odd.\n",
      "The number 4 is Even.\n",
      "The number 7 is Odd.\n",
      "The number 8 is Even.\n",
      "The number 10 is Even.\n"
     ]
    }
   ],
   "source": [
    "#13.Write a code that uses a lambda function to check whether a given number is even or odd.\n",
    "check_even_odd = lambda num: \"Even\" if num % 2 == 0 else \"Odd\"\n",
    "\n",
    "# Test numbers\n",
    "numbers = [3, 4, 7, 8, 10]\n",
    "\n",
    "# Check each number and print whether it is even or odd\n",
    "for number in numbers:\n",
    "    result = check_even_odd(number)\n",
    "    print(f\"The number {number} is {result}.\")\n"
   ]
  },
  {
   "cell_type": "code",
   "execution_count": 6,
   "id": "0f5dd175",
   "metadata": {},
   "outputs": [
    {
     "name": "stdout",
     "output_type": "stream",
     "text": [
      "Hello, world!\n"
     ]
    }
   ],
   "source": [
    "#14.Write a code that uses a lambda function to concatenate two strings.\n",
    "concatenate_strings = lambda str1, str2: str1 + str2\n",
    "\n",
    "result = concatenate_strings(\"Hello, \", \"world!\")\n",
    "print(result)  # Output: Hello, world!\n"
   ]
  },
  {
   "cell_type": "code",
   "execution_count": 9,
   "id": "ac6fab0d",
   "metadata": {},
   "outputs": [
    {
     "name": "stdout",
     "output_type": "stream",
     "text": [
      "The maximum of (3, 5, 1) is 5.\n",
      "The maximum of (10, 7, 12) is 12.\n",
      "The maximum of (23, 45, 21) is 45.\n",
      "The maximum of (4, 4, 4) is 4.\n"
     ]
    }
   ],
   "source": [
    "#15.\tWrite a code that uses a lambda function to find the maximum of three given number.\n",
    "max_of_three = lambda a, b, c: max(a, b, c)\n",
    "numbers = [\n",
    "    (3, 5, 1),\n",
    "    (10, 7, 12),\n",
    "    (23, 45, 21),\n",
    "    (4, 4, 4)\n",
    "]\n",
    "for num_tuple in numbers:\n",
    "    result = max_of_three(*num_tuple)\n",
    "    print(f\"The maximum of {num_tuple} is {result}.\")\n"
   ]
  },
  {
   "cell_type": "code",
   "execution_count": 12,
   "id": "2e7a6b9b",
   "metadata": {},
   "outputs": [
    {
     "name": "stdout",
     "output_type": "stream",
     "text": [
      "Squares of even numbers: [4, 16, 36, 64, 100]\n"
     ]
    }
   ],
   "source": [
    "#16.Write code that generates the squares of even numbers from a given list.\n",
    "numbers = [1, 2, 3, 4, 5, 6, 7, 8, 9, 10]\n",
    "squares_of_even_numbers = [x**2 for x in numbers if x % 2 == 0]\n",
    "print(\"Squares of even numbers:\", squares_of_even_numbers)"
   ]
  },
  {
   "cell_type": "code",
   "execution_count": 13,
   "id": "adbecc9b",
   "metadata": {},
   "outputs": [
    {
     "name": "stdout",
     "output_type": "stream",
     "text": [
      "Product of positive numbers: 5184\n"
     ]
    }
   ],
   "source": [
    "#17.Write a code that calculates the product positive numbers form a given list.\n",
    "from functools import reduce\n",
    "numbers = [1, -2, 3, 4, -5, 6, -7, 8, 9, -10]\n",
    "positive_numbers = [x for x in numbers if x > 0]\n",
    "product_of_positive_numbers = reduce(lambda x, y: x * y, positive_numbers)\n",
    "print(\"Product of positive numbers:\", product_of_positive_numbers)\n"
   ]
  },
  {
   "cell_type": "code",
   "execution_count": 14,
   "id": "654e0a44",
   "metadata": {},
   "outputs": [
    {
     "name": "stdout",
     "output_type": "stream",
     "text": [
      "List with doubled values of odd numbers: [2, 2, 6, 4, 10, 6, 14, 8, 18, 10]\n"
     ]
    }
   ],
   "source": [
    "#18.Write a code that doubles the values of add numbers from a given list.\n",
    "\n",
    "numbers = [1, 2, 3, 4, 5, 6, 7, 8, 9, 10]\n",
    "doubled_odd_numbers = [x * 2 if x % 2 != 0 else x for x in numbers]\n",
    "print(\"List with doubled values of odd numbers:\", doubled_odd_numbers)\n"
   ]
  },
  {
   "cell_type": "code",
   "execution_count": 16,
   "id": "51031bc6",
   "metadata": {},
   "outputs": [
    {
     "name": "stdout",
     "output_type": "stream",
     "text": [
      "Sum of cubes of numbers: 225\n"
     ]
    }
   ],
   "source": [
    "#19.Write a code that calculates the sum of cubes of numbers from a given list.\n",
    "\n",
    "numbers = [1, 2, 3, 4, 5]\n",
    "sum_of_cubes = sum(x**3 for x in numbers)\n",
    "print(\"Sum of cubes of numbers:\", sum_of_cubes)"
   ]
  },
  {
   "cell_type": "code",
   "execution_count": 17,
   "id": "e801a393",
   "metadata": {},
   "outputs": [
    {
     "name": "stdout",
     "output_type": "stream",
     "text": [
      "Prime numbers: [2, 3, 5, 7, 11, 13]\n"
     ]
    }
   ],
   "source": [
    "#20.Write a code that uses filters out prime numbers from a given list.\n",
    "\n",
    "def is_prime(n):\n",
    "    if n <= 1:\n",
    "        return False\n",
    "    for i in range(2, int(n**0.5) + 1):\n",
    "        if n % i == 0:\n",
    "            return False\n",
    "    return True\n",
    "numbers = [2, 3, 4, 5, 6, 7, 8, 9, 10, 11, 12, 13]\n",
    "prime_numbers = list(filter(is_prime, numbers))\n",
    "print(\"Prime numbers:\", prime_numbers)\n"
   ]
  },
  {
   "cell_type": "code",
   "execution_count": 18,
   "id": "de24c411",
   "metadata": {},
   "outputs": [
    {
     "name": "stdout",
     "output_type": "stream",
     "text": [
      "Sum of two numbers : 50\n"
     ]
    }
   ],
   "source": [
    "#21.Write a code that uses a lambda function to calculate the sum of two numbers.\n",
    "\n",
    "add = lambda x,y : x + y\n",
    "sum_of_two_number = add(20,30)\n",
    "print(\"Sum of two numbers :\",sum_of_two_number)\n"
   ]
  },
  {
   "cell_type": "code",
   "execution_count": 19,
   "id": "26d833c4",
   "metadata": {},
   "outputs": [
    {
     "name": "stdout",
     "output_type": "stream",
     "text": [
      "The square of 2 is 4.\n",
      "The square of 3 is 9.\n",
      "The square of 4 is 16.\n",
      "The square of 5 is 25.\n"
     ]
    }
   ],
   "source": [
    "#22.Write a code that uses a lambda function to calculate the square of a given number.\n",
    "quare = lambda num: num ** 2\n",
    "numbers = [2, 3, 4, 5]\n",
    "for number in numbers:\n",
    "    result = square(number)\n",
    "    print(f\"The square of {number} is {result}.\")\n"
   ]
  },
  {
   "cell_type": "code",
   "execution_count": 20,
   "id": "e0e6a27f",
   "metadata": {},
   "outputs": [
    {
     "name": "stdout",
     "output_type": "stream",
     "text": [
      "The number 3 is odd\n",
      "The number 4 is even \n",
      "The number 7 is odd\n",
      "The number 8 is even \n",
      "The number 10 is even \n",
      "The number 12 is even \n"
     ]
    }
   ],
   "source": [
    "#23.Write a code that uses a lambda function to check whether a given number us even or odd.\n",
    "\n",
    "check_even_odd = lambda num : \"even \" if num % 2 == 0 else \"odd\"\n",
    "numbers = [3,4,7,8,10,12]\n",
    "for number in numbers:\n",
    "    result = check_even_odd(number)\n",
    "    print(f\"The number {number} is {result}\")\n"
   ]
  },
  {
   "cell_type": "code",
   "execution_count": 22,
   "id": "3f10e124",
   "metadata": {},
   "outputs": [
    {
     "name": "stdout",
     "output_type": "stream",
     "text": [
      "Hello, world!\n"
     ]
    }
   ],
   "source": [
    "#24.Write a code that a lambda function to concatenate two strings.\n",
    "\n",
    "concatenate_strings = lambda str1, str2: str1 + str2\n",
    "result = concatenate_strings(\"Hello, \", \"world!\")\n",
    "print(result)\n"
   ]
  },
  {
   "cell_type": "code",
   "execution_count": 24,
   "id": "90261045",
   "metadata": {},
   "outputs": [
    {
     "name": "stdout",
     "output_type": "stream",
     "text": [
      "The maximum of (3, 5, 1) is 5.\n",
      "The maximum of (10, 7, 12) is 12.\n",
      "The maximum of (23, 45, 21) is 45.\n",
      "The maximum of (4, 4, 4) is 4.\n"
     ]
    }
   ],
   "source": [
    "#25.Write a code that uses a lambda function to find the maximum for three given numbers.\t\n",
    "max_of_three = lambda a, b, c: max(a, b, c)\n",
    "numbers = [\n",
    "    (3, 5, 1),\n",
    "    (10, 7, 12),\n",
    "    (23, 45, 21),\n",
    "    (4, 4, 4)\n",
    "]\n",
    "for num_tuple in numbers:\n",
    "    result = max_of_three(*num_tuple)\n",
    "    print(f\"The maximum of {num_tuple} is {result}.\")\n"
   ]
  },
  {
   "cell_type": "code",
   "execution_count": 25,
   "id": "74af64ad",
   "metadata": {},
   "outputs": [
    {
     "ename": "SyntaxError",
     "evalue": "invalid syntax (852031935.py, line 3)",
     "output_type": "error",
     "traceback": [
      "\u001b[1;36m  Cell \u001b[1;32mIn[25], line 3\u001b[1;36m\u001b[0m\n\u001b[1;33m    Encapsulation is a Python technique for combining data and functions into a single object. A class, for instance, contains all the data (methods and variables). Encapsulation refers to the broad concealment of an object's internal representation from areas outside of its specification. Assume, for instance, that you combine methods that provide read or write access with an attribute that is hidden from view on the exterior of an object. Then, you may limit who has access to the object's internal state and hide particular pieces of information. Without giving the program complete access to all of a class's variables, encapsulation provides a mechanism for us to obtain the necessary variable. This method is used to shield an object's data from other objects.\u001b[0m\n\u001b[1;37m                       ^\u001b[0m\n\u001b[1;31mSyntaxError\u001b[0m\u001b[1;31m:\u001b[0m invalid syntax\n"
     ]
    }
   ],
   "source": [
    "26.What is encapsulation in oop ?\n",
    "\n",
    "#Encapsulation is a Python technique for combining data and functions into a single object.\n",
    "#A class, for instance, contains all the data (methods and variables). \n",
    "#Encapsulation refers to the broad concealment of an object's internal representation from areas outside of its specification. \n",
    "#Assume, for instance, that you combine methods that provide read or write access with an attribute that is hidden from view on the exterior of an object. \n",
    "#Then, you may limit who has access to the object's internal state and hide particular pieces of information. Without giving the program complete access to all of a class's variables, encapsulation provides a mechanism for us to obtain the necessary variable. \n",
    "#This method is used to shield an object's data from other objects.\n"
   ]
  },
  {
   "cell_type": "code",
   "execution_count": null,
   "id": "72ad6964",
   "metadata": {},
   "outputs": [],
   "source": [
    "#27.Explain the use of access modifiers in python classes.\n",
    "\n",
    "#A class's data members and methods can be made private or protected in order to achieve encapsulation. Direct access modifiers like public, private, and protected don't exist in Python, though. Single and double underscores can be used to accomplish this. Modifiers for access control restrict use of a class's variables and methods. Private, public, and protected are the three different access modifier types that Python offers.\n",
    "\n",
    "#Public Member : Both inside and outside of a class, public data members are accessible. By default, the class's member variables are all public.\n",
    "\n",
    "#Private Member : By designating class variables as private, we may protect them. Add two underscores as a prefix to the beginning of a variable name to define it as a private variable. Private members can only be accessed within the class; they are not directly available from class objects. We can access private members  from outside of a  class using the following two approaches\n",
    "\n",
    " #   1.Create a public method to access private members of a class\n",
    "  #  2.By using name  mangling\n",
    "\n",
    "#Protected Member : Within the class and to its sub-classes, protected members can be accessed. Add a single underscore (_) before the member name to define it as a protected member. When you implement inheritance and wish to restrict access to data members to just child classes, you use protected data members.\n"
   ]
  },
  {
   "cell_type": "code",
   "execution_count": null,
   "id": "9209ba8b",
   "metadata": {},
   "outputs": [],
   "source": [
    "#28.What is inheritance in oop ?\n",
    "\n",
    " #Inheritance is a fundamental concept in object-oriented programming (OOP) that allows a class (called a subclass or derived class) to inherit properties and behaviors (methods) from another class (called a superclass or base class). Inheritance promotes code reusability and establishes a natural hierarchical relationship between classes, making it easier to create and maintain complex systems.\n"
   ]
  },
  {
   "cell_type": "code",
   "execution_count": null,
   "id": "7f89e3d7",
   "metadata": {},
   "outputs": [],
   "source": [
    "#29.What is polymorphism in oop ?\n",
    "#polymorphism refers to an object's capacity to assume several forms. Simply said, polymorphism enables us to carry out a single activity in a variety of ways Ex: Topic to covered: From the Greek words poly (many) and morphism (forms), we get polymorphism. Polymorphism is the capacity to assume several shapes\n"
   ]
  },
  {
   "cell_type": "code",
   "execution_count": null,
   "id": "59b14dd9",
   "metadata": {},
   "outputs": [],
   "source": [
    "#30.Explain method overriding in python.\n",
    "\n",
    "#In Python, method overriding is the process of providing a different implementation for a method that is already defined in the superclass within a subclass. It enables the subclass to define its own version of a method with the same name and parameters as the method in the superclass. When a method is overridden, the subclass implements the method in its own way, which overrides the behaviour defined in the superclass. The subclass can then alter or expand the functionality of the inherited method.\n"
   ]
  },
  {
   "cell_type": "code",
   "execution_count": 26,
   "id": "437b82c6",
   "metadata": {},
   "outputs": [
    {
     "name": "stdout",
     "output_type": "stream",
     "text": [
      "Woof!\n",
      "Generic animal sound\n"
     ]
    }
   ],
   "source": [
    "#31.Define a parent class Animal with a method make_sound thar prints “Generic animal sound ”. create a child class Dog inheriting form Animal with a make_sound that prints “Woof!”.\n",
    "class Animal:\n",
    "    def make_sound(self):\n",
    "        print(\"Generic animal sound\")\n",
    "class Dog(Animal):\n",
    "    def make_sound(self):\n",
    "        print(\"Woof!\")\n",
    "dog = Dog()\n",
    "dog.make_sound()  # Output: Woof!\n",
    "\n",
    "generic_animal = Animal()\n",
    "generic_animal.make_sound() # Output: Generic animal sound\n"
   ]
  },
  {
   "cell_type": "code",
   "execution_count": 27,
   "id": "d9905695",
   "metadata": {},
   "outputs": [
    {
     "name": "stdout",
     "output_type": "stream",
     "text": [
      "Animal moves\n",
      "Dog runs\n"
     ]
    }
   ],
   "source": [
    "#32.Define a method move in the Animal class thar prints “Animal moves ” Override the move method in the Dog class to print “Dog runs”.\n",
    "\n",
    "class Animal:\n",
    "    def move(self):\n",
    "        print(\"Animal moves\")\n",
    "class Dog(Animal):\n",
    "    def move(self):\n",
    "        print(\"Dog runs\")\n",
    "generic_animal = Animal() \n",
    "generic_animal.move() # Output: Animal moves\n",
    "dog = Dog() \n",
    "dog.move() # Output: Dog runs\n"
   ]
  },
  {
   "cell_type": "code",
   "execution_count": 28,
   "id": "f8b2ceb3",
   "metadata": {},
   "outputs": [
    {
     "name": "stdout",
     "output_type": "stream",
     "text": [
      "Dog runs\n",
      "Giving birth to live young\n"
     ]
    }
   ],
   "source": [
    "#33.Create a class Mammal with a method reproduce that prints “Giving birth to live young”. Create a class DogMammal inheriting from both Dog and Mammal.\n",
    "\n",
    "class Dog(Animal):\n",
    "    def move(self):\n",
    "        print(\"Dog runs\")\n",
    "\n",
    "class Mammal:\n",
    "    def reproduce(self):\n",
    "        print(\"Giving birth to live young\")\n",
    "\n",
    "class DogMammal(Dog, Mammal):\n",
    "    pass\n",
    "\n",
    "dog_mammal = DogMammal()\n",
    "dog_mammal.move()        # Output: Dog runs\n",
    "dog_mammal.reproduce()   # Output: Giving birth to live young\n"
   ]
  },
  {
   "cell_type": "code",
   "execution_count": 29,
   "id": "608f7c9e",
   "metadata": {},
   "outputs": [
    {
     "name": "stdout",
     "output_type": "stream",
     "text": [
      "Bark!\n"
     ]
    }
   ],
   "source": [
    "#34.Create a class GemanShepherd inheriting from Dog and override the make_sound method to print “Bark!”\n",
    "\n",
    "class Animal:\n",
    "    def make_sound(self):\n",
    "        print(\"Generic animal sound\")\n",
    "    def move(self):\n",
    "        print(\"Animal moves\")\n",
    "\n",
    "class Dog(Animal):\n",
    "    def make_sound(self):\n",
    "        print(\"Woof!\")\n",
    "    def move(self):\n",
    "        print(\"Dog runs\")\n",
    "\n",
    "class GermanShepherd(Dog):\n",
    "    def make_sound(self):\n",
    "        print(\"Bark!\")\n",
    "\n",
    "german_shepherd = GermanShepherd()\n",
    "german_shepherd.make_sound()  # Output: Bark!\n"
   ]
  },
  {
   "cell_type": "code",
   "execution_count": 30,
   "id": "c15764cf",
   "metadata": {},
   "outputs": [
    {
     "name": "stdout",
     "output_type": "stream",
     "text": [
      "Animal Name: Generic Animal\n",
      "Generic animal sound\n",
      "Animal moves\n",
      "Dog Name: Buddy, Breed: Golden Retriever\n",
      "Woof!\n",
      "Dog runs\n"
     ]
    }
   ],
   "source": [
    "#35.Define constructors in both the Animal And Dog classes with different initialization  parameters.\n",
    "class Animal:\n",
    "    def __init__(self, name):\n",
    "        self.name = name\n",
    "    \n",
    "    def make_sound(self):\n",
    "        print(\"Generic animal sound\")\n",
    "    \n",
    "    def move(self):\n",
    "        print(\"Animal moves\")\n",
    "\n",
    "class Dog(Animal):\n",
    "    def __init__(self, name, breed):\n",
    "        super().__init__(name)\n",
    "        self.breed = breed\n",
    "    \n",
    "    def make_sound(self):\n",
    "        print(\"Woof!\")\n",
    "    \n",
    "    def move(self):\n",
    "        print(\"Dog runs\")\n",
    "\n",
    "# Example usage:\n",
    "generic_animal = Animal(\"Generic Animal\")\n",
    "print(f\"Animal Name: {generic_animal.name}\")  # Output: Animal Name: Generic Animal\n",
    "generic_animal.make_sound()  # Output: Generic animal sound\n",
    "generic_animal.move()        # Output: Animal moves\n",
    "\n",
    "dog = Dog(\"Buddy\", \"Golden Retriever\")\n",
    "print(f\"Dog Name: {dog.name}, Breed: {dog.breed}\")  # Output: Dog Name: Buddy, Breed: Golden Retriever\n",
    "dog.make_sound()  # Output: Woof!\n",
    "dog.move()        # Output: Dog runs\n"
   ]
  },
  {
   "cell_type": "code",
   "execution_count": 32,
   "id": "9760e844",
   "metadata": {},
   "outputs": [
    {
     "name": "stdout",
     "output_type": "stream",
     "text": [
      "Woof!\n",
      "Dog runs\n"
     ]
    }
   ],
   "source": [
    "#36.What is abstraction in python? How is it implemented?\n",
    "#abstraction is a key idea in object-oriented programming (OOP) that allows you to describe complicated systems by hiding unneeded details and exposing just essential aspects. It aids in the management of programme complexity by breaking it down into smaller, more manageable sections. \n",
    "#Classes and objects are used to accomplish abstraction. A class is a blueprint for constructing objects, whereas an object is a class instance.  \n",
    "\n",
    "#The class defines the properties (attributes) and behaviours (methods) of the class's objects.Abstraction allows you to construct abstract classes and methods that give a high-level interface without providing the implementation specifics.  Abstract classes cannot be instantiated and must be subclassed. \n",
    "\n",
    "#They may contain abstract methods that are declared but not implemented in the abstract class itself. Subclasses are in charge of implementing these abstract methods.\n",
    "\n",
    "#The abc (Abstract Base Classes) module in Python provides the infrastructure for defining abstract base classes and methods.\n",
    "\n",
    "\n",
    "\n",
    "from abc import ABC, abstractmethod\n",
    "class Animal(ABC):\n",
    "    @abstractmethod\n",
    "    def make_sound(self):\n",
    "        pass\n",
    "    @abstractmethod\n",
    "    def move(self):\n",
    "        pass\n",
    "\n",
    "class Dog(Animal):\n",
    "    def make_sound(self):\n",
    "        print(\"Woof!\")\n",
    "    def move(self):\n",
    "        print(\"Dog runs\")\n",
    "\n",
    "# Example usage:\n",
    "dog = Dog()\n",
    "dog.make_sound()  # Output: Woof!\n",
    "dog.move()        # Output: Dog runs\n",
    "# The following will raise an error because you cannot instantiate an abstract class\n",
    "# generic_animal = Animal()\n"
   ]
  },
  {
   "cell_type": "code",
   "execution_count": 34,
   "id": "1a6e2611",
   "metadata": {},
   "outputs": [],
   "source": [
    "#37.Explain the importance of abstraction in object oriented programming.\n",
    "\n",
    "#Abstraction in object-oriented programming simplifies complex systems by exposing only essential features and hiding implementation details. It enhances code maintainability by allowing changes in implementation without affecting users of the class. Abstraction also promotes code reusability through abstract classes and interfaces, facilitating a clear contract for subclasses. It improves collaboration and communication by providing a high-level understanding of the system's components. Additionally, abstraction supports the implementation of design patterns, leading to more flexible and scalable software architectures.\n"
   ]
  },
  {
   "cell_type": "code",
   "execution_count": 35,
   "id": "c1159297",
   "metadata": {},
   "outputs": [],
   "source": [
    "#38.How are abstract methods different from regular methods in python?\n",
    "\n",
    "#Abstract Methods:\n",
    " #Abstract methods are declared in abstract classes or interfaces and serve as placeholders for methods that must be implemented by subclasses. They do not have any implementation in the abstract class.\n",
    "\n",
    "#Regular Methods: \n",
    "#Regular methods have complete implementations in the class where they are defined. They can be called directly on instances of the class.\n",
    "\n"
   ]
  },
  {
   "cell_type": "code",
   "execution_count": 36,
   "id": "68de8c4f",
   "metadata": {},
   "outputs": [],
   "source": [
    "#39.How can you achieve abstraction using interfaces in python?\n",
    "\n",
    "#In Python, abstraction using interfaces can be achieved through abstract base classes (ABCs) and abstract methods. The abc module provides the infrastructure for defining interfaces and abstract methods. Here's how you can achieve abstraction using interfaces in Python:\n",
    "\n",
    "#Define an Abstract Base Class (ABC):\n",
    "#Inherit from ABC and define abstract methods using the @abstractmethod decorator.\n",
    "\n",
    "#Implement Concrete Classes:\n",
    "#Create concrete subclasses that inherit from the abstract base class and provide implementations for the abstract methods.\n",
    "\n",
    "#Use Interface Polymorphism:\n",
    "#Treat instances of concrete classes as instances of the interface, allowing for polymorphic behavior.\n"
   ]
  },
  {
   "cell_type": "code",
   "execution_count": 38,
   "id": "220f5c01",
   "metadata": {},
   "outputs": [
    {
     "name": "stdout",
     "output_type": "stream",
     "text": [
      "Car started.\n",
      "Car stopped.\n",
      "Motorcycle started.\n",
      "Motorcycle stopped.\n",
      "Truck started.\n",
      "Truck stopped.\n"
     ]
    }
   ],
   "source": [
    "#40.Can you  provide an example of how abstraction can be utilized to create a common interface for a group of related classes in python?\n",
    "\n",
    "from abc import ABC, abstractmethod\n",
    "\n",
    "# Abstract base class (interface)\n",
    "class Vehicle(ABC):\n",
    "    @abstractmethod\n",
    "    def start(self):\n",
    "        pass\n",
    "    \n",
    "    @abstractmethod\n",
    "    def stop(self):\n",
    "        pass\n",
    "\n",
    "# Concrete classes implementing the Vehicle interface\n",
    "class Car(Vehicle):\n",
    "    def start(self):\n",
    "        print(\"Car started.\")\n",
    "    \n",
    "    def stop(self):\n",
    "        print(\"Car stopped.\")\n",
    "\n",
    "class Motorcycle(Vehicle):\n",
    "    def start(self):\n",
    "        print(\"Motorcycle started.\")\n",
    "    \n",
    "    def stop(self):\n",
    "        print(\"Motorcycle stopped.\")\n",
    "\n",
    "class Truck(Vehicle):\n",
    "    def start(self):\n",
    "        print(\"Truck started.\")\n",
    "    \n",
    "    def stop(self):\n",
    "        print(\"Truck stopped.\")\n",
    "\n",
    "# Example usage\n",
    "car = Car()\n",
    "car.start()  # Output: Car started.\n",
    "car.stop()   # Output: Car stopped.\n",
    "\n",
    "motorcycle = Motorcycle()\n",
    "motorcycle.start()  # Output: Motorcycle started.\n",
    "motorcycle.stop()   # Output: Motorcycle stopped.\n",
    "\n",
    "truck = Truck()\n",
    "truck.start()  # Output: Truck started.\n",
    "truck.stop()   # Output: Truck stopped.\n"
   ]
  },
  {
   "cell_type": "code",
   "execution_count": 39,
   "id": "b27657e5",
   "metadata": {},
   "outputs": [],
   "source": [
    "#41.How does python achieve polymorphism though method overriding.\n",
    "\n",
    "#Python achieves polymorphism through method overriding, which allows subclasses to provide a specific implementation for a method that is already defined in their superclass. This concept is fundamental to achieving polymorphic behavior, where different objects can be treated uniformly through a common interface, even though they may have different implementations of the same method.\n",
    "#Here's how Python achieves polymorphism through method overriding:\n",
    "\n",
    "#Inheritance:\n",
    "#Subclasses inherit methods from their superclasses. If a subclass defines a method with the same name as a method in its superclass, it overrides the superclass's method.\n",
    "\n"
   ]
  },
  {
   "cell_type": "code",
   "execution_count": 40,
   "id": "c80ad32e",
   "metadata": {},
   "outputs": [
    {
     "name": "stdout",
     "output_type": "stream",
     "text": [
      "Generic animal sound\n",
      "Woof!\n"
     ]
    }
   ],
   "source": [
    "#42.Define a base class with a method and a subclass thar overrides the method.\n",
    "\n",
    "class Animal:\n",
    "    def make_sound(self):\n",
    "        print(\"Generic animal sound\")\n",
    "\n",
    "class Dog(Animal):\n",
    "    def make_sound(self):\n",
    "        print(\"Woof!\")\n",
    "\n",
    "animal = Animal()\n",
    "animal.make_sound()  # Output: Generic animal sound\n",
    "\n",
    "dog = Dog()\n",
    "dog.make_sound()  # Output: Woof!\n"
   ]
  },
  {
   "cell_type": "code",
   "execution_count": 41,
   "id": "deef7d83",
   "metadata": {},
   "outputs": [
    {
     "name": "stdout",
     "output_type": "stream",
     "text": [
      "Rectangle Area: 50\n",
      "Circle Area: 153.86\n"
     ]
    }
   ],
   "source": [
    "#43.Define a base class and multiple subclass with overridden method.\n",
    "class Shape:\n",
    "    def calculate_area(self):\n",
    "        pass\n",
    "\n",
    "class Rectangle(Shape):\n",
    "    def __init__(self, length, width):\n",
    "        self.length = length\n",
    "        self.width = width\n",
    "    \n",
    "    def calculate_area(self):\n",
    "        return self.length * self.width\n",
    "\n",
    "class Circle(Shape):\n",
    "    def __init__(self, radius):\n",
    "        self.radius = radius\n",
    "    \n",
    "    def calculate_area(self):\n",
    "        return 3.14 * self.radius * self.radius\n",
    "\n",
    "rectangle = Rectangle(5, 10)\n",
    "print(\"Rectangle Area:\", rectangle.calculate_area())  # Output: Rectangle Area: 50\n",
    "\n",
    "circle = Circle(7)\n",
    "print(\"Circle Area:\", circle.calculate_area())  # Output: Circle Area: 153.86\n"
   ]
  },
  {
   "cell_type": "code",
   "execution_count": 42,
   "id": "cc085346",
   "metadata": {},
   "outputs": [
    {
     "name": "stdout",
     "output_type": "stream",
     "text": [
      "Woof!\n",
      "Meow!\n"
     ]
    }
   ],
   "source": [
    "#44.How does polymorphism improve code readability and reusability?\n",
    "\n",
    "#Simplifies Code Understanding\n",
    "#Unified Interface: Polymorphism allows objects of different classes to be treated as objects of a common super class. This means that a single function can operate on objects of different types, which simplifies understanding how different objects are handled.\n",
    "\n",
    "class Animal:\n",
    "    def speak(self):\n",
    "        pass\n",
    "\n",
    "class Dog(Animal):\n",
    "    def speak(self):\n",
    "        return \"Woof!\"\n",
    "\n",
    "class Cat(Animal):\n",
    "    def speak(self):\n",
    "        return \"Meow!\"\n",
    "\n",
    "def make_animal_speak(animal: Animal):\n",
    "    print(animal.speak())\n",
    "\n",
    "make_animal_speak(Dog())  # Outputs: Woof!\n",
    "make_animal_speak(Cat())  # Outputs: Meow!\n",
    "\n"
   ]
  },
  {
   "cell_type": "code",
   "execution_count": 44,
   "id": "c04c9784",
   "metadata": {},
   "outputs": [],
   "source": [
    "#45.Describe how python supports polymorphism with duck typing.\n",
    "\n",
    "#Python supports polymorphism through duck typing, a concept where the type or class of an object is determined by the presence of certain methods and properties, rather than the object's actual type. In duck typing, if an object behaves like a duck (i.e., it has all the necessary methods and properties), it can be treated as a duck, regardless of its actual type.\n",
    "\n",
    "#Key Aspects of Duck Typing\n",
    "#Behavior Over Type: In duck typing, an object's suitability is determined by its methods and properties rather than its inheritance from a specific class.\n",
    "\n",
    "#Flexibility: Duck typing allows for more flexible and reusable code since functions and methods can operate on any object that meets the required interface, not just objects of a specific type.\n",
    "\n",
    "#No Explicit Interface: Unlike statically-typed languages that require explicit interfaces or base classes, duck typing relies on the presence of methods and properties at runtime.\n"
   ]
  },
  {
   "cell_type": "code",
   "execution_count": 45,
   "id": "d93086b7",
   "metadata": {},
   "outputs": [],
   "source": [
    "#46.How do you achieve encapsulation in python.\n",
    "\n",
    "#Encapsulation is one of the fundamental principles of object-oriented programming (OOP). It refers to the bundling of data (attributes) and methods (functions) that operate on the data into a single unit, typically a class, and restricting access to some of the object's components. This means that the internal representation of an object is hidden from the outside, and access to it is controlled through public methods.\n",
    "#Python, encapsulation is achieved using:\n",
    "#Public Members: Accessible from anywhere.\n",
    "\n",
    "#Protected Members: Indicated by a single underscore prefix (_), intended to be accessed only within the class and its subclasses.\n",
    "\n",
    "#Private Members: Indicated by a double underscore prefix (__), intended to be accessible only within the class itself.\n"
   ]
  },
  {
   "cell_type": "code",
   "execution_count": 47,
   "id": "7bdd758c",
   "metadata": {},
   "outputs": [
    {
     "name": "stdout",
     "output_type": "stream",
     "text": [
      "42\n",
      "42\n",
      "This is hidden\n"
     ]
    }
   ],
   "source": [
    "#47.Can encapsulation be bypasses in python? If no, how?\n",
    "\n",
    "#Encapsulation in Python is primarily implemented through convention rather than enforced language rules. Private attributes in Python are indicated by a leading underscore (_) or double underscore (__). However, these conventions can be bypassed.\n",
    "\n",
    "#Bypassing Encapsulation in Python\n",
    "#Single Underscore _: This is a convention indicating that an attribute or method is intended for internal use only. There is no actual enforcement, so you can still access it directly.\n",
    "class MyClass:\n",
    "    def __init__(self):\n",
    "        self._internal = 42\n",
    "\n",
    "obj = MyClass()\n",
    "print(obj._internal)  # Output: 42\n",
    "\n",
    "#Double Underscore __: This triggers name mangling where the interpreter changes the name of the attribute to include the class name. This makes it harder (but not impossible) to access it from outside the class.\n",
    "class MyClass:\n",
    "    def __init__(self):\n",
    "        self.__private = 42\n",
    "\n",
    "obj = MyClass()\n",
    "print(obj._MyClass__private)  # Output: 42\n",
    "\n",
    "#Using Name Mangling :\n",
    "#Even with double underscore attributes, you can access them by knowing how Python transforms their names. This transformation is done by adding _ClassName before the attribute name.\n",
    "\n",
    "class Example:\n",
    "    def __init__(self):\n",
    "        self.__hidden = \"This is hidden\"\n",
    "\n",
    "obj = Example()\n",
    "print(obj._Example__hidden)  # Output: This is hidden\n"
   ]
  },
  {
   "cell_type": "code",
   "execution_count": 49,
   "id": "db15f069",
   "metadata": {},
   "outputs": [
    {
     "name": "stdout",
     "output_type": "stream",
     "text": [
      "Initial balance: 100\n",
      "Balance after deposit: 150\n",
      "Balance after withdrawal: 120\n",
      "Withdrawal amount must be positive and not exceed the balance.\n",
      "Insufficient funds\n",
      "Final balance: 120\n"
     ]
    }
   ],
   "source": [
    "#48.Implement a class BankAccount with a private balance attribute. Include methods to deposit, withdraw, and check the balance.\n",
    "class BankAccount:\n",
    "    def __init__(self, initial_balance=0):\n",
    "        self.__balance = initial_balance\n",
    "\n",
    "    def deposit(self, amount):\n",
    "        if amount > 0:\n",
    "            self.__balance += amount\n",
    "            return True\n",
    "        else:\n",
    "            print(\"Deposit amount must be positive.\")\n",
    "            return False\n",
    "\n",
    "    def withdraw(self, amount):\n",
    "        if 0 < amount <= self.__balance:\n",
    "            self.__balance -= amount\n",
    "            return True\n",
    "        else:\n",
    "            print(\"Withdrawal amount must be positive and not exceed the balance.\")\n",
    "            return False\n",
    "\n",
    "    def check_balance(self):\n",
    "        return self.__balance\n",
    "\n",
    "# Example usage\n",
    "account = BankAccount(100)  # Initial balance of 100\n",
    "print(\"Initial balance:\", account.check_balance())  # Output: Initial balance: 100\n",
    "\n",
    "account.deposit(50)\n",
    "print(\"Balance after deposit:\", account.check_balance())  # Output: Balance after deposit: 150\n",
    "\n",
    "account.withdraw(30)\n",
    "print(\"Balance after withdrawal:\", account.check_balance())  # Output: Balance after withdrawal: 120\n",
    "\n",
    "if not account.withdraw(200):\n",
    "    print(\"Insufficient funds\")  # Output: Insufficient funds\n",
    "\n",
    "print(\"Final balance:\", account.check_balance())  # Output: Final balance: 120\n"
   ]
  },
  {
   "cell_type": "code",
   "execution_count": 50,
   "id": "cb4a7c3c",
   "metadata": {},
   "outputs": [
    {
     "name": "stdout",
     "output_type": "stream",
     "text": [
      "Email: john.doe@example.com\n"
     ]
    }
   ],
   "source": [
    "#49.Develop a person class with private attributes name and email , and method to get the email.\n",
    "class Person:\n",
    "    def __init__(self, name, email):\n",
    "        self.__name = name\n",
    "        self.__email = email\n",
    "\n",
    "    def get_email(self):\n",
    "        return self.__email\n",
    "\n",
    "person = Person(\"John Doe\", \"john.doe@example.com\")\n",
    "print(\"Email:\", person.get_email())  # Output: Email: john.doe@example.com\n"
   ]
  },
  {
   "cell_type": "code",
   "execution_count": 51,
   "id": "d840cb01",
   "metadata": {},
   "outputs": [],
   "source": [
    "#50.Why is encapsulation considered a pillar of object – oriented programming.\n",
    "\n",
    "#1. Data Protection and Integrity\n",
    "#Encapsulation helps protect an object's internal state by restricting direct access to its attributes. This ensures that the data can only be modified in controlled ways, typically through methods provided by the class. This prevents unauthorized or unintended modifications, preserving the integrity and consistency of the data.\n",
    "\n",
    "#2. Modularity and Maintainability\n",
    "#Encapsulation promotes modularity by separating an object's internal implementation from its external interface. This separation allows developers to modify the internal workings of a class without affecting code that depends on the class. As a result, the codebase becomes easier to maintain and evolve over time.\n",
    "\n",
    "#3. Abstraction\n",
    "#Encapsulation supports the principle of abstraction by exposing only the essential features and hiding the unnecessary details. Users of the class interact with a simplified interface, making the code easier to understand and use. This abstraction allows developers to focus on high-level design without getting bogged down by implementation details.\n",
    "\n",
    "#4. Control and Flexibility\n",
    "#By controlling access to an object's data, encapsulation allows the class to enforce rules and constraints on the data. For example, a class can ensure that a balance attribute never becomes negative by only allowing valid withdrawals through a method. This control adds flexibility, as the class can evolve its rules and constraints without impacting external code.\n",
    "\n",
    "#5. Reduced Complexity\n",
    "#Encapsulation helps manage complexity by creating well-defined boundaries between different parts of a program. Each class encapsulates its own data and behavior, reducing the interdependencies between classes. This leads to a more organized and manageable code structure.\n",
    "\n",
    "#6. Enhanced Reusability\n",
    "#Encapsulated classes are more self-contained and can often be reused across different projects or parts of a program. Since the internal implementation is hidden, other parts of the program rely only on the public interface, making it easier to adapt the class for different uses.\n"
   ]
  },
  {
   "cell_type": "code",
   "execution_count": 52,
   "id": "5585ca19",
   "metadata": {},
   "outputs": [
    {
     "name": "stdout",
     "output_type": "stream",
     "text": [
      "something is happening before the function is called.\n",
      "this is a simple function.\n",
      "something is happening after the function is called. \n"
     ]
    }
   ],
   "source": [
    "#51.Create a decorate in python that adds functionality to a simple function by printing a message before and after the function execution.\n",
    "\n",
    "def my_decorator(func):\n",
    "    def wapper():\n",
    "        print(\"something is happening before the function is called.\")\n",
    "        func()\n",
    "        print(\"something is happening after the function is called. \")\n",
    "    return wapper\n",
    "@my_decorator\n",
    "def simple_function():\n",
    "    print(\"this is a simple function.\")\n",
    "simple_function()\n"
   ]
  },
  {
   "cell_type": "code",
   "execution_count": 53,
   "id": "4d1711b5",
   "metadata": {},
   "outputs": [
    {
     "name": "stdout",
     "output_type": "stream",
     "text": [
      "Starting function execution - Function 'simple_function' is running\n",
      "Function is running\n",
      "Function execution finished - Function 'simple_function' execution completed\n"
     ]
    }
   ],
   "source": [
    "#52.Modify the decorator to accept arguments and print the function name along with the message.\n",
    "\n",
    "def print_messages_decorator_with_args(message_before, message_after):\n",
    "    def decorator(func):\n",
    "        def wrapper(*args, **kwargs):\n",
    "            print(f\"{message_before} - Function '{func.__name__}' is running\")\n",
    "            result = func(*args, **kwargs)\n",
    "            print(f\"{message_after} - Function '{func.__name__}' execution completed\")\n",
    "            return result\n",
    "        return wrapper\n",
    "    return decorator\n",
    "\n",
    "@print_messages_decorator_with_args(\"Starting function execution\", \"Function execution finished\")\n",
    "def simple_function():\n",
    "    print(\"Function is running\")\n",
    "simple_function()\n"
   ]
  },
  {
   "cell_type": "code",
   "execution_count": 55,
   "id": "5401a397",
   "metadata": {},
   "outputs": [
    {
     "name": "stdout",
     "output_type": "stream",
     "text": [
      "First decorator - Before function execution\n",
      "Second decorator - Before function execution\n",
      "Decorated function is running\n",
      "Second decorator - After function execution\n",
      "First decorator - After function execution\n"
     ]
    }
   ],
   "source": [
    "#53.Create two decorates, and apply the, to a single function, ensure that they execute in the order they are applied.\n",
    "def first_decorator(func):\n",
    "    def wrapper(*args, **kwargs):\n",
    "        print(\"First decorator - Before function execution\")\n",
    "        result = func(*args, **kwargs)\n",
    "        print(\"First decorator - After function execution\")\n",
    "        return result\n",
    "    return wrapper\n",
    "\n",
    "def second_decorator(func):\n",
    "    def wrapper(*args, **kwargs):\n",
    "        print(\"Second decorator - Before function execution\")\n",
    "        result = func(*args, **kwargs)\n",
    "        print(\"Second decorator - After function execution\")\n",
    "        return result\n",
    "    return wrapper\n",
    "\n",
    "@first_decorator\n",
    "@second_decorator\n",
    "def decorated_function():\n",
    "    print(\"Decorated function is running\")\n",
    "decorated_function()\n"
   ]
  },
  {
   "cell_type": "code",
   "execution_count": 56,
   "id": "700da2ce",
   "metadata": {},
   "outputs": [
    {
     "name": "stdout",
     "output_type": "stream",
     "text": [
      "First decorator - Before function execution\n",
      "Second decorator - Before function execution\n",
      "Decorated function is running with argument: John\n",
      "Second decorator - After function execution\n",
      "First decorator - After function execution\n"
     ]
    }
   ],
   "source": [
    "#54.Modify the decorator to accept and pass function arguments to the wrapped function.\n",
    "def first_decorator(func):\n",
    "    def wrapper(*args, **kwargs):\n",
    "        print(\"First decorator - Before function execution\")\n",
    "        result = func(*args, **kwargs)  # Pass arguments to the wrapped function\n",
    "        print(\"First decorator - After function execution\")\n",
    "        return result\n",
    "    return wrapper\n",
    "\n",
    "def second_decorator(func):\n",
    "    def wrapper(*args, **kwargs):\n",
    "        print(\"Second decorator - Before function execution\")\n",
    "        result = func(*args, **kwargs)  # Pass arguments to the wrapped function\n",
    "        print(\"Second decorator - After function execution\")\n",
    "        return result\n",
    "    return wrapper\n",
    "\n",
    "@first_decorator\n",
    "@second_decorator\n",
    "def decorated_function(name):\n",
    "    print(f\"Decorated function is running with argument: {name}\")\n",
    "decorated_function(\"John\")\n"
   ]
  },
  {
   "cell_type": "code",
   "execution_count": 57,
   "id": "84dc9e39",
   "metadata": {},
   "outputs": [
    {
     "name": "stdout",
     "output_type": "stream",
     "text": [
      "example_function\n",
      "This is an example function.\n"
     ]
    }
   ],
   "source": [
    "#55.Create a decorator thar preserves the metadata of the original function\n",
    "from functools import wraps\n",
    "\n",
    "def preserve_metadata(func):\n",
    "    @wraps(func)\n",
    "    def wrapper(*args, **kwargs):\n",
    "        \"\"\"Wrapper function to preserve metadata.\"\"\"\n",
    "        return func(*args, **kwargs)\n",
    "    return wrapper\n",
    "\n",
    "@preserve_metadata\n",
    "def example_function(x, y):\n",
    "    \"\"\"This is an example function.\"\"\"\n",
    "    return x + y\n",
    "\n",
    "# Accessing metadata of the original function\n",
    "print(example_function.__name__)  # Output: example_function\n",
    "print(example_function.__doc__)   # Output: This is an example function.\n"
   ]
  },
  {
   "cell_type": "code",
   "execution_count": 59,
   "id": "0ec9abbc",
   "metadata": {},
   "outputs": [
    {
     "name": "stdout",
     "output_type": "stream",
     "text": [
      "8\n"
     ]
    }
   ],
   "source": [
    "#56.Create a python class ‘Calculator’ with a static method ‘add’ that takes in two numbers and returns their sum.\n",
    "\n",
    "class Calculator:\n",
    "    @staticmethod\n",
    "    def add(a, b):\n",
    "        return a + b\n",
    "\n",
    "result = Calculator.add(5, 3)\n",
    "print(result)  # Output: 8\n"
   ]
  },
  {
   "cell_type": "code",
   "execution_count": 60,
   "id": "33305119",
   "metadata": {},
   "outputs": [
    {
     "name": "stdout",
     "output_type": "stream",
     "text": [
      "8\n"
     ]
    }
   ],
   "source": [
    "#57.Create a python class ‘Employee’ with a class ‘method get_employee_count’ thar return the total number of employees created.\n",
    "class Calculator:\n",
    "    @staticmethod\n",
    "    def add(a, b):\n",
    "        return a + b\n",
    "\n",
    "result = Calculator.add(5, 3)\n",
    "print(result)  # Output: 8\n"
   ]
  },
  {
   "cell_type": "code",
   "execution_count": 61,
   "id": "c20dedf7",
   "metadata": {},
   "outputs": [
    {
     "name": "stdout",
     "output_type": "stream",
     "text": [
      "!dlrow ,olleH\n"
     ]
    }
   ],
   "source": [
    "#58.Create a python class ‘StringFormatter’ with static method ‘reverse_string’ that takes a string as input and returns its reverse.\n",
    "\n",
    "class StringFormatter:\n",
    "    @staticmethod\n",
    "    def reverse_string(s):\n",
    "        return s[::-1]\n",
    "result = StringFormatter.reverse_string(\"Hello, world!\")\n",
    "print(result)  # Output: !dlrow ,olleH\n"
   ]
  },
  {
   "cell_type": "code",
   "execution_count": 62,
   "id": "2d100c89",
   "metadata": {},
   "outputs": [
    {
     "name": "stdout",
     "output_type": "stream",
     "text": [
      "The area of the circle with radius 5 is 78.53981633974483\n"
     ]
    }
   ],
   "source": [
    "#59.Create a python class ‘Circle’ with a class method ‘Calculate_area’ that calculates the area of a circle given its radius.\n",
    "\n",
    "import math\n",
    "class Circle:\n",
    "    @classmethod\n",
    "    def calculate_area(cls, radius):\n",
    "        return math.pi * radius ** 2\n",
    "radius = 5\n",
    "area = Circle.calculate_area(radius)\n",
    "print(f\"The area of the circle with radius {radius} is {area}\")\n"
   ]
  },
  {
   "cell_type": "code",
   "execution_count": 64,
   "id": "1c39dc89",
   "metadata": {},
   "outputs": [
    {
     "name": "stdout",
     "output_type": "stream",
     "text": [
      "25°C is equal to 77.0°F\n"
     ]
    }
   ],
   "source": [
    "#60.Create a python class ‘TemperatureConverter’ with a static method ‘celsius_to_fahrenheit’ that converts Celsius to Fahrenheit.\n",
    "\n",
    "class TemperatureConverter:\n",
    "    @staticmethod\n",
    "    def celsius_to_fahrenheit(celsius):\n",
    "        return (celsius * 9/5) + 32\n",
    "\n",
    "# Example usage\n",
    "celsius_temp = 25\n",
    "fahrenheit_temp = TemperatureConverter.celsius_to_fahrenheit(celsius_temp)\n",
    "print(f\"{celsius_temp}°C is equal to {fahrenheit_temp}°F\")\n"
   ]
  },
  {
   "cell_type": "code",
   "execution_count": 66,
   "id": "3f653781",
   "metadata": {},
   "outputs": [
    {
     "name": "stdout",
     "output_type": "stream",
     "text": [
      "Person: Alice, Age: 30\n"
     ]
    }
   ],
   "source": [
    "#61.What is the purpose of the __str__() method in python classes? Provide an example.\n",
    "\n",
    "#The __str__() method in Python classes is used to define how an instance of the class should be represented as a string. It is called when the str() function is used on an object or when the object is passed to print().\n",
    "\n",
    "class Person:\n",
    "    def __init__(self, name, age):\n",
    "        self.name = name\n",
    "        self.age = age\n",
    "\n",
    "    def __str__(self):\n",
    "        return f\"Person: {self.name}, Age: {self.age}\"\n",
    "\n",
    "person1 = Person(\"Alice\", 30)\n",
    "print(person1)\n"
   ]
  },
  {
   "cell_type": "code",
   "execution_count": 68,
   "id": "1c4fda55",
   "metadata": {},
   "outputs": [
    {
     "name": "stdout",
     "output_type": "stream",
     "text": [
      "5\n"
     ]
    }
   ],
   "source": [
    "#62.How does the __len__() method work in python? Provide an example.\n",
    "\n",
    "#The __len__() method in Python is used to define the length of an object. It allows custom classes to support the len() function, which is typically used to get the length of sequences such as lists, tuples, and strings.\n",
    "class CustomList:\n",
    "    def __init__(self, elements):\n",
    "        self.elements = elements\n",
    "\n",
    "    def __len__(self):\n",
    "        return len(self.elements)\n",
    "\n",
    "custom_list = CustomList([1, 2, 3, 4, 5])\n",
    "print(len(custom_list))  # Output: 5\n"
   ]
  },
  {
   "cell_type": "code",
   "execution_count": 69,
   "id": "e6987024",
   "metadata": {},
   "outputs": [
    {
     "name": "stdout",
     "output_type": "stream",
     "text": [
      "(4, 6)\n"
     ]
    }
   ],
   "source": [
    "#63.Explain the usage of the __add__() method in python classes. provide an example.\n",
    "#The __add__() method in Python classes is used to define the behavior of the addition operator + when applied to instances of the class. This allows you to customize how objects of your class are combined or concatenated using the + operator.\n",
    "\n",
    "class Point:\n",
    "    def __init__(self, x, y):\n",
    "        self.x = x\n",
    "        self.y = y\n",
    "    def __add__(self, other):\n",
    "        if isinstance(other, Point):\n",
    "            return Point(self.x + other.x, self.y + other.y)\n",
    "        else:\n",
    "            raise TypeError(\"Unsupported operand type for +: Point and {}\".format(type(other)))\n",
    "    def __str__(self):\n",
    "        return f\"({self.x}, {self.y})\"\n",
    "\n",
    "point1 = Point(1, 2)\n",
    "point2 = Point(3, 4)\n",
    "result = point1 + point2\n",
    "print(result)  # Output: (4, 6)\n"
   ]
  },
  {
   "cell_type": "code",
   "execution_count": 70,
   "id": "69b77f71",
   "metadata": {},
   "outputs": [
    {
     "name": "stdout",
     "output_type": "stream",
     "text": [
      "0\n",
      "1\n",
      "4\n",
      "9\n",
      "16\n",
      "4\n",
      "16\n"
     ]
    }
   ],
   "source": [
    "#64.What is the purpose of the __getitem__() method in python? Provide an example using iterators.\n",
    "\n",
    "#The __getitem__() method in Python is used to access elements of an object using the indexing syntax ([]). It allows objects to support indexing and slicing operations, similar to how built-in sequences like lists, tuples, and dictionaries work.\n",
    "\n",
    "class Squares:\n",
    "    def __init__(self, limit):\n",
    "        self.limit = limit\n",
    "\n",
    "    def __getitem__(self, index):\n",
    "        if index < self.limit:\n",
    "            return index ** 2\n",
    "        else:\n",
    "            raise IndexError(\"Index out of range\")\n",
    "\n",
    "squares = Squares(5)\n",
    "\n",
    "for i in squares:\n",
    "    print(i)\n",
    "\n",
    "print(squares[2])  # Output: 4\n",
    "print(squares[4])  # Output: 16\n"
   ]
  },
  {
   "cell_type": "code",
   "execution_count": 73,
   "id": "e0845e8c",
   "metadata": {},
   "outputs": [
    {
     "name": "stdout",
     "output_type": "stream",
     "text": [
      "1\n",
      "2\n",
      "3\n",
      "4\n",
      "1\n",
      "2\n",
      "3\n",
      "4\n"
     ]
    },
    {
     "ename": "StopIteration",
     "evalue": "",
     "output_type": "error",
     "traceback": [
      "\u001b[1;31m---------------------------------------------------------------------------\u001b[0m",
      "\u001b[1;31mStopIteration\u001b[0m                             Traceback (most recent call last)",
      "Cell \u001b[1;32mIn[73], line 33\u001b[0m\n\u001b[0;32m     31\u001b[0m \u001b[38;5;28mprint\u001b[39m(\u001b[38;5;28mnext\u001b[39m(iterator))  \u001b[38;5;66;03m# Output: 3\u001b[39;00m\n\u001b[0;32m     32\u001b[0m \u001b[38;5;28mprint\u001b[39m(\u001b[38;5;28mnext\u001b[39m(iterator))  \u001b[38;5;66;03m# Output: 4\u001b[39;00m\n\u001b[1;32m---> 33\u001b[0m \u001b[38;5;28mprint\u001b[39m(\u001b[38;5;28mnext\u001b[39m(iterator))\n",
      "Cell \u001b[1;32mIn[73], line 23\u001b[0m, in \u001b[0;36mCountingIterator.__next__\u001b[1;34m(self)\u001b[0m\n\u001b[0;32m     21\u001b[0m     \u001b[38;5;28;01mreturn\u001b[39;00m value\n\u001b[0;32m     22\u001b[0m \u001b[38;5;28;01melse\u001b[39;00m:\n\u001b[1;32m---> 23\u001b[0m     \u001b[38;5;28;01mraise\u001b[39;00m \u001b[38;5;167;01mStopIteration\u001b[39;00m\n",
      "\u001b[1;31mStopIteration\u001b[0m: "
     ]
    }
   ],
   "source": [
    "#65.\tExplain the usage of the __init__() and __next__() methods in python. Provide an examples using iterators.\n",
    "\n",
    "#The __init__() method in Python is a constructor method used to initialize an object when it is created. It is typically used to set up initial values for attributes or perform any necessary setup for the object.\n",
    "\n",
    "#The __next__() method, on the other hand, is used in iterator objects to define the behavior of generating the next element in the sequence. It is called repeatedly when iterating over an object using a loop or the next() function until it raises a StopIteration exception to signal the end of the iteration.\n",
    "\n",
    "#Here's an example demonstrating the usage of __init__() and __next__() in Python iterators:\n",
    "\n",
    "class CountingIterator:\n",
    "    def __init__(self, start, end):\n",
    "        self.current = start\n",
    "        self.end = end\n",
    "\n",
    "    def __iter__(self):\n",
    "        return self\n",
    "\n",
    "    def __next__(self):\n",
    "        if self.current < self.end:\n",
    "            value = self.current\n",
    "            self.current += 1\n",
    "            return value\n",
    "        else:\n",
    "            raise StopIteration\n",
    "iterator = CountingIterator(1, 5)\n",
    "for num in iterator:\n",
    "    print(num)\n",
    "\n",
    "iterator = CountingIterator(1, 5)\n",
    "print(next(iterator))  # Output: 1\n",
    "print(next(iterator))  # Output: 2\n",
    "print(next(iterator))  # Output: 3\n",
    "print(next(iterator))  # Output: 4\n",
    "print(next(iterator))  # Output: StopIteration exception raised\n"
   ]
  },
  {
   "cell_type": "code",
   "execution_count": 75,
   "id": "f2ae483d",
   "metadata": {},
   "outputs": [
    {
     "name": "stdout",
     "output_type": "stream",
     "text": [
      "5\n"
     ]
    }
   ],
   "source": [
    "#66.What is the purpose of a getter method in python? Provide an example demonstrating the use of a getter method using property decorators.\n",
    "\n",
    "#A getter method in Python is used to access the value of a private or protected attribute in a class. It allows controlled access to attributes by providing a method through which the value can be retrieved, enabling encapsulation and ensuring that the attribute's value is accessed in a controlled manner.\n",
    "\n",
    "#One common way to implement getter methods in Python is using property decorators. Here's an example demonstrating the use of a getter method using property decorators:\n",
    "\n",
    "class Circle:\n",
    "    def __init__(self, radius):\n",
    "        self._radius = radius  # Private attribute\n",
    "\n",
    "    @property\n",
    "    def radius(self):\n",
    "        return self._radius\n",
    "circle = Circle(5)\n",
    "print(circle.radius)  # Output: 5\n"
   ]
  },
  {
   "cell_type": "code",
   "execution_count": 76,
   "id": "d0a63451",
   "metadata": {},
   "outputs": [
    {
     "name": "stdout",
     "output_type": "stream",
     "text": [
      "5\n",
      "10\n",
      "Radius must be greater than zero\n"
     ]
    }
   ],
   "source": [
    "#67.Explain the role of setter method in python. Demonstrate how to use a setter method to modify a class attributes using property decorators.\n",
    "\n",
    "#A setter method in Python is used to modify the value of a private or protected attribute in a class. It allows controlled modification of attributes by providing a method through which the value can be updated or set, enabling encapsulation and ensuring that attribute values are changed in a controlled manner.\n",
    "\n",
    "#Property decorators are commonly used to implement setter methods in Python. Here's an example demonstrating the use of a setter method with property decorators to modify a class attribute:\n",
    "\n",
    "class Circle:\n",
    "    def __init__(self, radius):\n",
    "        self._radius = radius  # Private attribute\n",
    "\n",
    "    @property\n",
    "    def radius(self):\n",
    "        return self._radius\n",
    "\n",
    "    @radius.setter\n",
    "    def radius(self, new_radius):\n",
    "        if new_radius > 0:\n",
    "            self._radius = new_radius\n",
    "        else:\n",
    "            raise ValueError(\"Radius must be greater than zero\")\n",
    "\n",
    "circle = Circle(5)\n",
    "print(circle.radius)  # Output: 5\n",
    "circle.radius = 10\n",
    "print(circle.radius)  # Output: 10\n",
    "try:\n",
    "    circle.radius = -5  # Raises a ValueError\n",
    "except ValueError as e:\n",
    "    print(e)  # Output: Radius must be greater than zero\n"
   ]
  },
  {
   "cell_type": "code",
   "execution_count": 77,
   "id": "aed9704e",
   "metadata": {},
   "outputs": [
    {
     "name": "stdout",
     "output_type": "stream",
     "text": [
      "5\n",
      "10\n",
      "50\n",
      "120\n",
      "Width must be greater than zero\n",
      "Height must be greater than zero\n"
     ]
    }
   ],
   "source": [
    "#68.What is the purpose of the @property decorator in python? Provide an example illustrating its usage.\n",
    "\n",
    "#The @property decorator in Python is used to define properties or attributes of a class that can be accessed like regular attributes but have customized getter, setter, and deleter methods. It allows you to encapsulate the access and modification of attributes, providing more control and flexibility compared to directly accessing attributes.\n",
    "\n",
    "#Here's an example illustrating the usage of the @property decorator:\n",
    "\n",
    "class Rectangle:\n",
    "    def __init__(self, width, height):\n",
    "        self._width = width\n",
    "        self._height = height\n",
    "\n",
    "    @property\n",
    "    def width(self):\n",
    "        return self._width\n",
    "\n",
    "    @width.setter\n",
    "    def width(self, new_width):\n",
    "        if new_width > 0:\n",
    "            self._width = new_width\n",
    "        else:\n",
    "            raise ValueError(\"Width must be greater than zero\")\n",
    "\n",
    "    @property\n",
    "    def height(self):\n",
    "        return self._height\n",
    "\n",
    "    @height.setter\n",
    "    def height(self, new_height):\n",
    "        if new_height > 0:\n",
    "            self._height = new_height\n",
    "        else:\n",
    "            raise ValueError(\"Height must be greater than zero\")\n",
    "\n",
    "    @property\n",
    "    def area(self):\n",
    "        return self._width * self._height\n",
    "\n",
    "rectangle = Rectangle(5, 10)\n",
    "\n",
    "print(rectangle.width)  # Output: 5\n",
    "print(rectangle.height)  # Output: 10\n",
    "print(rectangle.area)  # Output: 50\n",
    "\n",
    "rectangle.width = 8\n",
    "rectangle.height = 15\n",
    "print(rectangle.area)  # Output: 120\n",
    "\n",
    "try:\n",
    "    rectangle.width = -5  # Raises a ValueError\n",
    "except ValueError as e:\n",
    "    print(e)  # Output: Width must be greater than zero\n",
    "\n",
    "try:\n",
    "    rectangle.height = 0  # Raises a ValueError\n",
    "except ValueError as e:\n",
    "    print(e)  # Output: Height must be greater than zero\n"
   ]
  },
  {
   "cell_type": "code",
   "execution_count": 78,
   "id": "2bd66e9b",
   "metadata": {},
   "outputs": [
    {
     "name": "stdout",
     "output_type": "stream",
     "text": [
      "example.txt\n",
      "Deleting file: example.txt\n"
     ]
    },
    {
     "ename": "AttributeError",
     "evalue": "'File' object has no attribute '_filename'",
     "output_type": "error",
     "traceback": [
      "\u001b[1;31m---------------------------------------------------------------------------\u001b[0m",
      "\u001b[1;31mAttributeError\u001b[0m                            Traceback (most recent call last)",
      "Cell \u001b[1;32mIn[78], line 30\u001b[0m\n\u001b[0;32m     26\u001b[0m \u001b[38;5;28mprint\u001b[39m(file_obj\u001b[38;5;241m.\u001b[39mfilename)  \u001b[38;5;66;03m# Output: example.txt\u001b[39;00m\n\u001b[0;32m     28\u001b[0m \u001b[38;5;28;01mdel\u001b[39;00m file_obj\u001b[38;5;241m.\u001b[39mfilename  \u001b[38;5;66;03m# Output: Deleting file: example.txt\u001b[39;00m\n\u001b[1;32m---> 30\u001b[0m \u001b[38;5;28mprint\u001b[39m(file_obj\u001b[38;5;241m.\u001b[39mfilename)\n",
      "Cell \u001b[1;32mIn[78], line 13\u001b[0m, in \u001b[0;36mFile.filename\u001b[1;34m(self)\u001b[0m\n\u001b[0;32m     11\u001b[0m \u001b[38;5;129m@property\u001b[39m\n\u001b[0;32m     12\u001b[0m \u001b[38;5;28;01mdef\u001b[39;00m \u001b[38;5;21mfilename\u001b[39m(\u001b[38;5;28mself\u001b[39m):\n\u001b[1;32m---> 13\u001b[0m     \u001b[38;5;28;01mreturn\u001b[39;00m \u001b[38;5;28mself\u001b[39m\u001b[38;5;241m.\u001b[39m_filename\n",
      "\u001b[1;31mAttributeError\u001b[0m: 'File' object has no attribute '_filename'"
     ]
    }
   ],
   "source": [
    "#69.Explain the use of that @deleter decorator in python property decorators. Provide a code example demonstrating its application.\n",
    "\n",
    "#The @deleter decorator in Python is used in conjunction with the @property decorator to define a deleter method for a property. It allows you to specify custom behavior for deleting an attribute or property of an object. This is particularly useful for performing cleanup actions or validation checks when an attribute is deleted.\n",
    "\n",
    "#Here's an example demonstrating the use of the @deleter decorator in Python property decorators:\n",
    "\n",
    "class File:\n",
    "    def __init__(self, filename):\n",
    "        self.filename = filename\n",
    "\n",
    "    @property\n",
    "    def filename(self):\n",
    "        return self._filename\n",
    "\n",
    "    @filename.setter\n",
    "    def filename(self, value):\n",
    "        self._filename = value\n",
    "\n",
    "    @filename.deleter\n",
    "    def filename(self):\n",
    "        print(f\"Deleting file: {self._filename}\")\n",
    "        del self._filename\n",
    "\n",
    "file_obj = File(\"example.txt\")\n",
    "print(file_obj.filename)  # Output: example.txt\n",
    "del file_obj.filename  # Output: Deleting file: example.txt\n",
    "print(file_obj.filename)  # Output: AttributeError: 'File' object has no attribute '_filename'\n"
   ]
  },
  {
   "cell_type": "code",
   "execution_count": 79,
   "id": "542c7289",
   "metadata": {},
   "outputs": [
    {
     "name": "stdout",
     "output_type": "stream",
     "text": [
      "1234567890\n",
      "1000\n",
      "1500\n",
      "2000\n",
      "1000\n"
     ]
    }
   ],
   "source": [
    "#70.How does encapsulation relate to property decorators in python? Provide an example showcasing encapsulation using property decorators.\n",
    "\n",
    "#Encapsulation in Python refers to the practice of bundling data (attributes) and methods (functions) that operate on the data into a single unit, called a class. This concept allows the class to hide its internal implementation details from the outside world and only expose a controlled interface for interacting with its data. Property decorators in Python play a crucial role in implementing encapsulation by providing controlled access to class attributes.\n",
    "\n",
    "#Here's an example showcasing encapsulation using property decorators:\n",
    "class BankAccount:\n",
    "    def __init__(self, account_number, balance=0):\n",
    "        self._account_number = account_number  # Private attribute\n",
    "        self._balance = balance  # Private attribute\n",
    "\n",
    "    @property\n",
    "    def account_number(self):\n",
    "        return self._account_number\n",
    "\n",
    "    @property\n",
    "    def balance(self):\n",
    "        return self._balance\n",
    "\n",
    "    @balance.setter\n",
    "    def balance(self, new_balance):\n",
    "        if new_balance >= 0:\n",
    "            self._balance = new_balance\n",
    "        else:\n",
    "            raise ValueError(\"Balance cannot be negative\")\n",
    "\n",
    "    def deposit(self, amount):\n",
    "        if amount > 0:\n",
    "            self.balance += amount\n",
    "        else:\n",
    "            raise ValueError(\"Deposit amount must be positive\")\n",
    "\n",
    "    def withdraw(self, amount):\n",
    "        if amount > 0 and self.balance >= amount:\n",
    "            self.balance -= amount\n",
    "        else:\n",
    "            raise ValueError(\"Withdrawal amount must be positive and not exceed balance\")\n",
    "\n",
    "account = BankAccount(\"1234567890\", 1000)\n",
    "print(account.account_number)  # Output: 1234567890\n",
    "print(account.balance)  # Output: 1000\n",
    "\n",
    "account.balance = 1500\n",
    "print(account.balance)  # Output: 1500\n",
    "\n",
    "account.deposit(500)\n",
    "print(account.balance)  # Output: 2000\n",
    "\n",
    "account.withdraw(1000)\n",
    "print(account.balance)  # Output: 1000"
   ]
  },
  {
   "cell_type": "code",
   "execution_count": null,
   "id": "178b644a",
   "metadata": {},
   "outputs": [],
   "source": []
  }
 ],
 "metadata": {
  "kernelspec": {
   "display_name": "Python 3 (ipykernel)",
   "language": "python",
   "name": "python3"
  },
  "language_info": {
   "codemirror_mode": {
    "name": "ipython",
    "version": 3
   },
   "file_extension": ".py",
   "mimetype": "text/x-python",
   "name": "python",
   "nbconvert_exporter": "python",
   "pygments_lexer": "ipython3",
   "version": "3.11.5"
  }
 },
 "nbformat": 4,
 "nbformat_minor": 5
}
