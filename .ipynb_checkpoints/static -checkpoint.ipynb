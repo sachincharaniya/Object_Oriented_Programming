{
 "cells": [
  {
   "cell_type": "code",
   "execution_count": 3,
   "id": "e0b9d8b2",
   "metadata": {},
   "outputs": [],
   "source": [
    "class Student:\n",
    "    def __init__(self,name):\n",
    "        self.name = name\n",
    "    @classmethod\n",
    "    def student_details(cls,name1):\n",
    "        return cls(name1)\n",
    "stud = Student.student_details(\"Sanjay\")"
   ]
  },
  {
   "cell_type": "code",
   "execution_count": 4,
   "id": "d40baac3",
   "metadata": {},
   "outputs": [
    {
     "data": {
      "text/plain": [
       "'Sanjay'"
      ]
     },
     "execution_count": 4,
     "metadata": {},
     "output_type": "execute_result"
    }
   ],
   "source": [
    "stud.name"
   ]
  },
  {
   "cell_type": "code",
   "execution_count": 8,
   "id": "67c62886",
   "metadata": {},
   "outputs": [],
   "source": [
    "class Student:\n",
    "    total_student = 0 \n",
    "    def __init__(self,name):\n",
    "        self.name = name\n",
    "        Student.total_student = Student.total_student + 1\n",
    "        \n",
    "    @classmethod\n",
    "    def student_details(cls):\n",
    "        return cls.total_student"
   ]
  },
  {
   "cell_type": "code",
   "execution_count": 9,
   "id": "1fc14cdd",
   "metadata": {},
   "outputs": [
    {
     "data": {
      "text/plain": [
       "0"
      ]
     },
     "execution_count": 9,
     "metadata": {},
     "output_type": "execute_result"
    }
   ],
   "source": [
    "Student.total_student"
   ]
  },
  {
   "cell_type": "code",
   "execution_count": 10,
   "id": "e8ddcf12",
   "metadata": {},
   "outputs": [],
   "source": [
    "std1 =  Student(\"Ajay\")"
   ]
  },
  {
   "cell_type": "code",
   "execution_count": 11,
   "id": "664894e7",
   "metadata": {},
   "outputs": [],
   "source": [
    "std2 =  Student(\"Ajay\")"
   ]
  },
  {
   "cell_type": "code",
   "execution_count": 12,
   "id": "5c95dc1f",
   "metadata": {},
   "outputs": [
    {
     "data": {
      "text/plain": [
       "2"
      ]
     },
     "execution_count": 12,
     "metadata": {},
     "output_type": "execute_result"
    }
   ],
   "source": [
    "Student.student_details()"
   ]
  },
  {
   "cell_type": "code",
   "execution_count": 13,
   "id": "b804bbde",
   "metadata": {},
   "outputs": [],
   "source": [
    "class Student:\n",
    "    total_student = 0 \n",
    "    def __init__(self,name):\n",
    "        self.name = name\n",
    "        Student.total_student = Student.total_student + 1\n",
    "        \n",
    "    @classmethod\n",
    "    def student_details(cls):\n",
    "        return cls.total_student\n",
    "    \n"
   ]
  },
  {
   "cell_type": "code",
   "execution_count": 14,
   "id": "2fb5bbd1",
   "metadata": {},
   "outputs": [],
   "source": [
    "def course_details(cls,course_name):\n",
    "    print(\"The details of the course is :\",course_name)"
   ]
  },
  {
   "cell_type": "code",
   "execution_count": 15,
   "id": "80122ee0",
   "metadata": {},
   "outputs": [],
   "source": [
    "Student.course_details = classmethod(course_details)#adding the external class method"
   ]
  },
  {
   "cell_type": "code",
   "execution_count": 16,
   "id": "4f56f737",
   "metadata": {},
   "outputs": [
    {
     "name": "stdout",
     "output_type": "stream",
     "text": [
      "The details of the course is : Data Science\n"
     ]
    }
   ],
   "source": [
    "Student.course_details(\"Data Science\")"
   ]
  },
  {
   "cell_type": "code",
   "execution_count": 17,
   "id": "da94560d",
   "metadata": {},
   "outputs": [],
   "source": [
    "#delete any class method"
   ]
  },
  {
   "cell_type": "code",
   "execution_count": 18,
   "id": "27d98657",
   "metadata": {},
   "outputs": [],
   "source": [
    "del Student.course_details"
   ]
  },
  {
   "cell_type": "code",
   "execution_count": 19,
   "id": "402a4ef0",
   "metadata": {},
   "outputs": [
    {
     "ename": "AttributeError",
     "evalue": "type object 'Student' has no attribute 'course_details'",
     "output_type": "error",
     "traceback": [
      "\u001b[1;31m---------------------------------------------------------------------------\u001b[0m",
      "\u001b[1;31mAttributeError\u001b[0m                            Traceback (most recent call last)",
      "Cell \u001b[1;32mIn[19], line 1\u001b[0m\n\u001b[1;32m----> 1\u001b[0m Student\u001b[38;5;241m.\u001b[39mcourse_details(\u001b[38;5;124m\"\u001b[39m\u001b[38;5;124mData Science\u001b[39m\u001b[38;5;124m\"\u001b[39m)\n",
      "\u001b[1;31mAttributeError\u001b[0m: type object 'Student' has no attribute 'course_details'"
     ]
    }
   ],
   "source": [
    "Student.course_details(\"Data Science\")"
   ]
  },
  {
   "cell_type": "code",
   "execution_count": 20,
   "id": "e92e411e",
   "metadata": {},
   "outputs": [],
   "source": [
    "delattr(Student,\"student_details\")"
   ]
  },
  {
   "cell_type": "code",
   "execution_count": 21,
   "id": "24131410",
   "metadata": {},
   "outputs": [
    {
     "ename": "AttributeError",
     "evalue": "type object 'Student' has no attribute 'student_details'",
     "output_type": "error",
     "traceback": [
      "\u001b[1;31m---------------------------------------------------------------------------\u001b[0m",
      "\u001b[1;31mAttributeError\u001b[0m                            Traceback (most recent call last)",
      "Cell \u001b[1;32mIn[21], line 1\u001b[0m\n\u001b[1;32m----> 1\u001b[0m Student\u001b[38;5;241m.\u001b[39mstudent_details()\n",
      "\u001b[1;31mAttributeError\u001b[0m: type object 'Student' has no attribute 'student_details'"
     ]
    }
   ],
   "source": [
    "Student.student_details()"
   ]
  },
  {
   "cell_type": "code",
   "execution_count": 22,
   "id": "88dc3f67",
   "metadata": {},
   "outputs": [],
   "source": [
    "# static method "
   ]
  },
  {
   "cell_type": "code",
   "execution_count": 23,
   "id": "a6742e2b",
   "metadata": {},
   "outputs": [],
   "source": [
    "class Calculator:\n",
    "    @staticmethod\n",
    "    def add(x,y):\n",
    "        return x + y\n",
    "    def subtract(x, y):\n",
    "        return x - y"
   ]
  },
  {
   "cell_type": "code",
   "execution_count": 24,
   "id": "9ae3382e",
   "metadata": {},
   "outputs": [
    {
     "data": {
      "text/plain": [
       "9"
      ]
     },
     "execution_count": 24,
     "metadata": {},
     "output_type": "execute_result"
    }
   ],
   "source": [
    "Calculator.add(4,5)"
   ]
  },
  {
   "cell_type": "code",
   "execution_count": 25,
   "id": "d8ace1bf",
   "metadata": {},
   "outputs": [
    {
     "data": {
      "text/plain": [
       "11"
      ]
     },
     "execution_count": 25,
     "metadata": {},
     "output_type": "execute_result"
    }
   ],
   "source": [
    "Calculator.add(5,6)"
   ]
  },
  {
   "cell_type": "code",
   "execution_count": null,
   "id": "5c692967",
   "metadata": {},
   "outputs": [],
   "source": []
  }
 ],
 "metadata": {
  "kernelspec": {
   "display_name": "Python 3 (ipykernel)",
   "language": "python",
   "name": "python3"
  },
  "language_info": {
   "codemirror_mode": {
    "name": "ipython",
    "version": 3
   },
   "file_extension": ".py",
   "mimetype": "text/x-python",
   "name": "python",
   "nbconvert_exporter": "python",
   "pygments_lexer": "ipython3",
   "version": "3.11.5"
  }
 },
 "nbformat": 4,
 "nbformat_minor": 5
}
