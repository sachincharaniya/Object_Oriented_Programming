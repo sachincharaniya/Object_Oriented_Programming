{
 "cells": [
  {
   "cell_type": "code",
   "execution_count": 2,
   "id": "6a03fe13",
   "metadata": {},
   "outputs": [
    {
     "data": {
      "text/plain": [
       "'ayinarahc nihcas'"
      ]
     },
     "execution_count": 2,
     "metadata": {},
     "output_type": "execute_result"
    }
   ],
   "source": [
    "#1.write a code to reverse string.\n",
    "string = \"sachin charaniya\"\n",
    "string[::-1]"
   ]
  },
  {
   "cell_type": "code",
   "execution_count": 5,
   "id": "58c94530",
   "metadata": {},
   "outputs": [
    {
     "name": "stdout",
     "output_type": "stream",
     "text": [
      "Enter String : sachin\n",
      "count the number of vowels in a string : 2\n"
     ]
    }
   ],
   "source": [
    "#2.write a code to count the number of vowels in string.\n",
    "string = input(\"Enter String : \")\n",
    "count_vowels = 0\n",
    "for i in string:\n",
    "    if(i == 'a' or i == 'e' or i == 'i' or i == 'u' or i == 'A' or i == 'E' or i == 'I' or i =='O' or i == 'U'):\n",
    "        count_vowels = count_vowels + 1 \n",
    "print(\"count the number of vowels in a string :\",count_vowels)\n"
   ]
  },
  {
   "cell_type": "code",
   "execution_count": 6,
   "id": "ead8e70d",
   "metadata": {},
   "outputs": [
    {
     "name": "stdout",
     "output_type": "stream",
     "text": [
      "Enter String : rar\n",
      "String is a palindrome.\n"
     ]
    }
   ],
   "source": [
    "#3. write a code to check if a given strings is a palindrome or not.\n",
    "string = input(\"Enter String : \")\n",
    "if string == string[::-1]:\n",
    "    print(\"String is a palindrome.\")\n",
    "else:\n",
    "    print(\"String is not a palindrome.\")"
   ]
  },
  {
   "cell_type": "code",
   "execution_count": 7,
   "id": "17e8305d",
   "metadata": {},
   "outputs": [
    {
     "name": "stdout",
     "output_type": "stream",
     "text": [
      "Enter string one :flow\n",
      "Enter string two :wolf\n",
      "string are anagrams\n"
     ]
    }
   ],
   "source": [
    "#4.  write a code to check if two given strings are anagrams of each other.\n",
    "string_1 = input(\"Enter string one :\")\n",
    "string_2 = input(\"Enter string two :\")\n",
    "string_1 = sorted(string_1.lower())\n",
    "string_2 = sorted(string_2.lower())\n",
    "if string_1 == string_2:\n",
    "    print(\"string are anagrams\")\n",
    "else:\n",
    "    print(\"string are not anagrams\")\n"
   ]
  },
  {
   "cell_type": "code",
   "execution_count": 8,
   "id": "37f78bf4",
   "metadata": {},
   "outputs": [
    {
     "name": "stdout",
     "output_type": "stream",
     "text": [
      "start indecies of the substrings are :  [0, 21, 53]\n"
     ]
    }
   ],
   "source": [
    "#5.write a code to find all occurrences of a given substring within another string.\n",
    "string_1 = \"data science is best data science with generative ai data\"\n",
    "string_sub =\"data\"\n",
    "string =[i for i in range(len(string_1)) if string_1.startswith(string_sub,i)]\n",
    "print(\"start indecies of the substrings are : \",string)\n"
   ]
  },
  {
   "cell_type": "code",
   "execution_count": 11,
   "id": "782e270c",
   "metadata": {},
   "outputs": [
    {
     "name": "stdout",
     "output_type": "stream",
     "text": [
      "Original string: aabcccccaaa\n",
      "Compressed string: a2b1c5a3\n"
     ]
    }
   ],
   "source": [
    "#6.write a code to perform basic string compression using the counts of repeated characters.\n",
    "def compress_string(s):\n",
    "    compressed = \"\"\n",
    "    count = 1\n",
    "    for i in range(len(s) - 1):\n",
    "        if s[i] == s[i + 1]:\n",
    "            count += 1\n",
    "        else:\n",
    "            compressed += s[i] + str(count)\n",
    "            count = 1\n",
    "    compressed += s[-1] + str(count)\n",
    "    if len(compressed) >= len(s):\n",
    "        return s\n",
    "    else:\n",
    "        return compressed\n",
    "    \n",
    "input_string = \"aabcccccaaa\"\n",
    "print(\"Original string:\", input_string)\n",
    "print(\"Compressed string:\", compress_string(input_string))"
   ]
  },
  {
   "cell_type": "code",
   "execution_count": 12,
   "id": "77ea6609",
   "metadata": {},
   "outputs": [
    {
     "name": "stdout",
     "output_type": "stream",
     "text": [
      "string is not unique character\n"
     ]
    }
   ],
   "source": [
    "#7.  write a code to determine if a string has all unique characters.\n",
    "st = \"abcbd\"\n",
    "x=list(set(st))\n",
    "y=list(st)\n",
    "x.sort()\n",
    "y.sort()\n",
    "if(x==y):\n",
    "    print(\"string is unique character\")\n",
    "else:\n",
    "    print(\"string is not unique character\")\n"
   ]
  },
  {
   "cell_type": "code",
   "execution_count": 14,
   "id": "de49cc39",
   "metadata": {},
   "outputs": [
    {
     "name": "stdout",
     "output_type": "stream",
     "text": [
      "sachincharaniya\n"
     ]
    }
   ],
   "source": [
    "#8.write a code to convert a given string a uppercase or lowercase.\n",
    "string_upper = \"SACHINCHARANIYA\"\n",
    "string_lower = \"\"\n",
    "\n",
    "for char in string_upper:\n",
    "    string_lower += char.lower()\n",
    "    \n",
    "print(string_lower)"
   ]
  },
  {
   "cell_type": "code",
   "execution_count": 15,
   "id": "1c7278ef",
   "metadata": {},
   "outputs": [
    {
     "name": "stdout",
     "output_type": "stream",
     "text": [
      "6\n"
     ]
    }
   ],
   "source": [
    "#9.write a code to count the number of words in a string.\n",
    "string = \"count the words in this sentence\"\n",
    "word_in_string = string.split()\n",
    "word_count = len(word_in_string)\n",
    "print(word_count)\n"
   ]
  },
  {
   "cell_type": "code",
   "execution_count": 16,
   "id": "68322248",
   "metadata": {},
   "outputs": [
    {
     "name": "stdout",
     "output_type": "stream",
     "text": [
      "Data Science with Generative AI\n"
     ]
    }
   ],
   "source": [
    "#10. write a code to concatenate two strings without using the + operator.\n",
    "string_1 = \"Data Science\"\n",
    "string_2 = \"Generative AI\"\n",
    "concatenated_str = (f'{string_1} with {string_2}')\n",
    "print(concatenated_str)\n"
   ]
  },
  {
   "cell_type": "code",
   "execution_count": 17,
   "id": "25a6ebf5",
   "metadata": {},
   "outputs": [
    {
     "name": "stdout",
     "output_type": "stream",
     "text": [
      "[1, 3, 4, 5]\n"
     ]
    }
   ],
   "source": [
    "#11. Write a code to remove all occurrences of a specific element from a list.\n",
    "my_list = [1,2,3,4,2,5,2]\n",
    "remove_element = 2 \n",
    "while remove_element in my_list:\n",
    "    my_list.remove(remove_element)\n",
    "print(my_list)\n"
   ]
  },
  {
   "cell_type": "code",
   "execution_count": 19,
   "id": "76861067",
   "metadata": {},
   "outputs": [
    {
     "name": "stdout",
     "output_type": "stream",
     "text": [
      "second largest number is  90\n"
     ]
    }
   ],
   "source": [
    "#12. Implement a code to count to find second largest number in a given list of integers.\n",
    "list1 = [10,20,4,45,78,90,100]\n",
    "list2 = list(set(list1))\n",
    "list2.sort()\n",
    "print(\"second largest number is \",list2[-2])\n"
   ]
  },
  {
   "cell_type": "code",
   "execution_count": 20,
   "id": "46d53b79",
   "metadata": {},
   "outputs": [
    {
     "name": "stdout",
     "output_type": "stream",
     "text": [
      "Element counts:  {10: 3, 20: 2, 30: 2, 40: 1}\n"
     ]
    }
   ],
   "source": [
    "#13. Create a code to count the occurrences of each element in a list and return a dictionary with elements as keys and their counts as values.\n",
    "lists = [10,20,30,10,30,20,10,40]\n",
    "count = {}\n",
    "\n",
    "for list1 in lists:\n",
    "    if list1 in count:\n",
    "        count[list1] += 1\n",
    "    else:\n",
    "        count[list1] = 1\n",
    "print('Element counts: ',count)\n"
   ]
  },
  {
   "cell_type": "code",
   "execution_count": 21,
   "id": "bd6afb88",
   "metadata": {},
   "outputs": [
    {
     "name": "stdout",
     "output_type": "stream",
     "text": [
      "[4, 6, 5, 1, 2, 4, 3, 2, 1]\n"
     ]
    }
   ],
   "source": [
    "#14. Write a code to reverse a list in-place without using any built-in reverse functions.\n",
    "list_1 = [1, 2, 3, 4, 2, 1, 5, 6, 4]\n",
    "print(list_1[::-1])\n"
   ]
  },
  {
   "cell_type": "code",
   "execution_count": 22,
   "id": "dae256ec",
   "metadata": {},
   "outputs": [
    {
     "name": "stdout",
     "output_type": "stream",
     "text": [
      "[1, 2, 3, 4, 5, 6]\n"
     ]
    }
   ],
   "source": [
    "#15. Implement a code to find remove duplicates from a list while preserving the original order of elements.\n",
    "list_original = [1, 2, 3, 4, 2, 1, 5, 6, 4]\n",
    "unique_list = list(set(list_original))\n",
    "print(unique_list)\n"
   ]
  },
  {
   "cell_type": "code",
   "execution_count": 23,
   "id": "54e5877a",
   "metadata": {},
   "outputs": [
    {
     "name": "stdout",
     "output_type": "stream",
     "text": [
      "yes list is sorted.\n"
     ]
    }
   ],
   "source": [
    "#16.Create a code to check if a given list is sorted (either in ascending or descending order) or not.\n",
    "list_1 = [1,3,5,7,10]\n",
    "num = 0\n",
    "if list_1 == sorted(list_1):\n",
    "    num = 1\n",
    "if num :\n",
    "    print(\"yes list is sorted.\")\n",
    "else:\n",
    "    print(\"no list is not sorted.\")\n"
   ]
  },
  {
   "cell_type": "code",
   "execution_count": 24,
   "id": "fb996df5",
   "metadata": {},
   "outputs": [
    {
     "name": "stdout",
     "output_type": "stream",
     "text": [
      "[1, 2, 3, 4, 5, 6, 7, 8, 9, 10]\n"
     ]
    }
   ],
   "source": [
    "#17.Write a code to merger two sorted lists into a single sorted list.\n",
    "list_1 = [1,3,4,6,7]\n",
    "list_2 = [2,5,8,9,10]\n",
    "single_list = sorted(list_1 + list_2)\n",
    "print(single_list)\n"
   ]
  },
  {
   "cell_type": "code",
   "execution_count": 25,
   "id": "3544d883",
   "metadata": {},
   "outputs": [
    {
     "name": "stdout",
     "output_type": "stream",
     "text": [
      "[3, 4, 5]\n"
     ]
    }
   ],
   "source": [
    "#18. implement a code to find the intersection of two given lists.\n",
    "list_1 = [1, 2, 3, 4, 5]\n",
    "list_2 = [3, 4, 5, 6, 7]\n",
    "set_1 = set(list_1)\n",
    "set_2 = set(list_2)\n",
    "intersection = list(set_1 & set_2)\n",
    "print(intersection)\n"
   ]
  },
  {
   "cell_type": "code",
   "execution_count": 26,
   "id": "02f4f310",
   "metadata": {},
   "outputs": [
    {
     "name": "stdout",
     "output_type": "stream",
     "text": [
      "[1, 2, 3, 4, 5, 6, 7]\n"
     ]
    }
   ],
   "source": [
    "#19. Create a code to find the union of two lists without duplicates.\n",
    "list_1 = [1, 2, 3, 4, 5]\n",
    "list_2 = [3, 4, 5, 6, 7]\n",
    "set_1 = set(list_1)\n",
    "set_2 = set(list_2)\n",
    "union = list(set_1 | set_2)\n",
    "print(union)\n"
   ]
  },
  {
   "cell_type": "code",
   "execution_count": 27,
   "id": "c738c481",
   "metadata": {},
   "outputs": [
    {
     "name": "stdout",
     "output_type": "stream",
     "text": [
      "[5, 2, 3, 1, 4]\n"
     ]
    }
   ],
   "source": [
    "#20. Write a code to shuffle a given list randomly without using any bulit-in shuffle functions.\n",
    "import random\n",
    "my_list = [1, 2, 3, 4, 5]\n",
    "for i in range(len(my_list) - 1, 0, -1):\n",
    "        j = random.randint(0, i)\n",
    "        my_list[i], my_list[j] = my_list[j], my_list[i]\n",
    "print(my_list)\n"
   ]
  },
  {
   "cell_type": "code",
   "execution_count": 28,
   "id": "556a9657",
   "metadata": {},
   "outputs": [
    {
     "name": "stdout",
     "output_type": "stream",
     "text": [
      "(4, 5)\n"
     ]
    }
   ],
   "source": [
    "#21. Write a code that takes two tuples as input and return a new tuple countaining elements that we intersection of there two sets.\n",
    "tuple_1 = (1,2,3,4,5)\n",
    "tuple_2 = (4,5,6,7,8)\n",
    "set_1 =  set(tuple_1)\n",
    "set_2 =  set(tuple_2)\n",
    "intersection_set = set_1 & set_2\n",
    "intersection_tuple = tuple(intersection_set)\n",
    "print(intersection_tuple)\n"
   ]
  },
  {
   "cell_type": "code",
   "execution_count": 29,
   "id": "af931378",
   "metadata": {},
   "outputs": [
    {
     "name": "stdout",
     "output_type": "stream",
     "text": [
      "(1, 2, 3, 4, 5, 6)\n"
     ]
    }
   ],
   "source": [
    "#23. Write a code to concatenate two tuples. the function should take tuples as input and return a new tuple countaining elements from both input tuples.\n",
    "tuple_1 = (1, 2, 3)\n",
    "tuple_2 = (4, 5, 6)\n",
    "new_tuple = tuple_1 + tuple_2\n",
    "print(new_tuple)\n"
   ]
  },
  {
   "cell_type": "code",
   "execution_count": 30,
   "id": "b1e765b6",
   "metadata": {},
   "outputs": [
    {
     "name": "stdout",
     "output_type": "stream",
     "text": [
      "Enter elements for the first element set : hacking,reading,playing\n",
      "Enter elements for the second element set : hacking,dancing\n",
      "{'playing', 'reading'}\n"
     ]
    }
   ],
   "source": [
    "#24. Develop a code that prompts the user to input two sets of strings. Then, print the elements that are present in the first set but not in the second set.\n",
    "set_1 = set(input(\"Enter elements for the first element set : \").split(','))\n",
    "set_2 = set(input(\"Enter elements for the second element set : \").split(','))\n",
    "set_difference = set_1 - set_2\n",
    "print(set_difference)\n"
   ]
  },
  {
   "cell_type": "code",
   "execution_count": 31,
   "id": "1a6411de",
   "metadata": {},
   "outputs": [
    {
     "name": "stdout",
     "output_type": "stream",
     "text": [
      "New tuple: (3, 4, 5, 6)\n"
     ]
    }
   ],
   "source": [
    "#25. Create a code that takes a tuple and two integers as input. The function should return a new tuple containing elements from the original tuple within the specified range of indices.\n",
    "tuple_1 = (1, 2, 3, 4, 5, 6, 7, 8, 9)\n",
    "start_index = 2\n",
    "end_index = 6\n",
    "new_tuple = tuple_1[start_index:end_index]\n",
    "print(\"New tuple:\", new_tuple)\n"
   ]
  },
  {
   "cell_type": "code",
   "execution_count": 32,
   "id": "1373a31d",
   "metadata": {},
   "outputs": [
    {
     "name": "stdout",
     "output_type": "stream",
     "text": [
      "Enter characters for the first element set : c,h,a,r,a,n,i,y,a\n",
      "Enter characters for the second element set : s,a,c,h,i,n\n",
      "{'r', 'i', 'h', 's', 'c', 'n', 'a', 'y'}\n"
     ]
    }
   ],
   "source": [
    "#26. Write a code that prompts the user to input two sets of characters. Then, print the union of these two sets.\n",
    "set_1 = set(input(\"Enter characters for the first element set : \").split(','))\n",
    "set_2 = set(input(\"Enter characters for the second element set : \").split(','))\n",
    "union = set_1 | set_2\n",
    "print(union)\n"
   ]
  },
  {
   "cell_type": "code",
   "execution_count": 33,
   "id": "624c031c",
   "metadata": {},
   "outputs": [
    {
     "name": "stdout",
     "output_type": "stream",
     "text": [
      "Enter integers for the tuples : 10,20,30,40,50,60\n",
      "maximum value is :  60\n",
      "minimum value is :  10\n"
     ]
    }
   ],
   "source": [
    "#27. Develop a code that takes a tuples of integers as input. The function should return the maximum and minimum values from the tuple using tuple unpacking.\n",
    "tuple_1 = tuple(input(\"Enter integers for the tuples : \").split(','))\n",
    "print(\"maximum value is : \",max(tuple_1))\n",
    "print(\"minimum value is : \",min(tuple_1))\n"
   ]
  },
  {
   "cell_type": "code",
   "execution_count": 34,
   "id": "77972083",
   "metadata": {},
   "outputs": [
    {
     "name": "stdout",
     "output_type": "stream",
     "text": [
      "Union of sets :  {1, 2, 3, 4, 5, 8, 10}\n",
      "Intersection of sets :  {1, 2, 4}\n",
      "Difference of sets :  {8, 10}\n"
     ]
    }
   ],
   "source": [
    "#28. Create a code that defines two sets of integers. Then print the union , intersection, and difference of these two sets.\n",
    "set_1 = {1,2,4,8,10}\n",
    "set_2 = {1,2,3,4,5}\n",
    "print(\"Union of sets : \", set_1 | set_2)\n",
    "print(\"Intersection of sets : \", set_1 & set_2)\n",
    "print(\"Difference of sets : \", set_1 - set_2)\n"
   ]
  },
  {
   "cell_type": "code",
   "execution_count": 35,
   "id": "715e7558",
   "metadata": {},
   "outputs": [
    {
     "name": "stdout",
     "output_type": "stream",
     "text": [
      "3\n"
     ]
    }
   ],
   "source": [
    "#29. Write a code that take a tuple and an element as input. The function should return the count of occurrences of the given element in the tuple.\n",
    "my_tuple = (1,2,3,2,4,2,5)\n",
    "count_element = 2\n",
    "count = my_tuple.count(count_element)\n",
    "print(count)\n"
   ]
  },
  {
   "cell_type": "code",
   "execution_count": 37,
   "id": "3916a911",
   "metadata": {},
   "outputs": [
    {
     "name": "stdout",
     "output_type": "stream",
     "text": [
      "Enter Strings for the first element set :  hacking,reading,playing\n",
      "Enter Strings for the second element set : hacking,reading,dancing\n",
      "{'playing', 'dancing', 'hacking', ' hacking'}\n"
     ]
    }
   ],
   "source": [
    "#30. Develop a code that prompts the user to input two sets of stings. Then, print  the symmetric difference of there two sets.\n",
    "set_1 = set(input(\"Enter Strings for the first element set : \").split(','))\n",
    "set_2 = set(input(\"Enter Strings for the second element set : \").split(','))\n",
    "symmetric = set_1 ^ set_2\n",
    "print(symmetric)\n"
   ]
  },
  {
   "cell_type": "code",
   "execution_count": 38,
   "id": "67fe58da",
   "metadata": {},
   "outputs": [
    {
     "name": "stdout",
     "output_type": "stream",
     "text": [
      "Word dictionary: {'apple': 3, 'banana': 2, 'orange': 1}\n"
     ]
    }
   ],
   "source": [
    "#31. Write a code that takes a list of words as input and return a dictionary where the keys are unique words and the values are the frequencies of those words in the input list.\n",
    "list_1 = [\"apple\", \"banana\", \"apple\", \"orange\", \"banana\", \"apple\"]\n",
    "dictionary = {}\n",
    "for word in list_1:\n",
    "    dictionary[word] = dictionary.get(word, 0) + 1\n",
    "print(\"Word dictionary:\", dictionary)\n"
   ]
  },
  {
   "cell_type": "code",
   "execution_count": 39,
   "id": "db3b66fd",
   "metadata": {},
   "outputs": [
    {
     "name": "stdout",
     "output_type": "stream",
     "text": [
      "Merged dictionary: {'a': 10, 'b': 50, 'c': 70, 'd': 50}\n"
     ]
    }
   ],
   "source": [
    "#32. Write a code that takes two dictionaries as input and merges them into a single dictionary. if there are common keys. the values should be added together.\n",
    "dict1 = {'a': 10, 'b': 20, 'c': 30}\n",
    "dict2 = {'b': 30, 'c': 40, 'd': 50}\n",
    "merged_dict = {}\n",
    "for key, value in dict1.items():\n",
    "    merged_dict[key] = value + merged_dict.get(key, 0)\n",
    "for key, value in dict2.items():\n",
    "    merged_dict[key] = value + merged_dict.get(key, 0)\n",
    "print(\"Merged dictionary:\", merged_dict)\n"
   ]
  },
  {
   "cell_type": "code",
   "execution_count": 40,
   "id": "b84717cb",
   "metadata": {},
   "outputs": [
    {
     "name": "stdout",
     "output_type": "stream",
     "text": [
      "Value: 10\n"
     ]
    }
   ],
   "source": [
    "#33. Write a code to access a value in a nested dictionary. The function should take the dictionary and a list of keys as input, and return the corresponding value. if any of the keys do not exist in the dictionary, the function should return None.\n",
    "nested_dict = {'a': {'b': {'c': 10}}}\n",
    "keys = ['a', 'b', 'c']\n",
    "current_dict = nested_dict\n",
    "for key in keys:\n",
    "    if key in current_dict:\n",
    "        current_dict = current_dict[key]\n",
    "    else:\n",
    "        print(\"None\")\n",
    "        break\n",
    "else:\n",
    "    print(\"Value:\", current_dict)"
   ]
  },
  {
   "cell_type": "code",
   "execution_count": 41,
   "id": "63d24129",
   "metadata": {},
   "outputs": [
    {
     "name": "stdout",
     "output_type": "stream",
     "text": [
      "[(1, 'a'), (2, 'b'), (3, 'c'), (4, 'd')]\n"
     ]
    }
   ],
   "source": [
    "#34. Write a code that takes a dictionary as input and return a sorted version of it based on the values. You can choose whether to sort in asecending or descending order.\n",
    "my_dict = {'c': 3, 'a': 1, 'd': 4, 'b': 2}\n",
    "sorted_dict = sorted([(value, key) for (key, value) in my_dict.items()])\n",
    "print(sorted_dict)\n"
   ]
  },
  {
   "cell_type": "code",
   "execution_count": 42,
   "id": "5a407f4a",
   "metadata": {},
   "outputs": [
    {
     "name": "stdout",
     "output_type": "stream",
     "text": [
      "67    G\n",
      "23    H\n",
      "45    C\n",
      "56    D\n",
      "12    E\n",
      "69    F\n"
     ]
    }
   ],
   "source": [
    "#35. Write a code that inverts a dictionary, swapping keys and values. Ensure that the inverted dictionary correctly handles cases where multiple keys have the same value by storing the keys as a list in the inverted dictionary.\n",
    "old_dict = {'A': 67, 'B': 23, 'C': 45, 'D': 56, 'E': 12, 'F': 69, 'G': 67, 'H': 23}\n",
    "new_dict = dict([(value, key) for key, value in old_dict.items()]) \n",
    "for i in new_dict:\n",
    "    print(i, \"  \", new_dict[i])\n"
   ]
  },
  {
   "cell_type": "code",
   "execution_count": null,
   "id": "b96f41a6",
   "metadata": {},
   "outputs": [],
   "source": []
  }
 ],
 "metadata": {
  "kernelspec": {
   "display_name": "Python 3 (ipykernel)",
   "language": "python",
   "name": "python3"
  },
  "language_info": {
   "codemirror_mode": {
    "name": "ipython",
    "version": 3
   },
   "file_extension": ".py",
   "mimetype": "text/x-python",
   "name": "python",
   "nbconvert_exporter": "python",
   "pygments_lexer": "ipython3",
   "version": "3.11.5"
  }
 },
 "nbformat": 4,
 "nbformat_minor": 5
}
