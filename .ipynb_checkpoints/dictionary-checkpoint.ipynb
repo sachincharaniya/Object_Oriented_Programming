{
 "cells": [
  {
   "cell_type": "code",
   "execution_count": 1,
   "id": "d91609e1",
   "metadata": {},
   "outputs": [],
   "source": [
    "# dictionary is a data structure that stores data as key value pair\n",
    "# unordered, keys are unique and immutables"
   ]
  },
  {
   "cell_type": "code",
   "execution_count": 2,
   "id": "2372d738",
   "metadata": {},
   "outputs": [],
   "source": [
    "dic = {}"
   ]
  },
  {
   "cell_type": "code",
   "execution_count": 3,
   "id": "dd9035b7",
   "metadata": {},
   "outputs": [
    {
     "data": {
      "text/plain": [
       "dict"
      ]
     },
     "execution_count": 3,
     "metadata": {},
     "output_type": "execute_result"
    }
   ],
   "source": [
    "type(dic)"
   ]
  },
  {
   "cell_type": "code",
   "execution_count": 4,
   "id": "4e73e69d",
   "metadata": {},
   "outputs": [],
   "source": [
    "d = {\"name\":\"sachin\",\"email\":\"sachin@gmail.com\",\"contact\":1234}"
   ]
  },
  {
   "cell_type": "code",
   "execution_count": 5,
   "id": "3ed4da77",
   "metadata": {},
   "outputs": [
    {
     "data": {
      "text/plain": [
       "dict"
      ]
     },
     "execution_count": 5,
     "metadata": {},
     "output_type": "execute_result"
    }
   ],
   "source": [
    "type(d)"
   ]
  },
  {
   "cell_type": "code",
   "execution_count": 6,
   "id": "31361a37",
   "metadata": {},
   "outputs": [
    {
     "data": {
      "text/plain": [
       "{'name': 'sachin', 'email': 'sachin@gmail.com', 'contact': 1234}"
      ]
     },
     "execution_count": 6,
     "metadata": {},
     "output_type": "execute_result"
    }
   ],
   "source": [
    "d"
   ]
  },
  {
   "cell_type": "code",
   "execution_count": 7,
   "id": "ac087fec",
   "metadata": {},
   "outputs": [],
   "source": [
    "l = [1,2,3]"
   ]
  },
  {
   "cell_type": "code",
   "execution_count": 8,
   "id": "4f364f99",
   "metadata": {},
   "outputs": [
    {
     "data": {
      "text/plain": [
       "1"
      ]
     },
     "execution_count": 8,
     "metadata": {},
     "output_type": "execute_result"
    }
   ],
   "source": [
    "l[0]"
   ]
  },
  {
   "cell_type": "code",
   "execution_count": 9,
   "id": "9b9f2ea9",
   "metadata": {},
   "outputs": [
    {
     "data": {
      "text/plain": [
       "'sachin'"
      ]
     },
     "execution_count": 9,
     "metadata": {},
     "output_type": "execute_result"
    }
   ],
   "source": [
    "d['name']"
   ]
  },
  {
   "cell_type": "code",
   "execution_count": 10,
   "id": "fb7bfd8d",
   "metadata": {},
   "outputs": [
    {
     "data": {
      "text/plain": [
       "'sachin@gmail.com'"
      ]
     },
     "execution_count": 10,
     "metadata": {},
     "output_type": "execute_result"
    }
   ],
   "source": [
    "d['email']"
   ]
  },
  {
   "cell_type": "code",
   "execution_count": 11,
   "id": "0dc564b1",
   "metadata": {},
   "outputs": [
    {
     "data": {
      "text/plain": [
       "1234"
      ]
     },
     "execution_count": 11,
     "metadata": {},
     "output_type": "execute_result"
    }
   ],
   "source": [
    "d['contact']"
   ]
  },
  {
   "cell_type": "code",
   "execution_count": 12,
   "id": "b2e5a900",
   "metadata": {},
   "outputs": [],
   "source": [
    "d['name']='bijay'"
   ]
  },
  {
   "cell_type": "code",
   "execution_count": 13,
   "id": "013c29b9",
   "metadata": {},
   "outputs": [
    {
     "data": {
      "text/plain": [
       "{'name': 'bijay', 'email': 'sachin@gmail.com', 'contact': 1234}"
      ]
     },
     "execution_count": 13,
     "metadata": {},
     "output_type": "execute_result"
    }
   ],
   "source": [
    "d"
   ]
  },
  {
   "cell_type": "code",
   "execution_count": 14,
   "id": "bec7ba39",
   "metadata": {},
   "outputs": [],
   "source": [
    "d = {1:\"abc\"}"
   ]
  },
  {
   "cell_type": "code",
   "execution_count": 16,
   "id": "f604e63b",
   "metadata": {},
   "outputs": [
    {
     "data": {
      "text/plain": [
       "{1: 'abc'}"
      ]
     },
     "execution_count": 16,
     "metadata": {},
     "output_type": "execute_result"
    }
   ],
   "source": [
    "d"
   ]
  },
  {
   "cell_type": "code",
   "execution_count": 17,
   "id": "2a4bbff2",
   "metadata": {},
   "outputs": [],
   "source": [
    "d = {2.3:\"abc\"}"
   ]
  },
  {
   "cell_type": "code",
   "execution_count": 19,
   "id": "3e787946",
   "metadata": {},
   "outputs": [
    {
     "data": {
      "text/plain": [
       "{2.3: 'abc'}"
      ]
     },
     "execution_count": 19,
     "metadata": {},
     "output_type": "execute_result"
    }
   ],
   "source": [
    "d"
   ]
  },
  {
   "cell_type": "code",
   "execution_count": 20,
   "id": "bf69eb4a",
   "metadata": {},
   "outputs": [
    {
     "ename": "SyntaxError",
     "evalue": "invalid syntax (2268442835.py, line 1)",
     "output_type": "error",
     "traceback": [
      "\u001b[1;36m  Cell \u001b[1;32mIn[20], line 1\u001b[1;36m\u001b[0m\n\u001b[1;33m    d = {@:\"abc\"}\u001b[0m\n\u001b[1;37m         ^\u001b[0m\n\u001b[1;31mSyntaxError\u001b[0m\u001b[1;31m:\u001b[0m invalid syntax\n"
     ]
    }
   ],
   "source": [
    "d = {@:\"abc\"}"
   ]
  },
  {
   "cell_type": "code",
   "execution_count": 24,
   "id": "4407df1c",
   "metadata": {},
   "outputs": [
    {
     "ename": "TypeError",
     "evalue": "unhashable type: 'list'",
     "output_type": "error",
     "traceback": [
      "\u001b[1;31m---------------------------------------------------------------------------\u001b[0m",
      "\u001b[1;31mTypeError\u001b[0m                                 Traceback (most recent call last)",
      "Cell \u001b[1;32mIn[24], line 1\u001b[0m\n\u001b[1;32m----> 1\u001b[0m d \u001b[38;5;241m=\u001b[39m {[\u001b[38;5;241m1\u001b[39m,\u001b[38;5;241m2\u001b[39m,\u001b[38;5;241m3\u001b[39m]:\u001b[38;5;124m\"\u001b[39m\u001b[38;5;124mabc\u001b[39m\u001b[38;5;124m\"\u001b[39m}\n",
      "\u001b[1;31mTypeError\u001b[0m: unhashable type: 'list'"
     ]
    }
   ],
   "source": [
    "d = {[1,2,3]:\"abc\"}"
   ]
  },
  {
   "cell_type": "code",
   "execution_count": 25,
   "id": "4392d1e2",
   "metadata": {},
   "outputs": [],
   "source": [
    "d = {(1,2,3):\"abc\"}"
   ]
  },
  {
   "cell_type": "code",
   "execution_count": 26,
   "id": "0d9df88e",
   "metadata": {},
   "outputs": [
    {
     "data": {
      "text/plain": [
       "{(1, 2, 3): 'abc'}"
      ]
     },
     "execution_count": 26,
     "metadata": {},
     "output_type": "execute_result"
    }
   ],
   "source": [
    "d"
   ]
  },
  {
   "cell_type": "code",
   "execution_count": 27,
   "id": "8be9560e",
   "metadata": {},
   "outputs": [
    {
     "ename": "TypeError",
     "evalue": "unhashable type: 'set'",
     "output_type": "error",
     "traceback": [
      "\u001b[1;31m---------------------------------------------------------------------------\u001b[0m",
      "\u001b[1;31mTypeError\u001b[0m                                 Traceback (most recent call last)",
      "Cell \u001b[1;32mIn[27], line 1\u001b[0m\n\u001b[1;32m----> 1\u001b[0m d \u001b[38;5;241m=\u001b[39m {{\u001b[38;5;241m1\u001b[39m,\u001b[38;5;241m2\u001b[39m,\u001b[38;5;241m3\u001b[39m}:\u001b[38;5;124m\"\u001b[39m\u001b[38;5;124mabc\u001b[39m\u001b[38;5;124m\"\u001b[39m}\n",
      "\u001b[1;31mTypeError\u001b[0m: unhashable type: 'set'"
     ]
    }
   ],
   "source": [
    "d = {{1,2,3}:\"abc\"}"
   ]
  },
  {
   "cell_type": "code",
   "execution_count": 28,
   "id": "afe3fa8c",
   "metadata": {},
   "outputs": [],
   "source": [
    "d = {\"name\":\"sachin\",\"email\":\"sachin@gmail.com\",\"contact\":1234}"
   ]
  },
  {
   "cell_type": "code",
   "execution_count": 29,
   "id": "f29d696b",
   "metadata": {},
   "outputs": [
    {
     "data": {
      "text/plain": [
       "{'name': 'sachin', 'email': 'sachin@gmail.com', 'contact': 1234}"
      ]
     },
     "execution_count": 29,
     "metadata": {},
     "output_type": "execute_result"
    }
   ],
   "source": [
    "d"
   ]
  },
  {
   "cell_type": "code",
   "execution_count": 30,
   "id": "c3b1952b",
   "metadata": {},
   "outputs": [],
   "source": [
    "d['name'] = \"data science\""
   ]
  },
  {
   "cell_type": "code",
   "execution_count": 31,
   "id": "24a648ec",
   "metadata": {},
   "outputs": [
    {
     "data": {
      "text/plain": [
       "{'name': 'data science', 'email': 'sachin@gmail.com', 'contact': 1234}"
      ]
     },
     "execution_count": 31,
     "metadata": {},
     "output_type": "execute_result"
    }
   ],
   "source": [
    "d"
   ]
  },
  {
   "cell_type": "code",
   "execution_count": 32,
   "id": "055ae293",
   "metadata": {},
   "outputs": [],
   "source": [
    "d = {\"name\":[\"sachin\",\"bijay\",\"sanjay\"],\"course\":(\"ds\",\"ml\")}"
   ]
  },
  {
   "cell_type": "code",
   "execution_count": 33,
   "id": "634be9c0",
   "metadata": {},
   "outputs": [
    {
     "data": {
      "text/plain": [
       "2"
      ]
     },
     "execution_count": 33,
     "metadata": {},
     "output_type": "execute_result"
    }
   ],
   "source": [
    "len(d)"
   ]
  },
  {
   "cell_type": "code",
   "execution_count": 34,
   "id": "fea48eeb",
   "metadata": {},
   "outputs": [
    {
     "data": {
      "text/plain": [
       "dict_keys(['name', 'course'])"
      ]
     },
     "execution_count": 34,
     "metadata": {},
     "output_type": "execute_result"
    }
   ],
   "source": [
    "d.keys()"
   ]
  },
  {
   "cell_type": "code",
   "execution_count": 35,
   "id": "5a162125",
   "metadata": {},
   "outputs": [
    {
     "data": {
      "text/plain": [
       "dict_values([['sachin', 'bijay', 'sanjay'], ('ds', 'ml')])"
      ]
     },
     "execution_count": 35,
     "metadata": {},
     "output_type": "execute_result"
    }
   ],
   "source": [
    "d.values()"
   ]
  },
  {
   "cell_type": "code",
   "execution_count": 36,
   "id": "5dab8067",
   "metadata": {},
   "outputs": [
    {
     "data": {
      "text/plain": [
       "dict_items([('name', ['sachin', 'bijay', 'sanjay']), ('course', ('ds', 'ml'))])"
      ]
     },
     "execution_count": 36,
     "metadata": {},
     "output_type": "execute_result"
    }
   ],
   "source": [
    "d.items()"
   ]
  },
  {
   "cell_type": "code",
   "execution_count": 37,
   "id": "9c7ff3a9",
   "metadata": {},
   "outputs": [],
   "source": [
    "d1 = d.copy()"
   ]
  },
  {
   "cell_type": "code",
   "execution_count": 38,
   "id": "6aab2f45",
   "metadata": {},
   "outputs": [
    {
     "data": {
      "text/plain": [
       "{'name': ['sachin', 'bijay', 'sanjay'], 'course': ('ds', 'ml')}"
      ]
     },
     "execution_count": 38,
     "metadata": {},
     "output_type": "execute_result"
    }
   ],
   "source": [
    "d1"
   ]
  },
  {
   "cell_type": "code",
   "execution_count": 39,
   "id": "a92f6787",
   "metadata": {},
   "outputs": [],
   "source": [
    "del d1"
   ]
  },
  {
   "cell_type": "code",
   "execution_count": 40,
   "id": "02b7bcda",
   "metadata": {},
   "outputs": [
    {
     "ename": "NameError",
     "evalue": "name 'd1' is not defined",
     "output_type": "error",
     "traceback": [
      "\u001b[1;31m---------------------------------------------------------------------------\u001b[0m",
      "\u001b[1;31mNameError\u001b[0m                                 Traceback (most recent call last)",
      "Cell \u001b[1;32mIn[40], line 1\u001b[0m\n\u001b[1;32m----> 1\u001b[0m d1\n",
      "\u001b[1;31mNameError\u001b[0m: name 'd1' is not defined"
     ]
    }
   ],
   "source": [
    "d1"
   ]
  },
  {
   "cell_type": "code",
   "execution_count": 41,
   "id": "022414bb",
   "metadata": {},
   "outputs": [
    {
     "data": {
      "text/plain": [
       "{'name': ['sachin', 'bijay', 'sanjay'], 'course': ('ds', 'ml')}"
      ]
     },
     "execution_count": 41,
     "metadata": {},
     "output_type": "execute_result"
    }
   ],
   "source": [
    "d"
   ]
  },
  {
   "cell_type": "code",
   "execution_count": 43,
   "id": "0785ccf0",
   "metadata": {},
   "outputs": [
    {
     "data": {
      "text/plain": [
       "('ds', 'ml')"
      ]
     },
     "execution_count": 43,
     "metadata": {},
     "output_type": "execute_result"
    }
   ],
   "source": [
    "d.pop('course')"
   ]
  },
  {
   "cell_type": "code",
   "execution_count": 44,
   "id": "5ee12ddf",
   "metadata": {},
   "outputs": [
    {
     "data": {
      "text/plain": [
       "{'name': ['sachin', 'bijay', 'sanjay']}"
      ]
     },
     "execution_count": 44,
     "metadata": {},
     "output_type": "execute_result"
    }
   ],
   "source": [
    "d"
   ]
  },
  {
   "cell_type": "code",
   "execution_count": 45,
   "id": "4a63ae27",
   "metadata": {},
   "outputs": [],
   "source": [
    "d1 = {\"course\":\"DS\",\"start\":\"20Th mar\"}"
   ]
  },
  {
   "cell_type": "code",
   "execution_count": 46,
   "id": "a153efc9",
   "metadata": {},
   "outputs": [
    {
     "data": {
      "text/plain": [
       "{'course': 'DS', 'start': '20Th mar'}"
      ]
     },
     "execution_count": 46,
     "metadata": {},
     "output_type": "execute_result"
    }
   ],
   "source": [
    "d1"
   ]
  },
  {
   "cell_type": "code",
   "execution_count": 47,
   "id": "109b3dde",
   "metadata": {},
   "outputs": [],
   "source": [
    "d.update(d1)"
   ]
  },
  {
   "cell_type": "code",
   "execution_count": 48,
   "id": "6ec05e67",
   "metadata": {},
   "outputs": [
    {
     "data": {
      "text/plain": [
       "{'name': ['sachin', 'bijay', 'sanjay'], 'course': 'DS', 'start': '20Th mar'}"
      ]
     },
     "execution_count": 48,
     "metadata": {},
     "output_type": "execute_result"
    }
   ],
   "source": [
    "d"
   ]
  },
  {
   "cell_type": "code",
   "execution_count": 49,
   "id": "b7bda77d",
   "metadata": {},
   "outputs": [
    {
     "data": {
      "text/plain": [
       "'20Th mar'"
      ]
     },
     "execution_count": 49,
     "metadata": {},
     "output_type": "execute_result"
    }
   ],
   "source": [
    "d['start']"
   ]
  },
  {
   "cell_type": "code",
   "execution_count": 50,
   "id": "1877f43d",
   "metadata": {},
   "outputs": [
    {
     "data": {
      "text/plain": [
       "'20Th mar'"
      ]
     },
     "execution_count": 50,
     "metadata": {},
     "output_type": "execute_result"
    }
   ],
   "source": [
    "d.get(\"start\")"
   ]
  },
  {
   "cell_type": "code",
   "execution_count": 52,
   "id": "57b798ce",
   "metadata": {},
   "outputs": [
    {
     "data": {
      "text/plain": [
       "{'name': ['sachin', 'bijay', 'sanjay'], 'course': 'DS', 'start': '20Th mar'}"
      ]
     },
     "execution_count": 52,
     "metadata": {},
     "output_type": "execute_result"
    }
   ],
   "source": [
    "d"
   ]
  },
  {
   "cell_type": "code",
   "execution_count": 53,
   "id": "11489ff8",
   "metadata": {},
   "outputs": [
    {
     "data": {
      "text/plain": [
       "{1: ('a', 'b', 'c'), 2: ('a', 'b', 'c'), 3: ('a', 'b', 'c')}"
      ]
     },
     "execution_count": 53,
     "metadata": {},
     "output_type": "execute_result"
    }
   ],
   "source": [
    "d.fromkeys((1,2,3),('a','b','c'))"
   ]
  },
  {
   "cell_type": "code",
   "execution_count": 54,
   "id": "b304640b",
   "metadata": {},
   "outputs": [],
   "source": [
    "#dictionary comprehension"
   ]
  },
  {
   "cell_type": "code",
   "execution_count": 57,
   "id": "e4e13a4b",
   "metadata": {},
   "outputs": [],
   "source": [
    "students = ['Arun','Ajay','Bob']\n",
    "marks = [80,95,90]\n",
    "student_marks = {}\n",
    "for student,mark in zip(students,marks):\n",
    "    student_marks[student] = mark"
   ]
  },
  {
   "cell_type": "code",
   "execution_count": 58,
   "id": "394b4045",
   "metadata": {},
   "outputs": [
    {
     "data": {
      "text/plain": [
       "{'Arun': 80, 'Ajay': 95, 'Bob': 90}"
      ]
     },
     "execution_count": 58,
     "metadata": {},
     "output_type": "execute_result"
    }
   ],
   "source": [
    "student_marks"
   ]
  },
  {
   "cell_type": "code",
   "execution_count": 59,
   "id": "39d38fbc",
   "metadata": {},
   "outputs": [
    {
     "name": "stdout",
     "output_type": "stream",
     "text": [
      "('Arun', 80)\n",
      "('Ajay', 95)\n",
      "('Bob', 90)\n"
     ]
    }
   ],
   "source": [
    "for i in zip(students,marks):\n",
    "    print(i)"
   ]
  },
  {
   "cell_type": "code",
   "execution_count": 60,
   "id": "45bb161f",
   "metadata": {},
   "outputs": [
    {
     "data": {
      "text/plain": [
       "{'B': 80, 'o': 95, 'b': 90}"
      ]
     },
     "execution_count": 60,
     "metadata": {},
     "output_type": "execute_result"
    }
   ],
   "source": [
    "{student:marks for student,marks in zip(student,marks)}"
   ]
  },
  {
   "cell_type": "code",
   "execution_count": 61,
   "id": "67e4d2af",
   "metadata": {},
   "outputs": [
    {
     "data": {
      "text/plain": [
       "{1: 'a21', 2: 'a22', 3: 'a33'}"
      ]
     },
     "execution_count": 61,
     "metadata": {},
     "output_type": "execute_result"
    }
   ],
   "source": [
    "user_id = [1,2,3]\n",
    "user_name = [\"a21\",\"a22\",\"a33\"]\n",
    "{u_id:u_name for u_id,u_name in zip (user_id,user_name)}"
   ]
  },
  {
   "cell_type": "code",
   "execution_count": null,
   "id": "6996e459",
   "metadata": {},
   "outputs": [],
   "source": []
  }
 ],
 "metadata": {
  "kernelspec": {
   "display_name": "Python 3 (ipykernel)",
   "language": "python",
   "name": "python3"
  },
  "language_info": {
   "codemirror_mode": {
    "name": "ipython",
    "version": 3
   },
   "file_extension": ".py",
   "mimetype": "text/x-python",
   "name": "python",
   "nbconvert_exporter": "python",
   "pygments_lexer": "ipython3",
   "version": "3.11.5"
  }
 },
 "nbformat": 4,
 "nbformat_minor": 5
}
