{
 "cells": [
  {
   "cell_type": "code",
   "execution_count": 1,
   "id": "6e380f95",
   "metadata": {},
   "outputs": [],
   "source": [
    "# loop allows you to repeatedly execute a block of code, while and for loop\n",
    "# while\n",
    "# repeateadly execute a block of code as condition true \n"
   ]
  },
  {
   "cell_type": "code",
   "execution_count": 2,
   "id": "85c137ea",
   "metadata": {},
   "outputs": [
    {
     "name": "stdout",
     "output_type": "stream",
     "text": [
      "1\n",
      "2\n",
      "3\n",
      "4\n"
     ]
    }
   ],
   "source": [
    "n = 5 \n",
    "i = 1 \n",
    "while i < n :\n",
    "    print(i)\n",
    "    i = i + 1"
   ]
  },
  {
   "cell_type": "code",
   "execution_count": 4,
   "id": "bac22e68",
   "metadata": {},
   "outputs": [
    {
     "name": "stdout",
     "output_type": "stream",
     "text": [
      "1\n",
      "2\n",
      "3\n",
      "4\n",
      "This will be executed when the while loop is run successully\n"
     ]
    }
   ],
   "source": [
    "n = 5 \n",
    "i = 1 \n",
    "while i < n :\n",
    "    print(i)\n",
    "    i = i + 1\n",
    "else:\n",
    "    print(\"This will be executed when the while loop is run successully\")"
   ]
  },
  {
   "cell_type": "code",
   "execution_count": 5,
   "id": "42ecc7b5",
   "metadata": {},
   "outputs": [
    {
     "name": "stdout",
     "output_type": "stream",
     "text": [
      "5\n",
      "4\n",
      "3\n",
      "2\n",
      "1\n"
     ]
    }
   ],
   "source": [
    "count = 5 \n",
    "while count > 0:\n",
    "    print(count)\n",
    "    count = count - 1\n"
   ]
  },
  {
   "cell_type": "code",
   "execution_count": 9,
   "id": "a440df27",
   "metadata": {},
   "outputs": [
    {
     "name": "stdout",
     "output_type": "stream",
     "text": [
      "2\n",
      "4\n",
      "5\n",
      "6\n",
      "7\n",
      "This will be executed when the while loop is run successully\n"
     ]
    }
   ],
   "source": [
    "n = 7 \n",
    "i = 1 \n",
    "while i < n :\n",
    "    i = i + 1\n",
    "    if i == 3:\n",
    "        #break\n",
    "        continue\n",
    "    print(i)\n",
    "else:\n",
    "    print(\"This will be executed when the while loop is run successully\")"
   ]
  },
  {
   "cell_type": "code",
   "execution_count": 10,
   "id": "76443baf",
   "metadata": {},
   "outputs": [],
   "source": [
    "#for loops iterate over a sequence if elsements string or list"
   ]
  },
  {
   "cell_type": "code",
   "execution_count": 11,
   "id": "1f42fc7e",
   "metadata": {},
   "outputs": [
    {
     "name": "stdout",
     "output_type": "stream",
     "text": [
      "p\n",
      "w\n",
      "s\n",
      "k\n",
      "i\n",
      "l\n",
      "l\n",
      "s\n"
     ]
    }
   ],
   "source": [
    "a = \"pwskills\"\n",
    "for char in a :\n",
    "    print(char)"
   ]
  },
  {
   "cell_type": "code",
   "execution_count": 13,
   "id": "db8088f2",
   "metadata": {},
   "outputs": [
    {
     "name": "stdout",
     "output_type": "stream",
     "text": [
      "p\n",
      "w\n",
      "s\n",
      "k\n",
      "i\n",
      "l\n",
      "l\n",
      "s\n"
     ]
    }
   ],
   "source": [
    "for i in a :\n",
    "    print(i)"
   ]
  },
  {
   "cell_type": "code",
   "execution_count": 14,
   "id": "98a85a28",
   "metadata": {},
   "outputs": [
    {
     "name": "stdout",
     "output_type": "stream",
     "text": [
      "1\n",
      "2\n",
      "3\n",
      "Ajay\n",
      "pwskills\n"
     ]
    }
   ],
   "source": [
    "l = [1,2,3,\"Ajay\",\"pwskills\"]\n",
    "for i in l:\n",
    "    print(i)"
   ]
  },
  {
   "cell_type": "code",
   "execution_count": 15,
   "id": "e27593fd",
   "metadata": {},
   "outputs": [
    {
     "name": "stdout",
     "output_type": "stream",
     "text": [
      "1\n",
      "2\n",
      "3\n",
      "Ajay\n",
      "pwskills\n",
      "this will executed \n"
     ]
    }
   ],
   "source": [
    "for i in l:\n",
    "    print(i)\n",
    "else:\n",
    "    print(\"this will executed \")"
   ]
  },
  {
   "cell_type": "code",
   "execution_count": 18,
   "id": "1b8debd4",
   "metadata": {},
   "outputs": [
    {
     "name": "stdout",
     "output_type": "stream",
     "text": [
      "1\n",
      "2\n",
      "3\n"
     ]
    }
   ],
   "source": [
    "for i in l:\n",
    "    if i ==\"Ajay\":\n",
    "        break\n",
    "    print(i)\n",
    "else:\n",
    "    print(\"this is will execute when for loop ends\")"
   ]
  },
  {
   "cell_type": "code",
   "execution_count": 19,
   "id": "dc146336",
   "metadata": {},
   "outputs": [
    {
     "name": "stdout",
     "output_type": "stream",
     "text": [
      "1\n",
      "2\n",
      "3\n",
      "pwskills\n",
      "this is will execute when for loop ends\n"
     ]
    }
   ],
   "source": [
    "for i in l:\n",
    "    if i ==\"Ajay\":\n",
    "        continue\n",
    "    print(i)\n",
    "else:\n",
    "    print(\"this is will execute when for loop ends\")"
   ]
  },
  {
   "cell_type": "code",
   "execution_count": 20,
   "id": "dabbb2da",
   "metadata": {},
   "outputs": [
    {
     "data": {
      "text/plain": [
       "[0, 1, 2, 3, 4, 5, 6, 7, 8, 9]"
      ]
     },
     "execution_count": 20,
     "metadata": {},
     "output_type": "execute_result"
    }
   ],
   "source": [
    "list(range(0,10))"
   ]
  },
  {
   "cell_type": "code",
   "execution_count": 21,
   "id": "86868ddf",
   "metadata": {},
   "outputs": [
    {
     "name": "stdout",
     "output_type": "stream",
     "text": [
      "0\n",
      "1\n",
      "2\n",
      "3\n",
      "4\n",
      "5\n",
      "6\n",
      "7\n",
      "8\n",
      "9\n"
     ]
    }
   ],
   "source": [
    "for i in range(10):\n",
    "    print(i)"
   ]
  },
  {
   "cell_type": "code",
   "execution_count": 22,
   "id": "a01deb22",
   "metadata": {},
   "outputs": [
    {
     "data": {
      "text/plain": [
       "[0, 2, 4, 6, 8]"
      ]
     },
     "execution_count": 22,
     "metadata": {},
     "output_type": "execute_result"
    }
   ],
   "source": [
    "list(range(0,10,2))"
   ]
  },
  {
   "cell_type": "code",
   "execution_count": 23,
   "id": "4f07cea2",
   "metadata": {},
   "outputs": [],
   "source": [
    "#print a right triangle using while loop\n"
   ]
  },
  {
   "cell_type": "code",
   "execution_count": 24,
   "id": "be7e77fc",
   "metadata": {},
   "outputs": [
    {
     "name": "stdout",
     "output_type": "stream",
     "text": [
      "*\n",
      "**\n",
      "***\n",
      "****\n"
     ]
    }
   ],
   "source": [
    "row = 1\n",
    "while row <= 4:\n",
    "    col=1\n",
    "    while col <= row:\n",
    "        print(\"*\",end=\"\")\n",
    "        col = col+1\n",
    "    print()\n",
    "    row = row + 1"
   ]
  },
  {
   "cell_type": "code",
   "execution_count": 25,
   "id": "97637433",
   "metadata": {},
   "outputs": [
    {
     "name": "stdout",
     "output_type": "stream",
     "text": [
      "0 1 2 3 4 "
     ]
    }
   ],
   "source": [
    "for i in range(5):\n",
    "    print(i,end=\" \")"
   ]
  },
  {
   "cell_type": "code",
   "execution_count": 26,
   "id": "c9156755",
   "metadata": {},
   "outputs": [
    {
     "name": "stdout",
     "output_type": "stream",
     "text": [
      "data sc\n",
      "ml\n",
      "status\n"
     ]
    }
   ],
   "source": [
    "course = [\"data sc\",\"ml\",\"status\"]\n",
    "index = 0\n",
    "while index < len(course):\n",
    "    print(course[index])\n",
    "    index = index + 1"
   ]
  },
  {
   "cell_type": "code",
   "execution_count": 27,
   "id": "56157e40",
   "metadata": {},
   "outputs": [
    {
     "name": "stdout",
     "output_type": "stream",
     "text": [
      "* \n",
      "* * \n",
      "* * * \n",
      "* * * * \n"
     ]
    }
   ],
   "source": [
    "for i in range(4):\n",
    "    for j in range(i+1):\n",
    "        print('*',end=\" \")\n",
    "    print()"
   ]
  },
  {
   "cell_type": "code",
   "execution_count": 29,
   "id": "271f1c33",
   "metadata": {},
   "outputs": [
    {
     "name": "stdout",
     "output_type": "stream",
     "text": [
      "1\n",
      "2\n",
      "4\n",
      "5\n",
      "6\n",
      "8\n",
      "9\n"
     ]
    }
   ],
   "source": [
    "number = [1,2,3,4,5,6,7,8,9]\n",
    "for number in number:\n",
    "    if number == 3 or number == 7 :\n",
    "        continue\n",
    "    print(number)\n",
    "        "
   ]
  },
  {
   "cell_type": "code",
   "execution_count": 31,
   "id": "868996ea",
   "metadata": {},
   "outputs": [
    {
     "name": "stdout",
     "output_type": "stream",
     "text": [
      "0\n",
      "2\n",
      "4\n",
      "6\n",
      "8\n"
     ]
    }
   ],
   "source": [
    "for i in range(10):\n",
    "    if i % 2 != 0:\n",
    "        continue\n",
    "    print(i)"
   ]
  },
  {
   "cell_type": "code",
   "execution_count": null,
   "id": "c068993f",
   "metadata": {},
   "outputs": [],
   "source": []
  }
 ],
 "metadata": {
  "kernelspec": {
   "display_name": "Python 3 (ipykernel)",
   "language": "python",
   "name": "python3"
  },
  "language_info": {
   "codemirror_mode": {
    "name": "ipython",
    "version": 3
   },
   "file_extension": ".py",
   "mimetype": "text/x-python",
   "name": "python",
   "nbconvert_exporter": "python",
   "pygments_lexer": "ipython3",
   "version": "3.11.5"
  }
 },
 "nbformat": 4,
 "nbformat_minor": 5
}
