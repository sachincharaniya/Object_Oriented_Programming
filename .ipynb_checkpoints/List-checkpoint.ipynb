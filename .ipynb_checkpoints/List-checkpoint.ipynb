{
 "cells": [
  {
   "cell_type": "code",
   "execution_count": 2,
   "id": "2fba70c3",
   "metadata": {},
   "outputs": [],
   "source": [
    "#list are ordered collection of items \n",
    "#[]\n",
    "#list is like a shopping bag which can store eveythibg"
   ]
  },
  {
   "cell_type": "code",
   "execution_count": 3,
   "id": "dff75220",
   "metadata": {},
   "outputs": [
    {
     "data": {
      "text/plain": [
       "list"
      ]
     },
     "execution_count": 3,
     "metadata": {},
     "output_type": "execute_result"
    }
   ],
   "source": [
    "type([])"
   ]
  },
  {
   "cell_type": "code",
   "execution_count": 4,
   "id": "4d0e6137",
   "metadata": {},
   "outputs": [],
   "source": [
    "grocery_list = [\"milk\",\"Orange\",1,2,3,4,5.6]"
   ]
  },
  {
   "cell_type": "code",
   "execution_count": 5,
   "id": "adb88eb3",
   "metadata": {},
   "outputs": [
    {
     "data": {
      "text/plain": [
       "list"
      ]
     },
     "execution_count": 5,
     "metadata": {},
     "output_type": "execute_result"
    }
   ],
   "source": [
    "type(grocery_list)"
   ]
  },
  {
   "cell_type": "code",
   "execution_count": 6,
   "id": "67b88504",
   "metadata": {},
   "outputs": [],
   "source": [
    "#list are mutable "
   ]
  },
  {
   "cell_type": "code",
   "execution_count": 7,
   "id": "a5f073ba",
   "metadata": {},
   "outputs": [
    {
     "data": {
      "text/plain": [
       "3"
      ]
     },
     "execution_count": 7,
     "metadata": {},
     "output_type": "execute_result"
    }
   ],
   "source": [
    "grocery_list[4]"
   ]
  },
  {
   "cell_type": "code",
   "execution_count": 8,
   "id": "94b36892",
   "metadata": {},
   "outputs": [
    {
     "data": {
      "text/plain": [
       "2"
      ]
     },
     "execution_count": 8,
     "metadata": {},
     "output_type": "execute_result"
    }
   ],
   "source": [
    "grocery_list[3]"
   ]
  },
  {
   "cell_type": "code",
   "execution_count": 9,
   "id": "22cade54",
   "metadata": {},
   "outputs": [
    {
     "data": {
      "text/plain": [
       "['Orange', 1, 2, 3, 4, 5.6]"
      ]
     },
     "execution_count": 9,
     "metadata": {},
     "output_type": "execute_result"
    }
   ],
   "source": [
    "grocery_list[1:]"
   ]
  },
  {
   "cell_type": "code",
   "execution_count": 10,
   "id": "ac0644b3",
   "metadata": {},
   "outputs": [
    {
     "data": {
      "text/plain": [
       "['Orange', 1, 2]"
      ]
     },
     "execution_count": 10,
     "metadata": {},
     "output_type": "execute_result"
    }
   ],
   "source": [
    "grocery_list[1:4]"
   ]
  },
  {
   "cell_type": "code",
   "execution_count": 11,
   "id": "094f5120",
   "metadata": {},
   "outputs": [],
   "source": [
    "movies = [\"Action1\",\"Action2\",\"Action3\",\"commedy\"]"
   ]
  },
  {
   "cell_type": "code",
   "execution_count": 12,
   "id": "42e06822",
   "metadata": {},
   "outputs": [
    {
     "data": {
      "text/plain": [
       "['Action1', 'Action2', 'Action3']"
      ]
     },
     "execution_count": 12,
     "metadata": {},
     "output_type": "execute_result"
    }
   ],
   "source": [
    "movies[0:3]"
   ]
  },
  {
   "cell_type": "code",
   "execution_count": 13,
   "id": "f187ce19",
   "metadata": {},
   "outputs": [
    {
     "data": {
      "text/plain": [
       "'commedy'"
      ]
     },
     "execution_count": 13,
     "metadata": {},
     "output_type": "execute_result"
    }
   ],
   "source": [
    "movies[-1]"
   ]
  },
  {
   "cell_type": "code",
   "execution_count": 14,
   "id": "38dcc3c8",
   "metadata": {},
   "outputs": [],
   "source": [
    "pages = [\"Title page\",\"chap1\",\"chap2\",\"conclusion\",\"index\"]\n"
   ]
  },
  {
   "cell_type": "code",
   "execution_count": 15,
   "id": "c7ab3fa5",
   "metadata": {},
   "outputs": [
    {
     "data": {
      "text/plain": [
       "'index'"
      ]
     },
     "execution_count": 15,
     "metadata": {},
     "output_type": "execute_result"
    }
   ],
   "source": [
    "pages[-1]"
   ]
  },
  {
   "cell_type": "code",
   "execution_count": 16,
   "id": "5c54851c",
   "metadata": {},
   "outputs": [],
   "source": [
    "queue = [\"Ajay\",\"Bijay\",\"sanjay\",\"Anjay\"]"
   ]
  },
  {
   "cell_type": "code",
   "execution_count": 17,
   "id": "3f64ccc0",
   "metadata": {},
   "outputs": [
    {
     "data": {
      "text/plain": [
       "['Ajay', 'Bijay', 'sanjay', 'Anjay']"
      ]
     },
     "execution_count": 17,
     "metadata": {},
     "output_type": "execute_result"
    }
   ],
   "source": [
    "queue"
   ]
  },
  {
   "cell_type": "code",
   "execution_count": 18,
   "id": "fa0f5043",
   "metadata": {},
   "outputs": [],
   "source": [
    "list1 = [\"Apple\",\"Banana\"]"
   ]
  },
  {
   "cell_type": "code",
   "execution_count": 19,
   "id": "25d8ec44",
   "metadata": {},
   "outputs": [
    {
     "data": {
      "text/plain": [
       "['Apple', 'Banana']"
      ]
     },
     "execution_count": 19,
     "metadata": {},
     "output_type": "execute_result"
    }
   ],
   "source": [
    "list1"
   ]
  },
  {
   "cell_type": "code",
   "execution_count": 20,
   "id": "8abff22a",
   "metadata": {},
   "outputs": [],
   "source": [
    "#append >> add element to the end of list"
   ]
  },
  {
   "cell_type": "code",
   "execution_count": 21,
   "id": "991fd455",
   "metadata": {},
   "outputs": [],
   "source": [
    "list1.append(\"Orange\")"
   ]
  },
  {
   "cell_type": "code",
   "execution_count": 22,
   "id": "d10d1c29",
   "metadata": {},
   "outputs": [
    {
     "data": {
      "text/plain": [
       "['Apple', 'Banana', 'Orange']"
      ]
     },
     "execution_count": 22,
     "metadata": {},
     "output_type": "execute_result"
    }
   ],
   "source": [
    "list1"
   ]
  },
  {
   "cell_type": "code",
   "execution_count": 23,
   "id": "df31e80e",
   "metadata": {},
   "outputs": [],
   "source": [
    "playlist = []"
   ]
  },
  {
   "cell_type": "code",
   "execution_count": 24,
   "id": "8940c5fe",
   "metadata": {},
   "outputs": [],
   "source": [
    "playlist.append(\"Sare jhan se acha\")\n",
    "playlist.append(\"Ae mere watan ke logo\")"
   ]
  },
  {
   "cell_type": "code",
   "execution_count": 25,
   "id": "bfe1306e",
   "metadata": {},
   "outputs": [
    {
     "data": {
      "text/plain": [
       "['Sare jhan se acha', 'Ae mere watan ke logo']"
      ]
     },
     "execution_count": 25,
     "metadata": {},
     "output_type": "execute_result"
    }
   ],
   "source": [
    "playlist"
   ]
  },
  {
   "cell_type": "code",
   "execution_count": 26,
   "id": "4b1b00d3",
   "metadata": {},
   "outputs": [],
   "source": [
    "bookshelf = []\n",
    "bookshelf.append(\"book1\")"
   ]
  },
  {
   "cell_type": "code",
   "execution_count": 27,
   "id": "4237aa53",
   "metadata": {},
   "outputs": [
    {
     "data": {
      "text/plain": [
       "['book1']"
      ]
     },
     "execution_count": 27,
     "metadata": {},
     "output_type": "execute_result"
    }
   ],
   "source": [
    "bookshelf"
   ]
  },
  {
   "cell_type": "code",
   "execution_count": 28,
   "id": "807cf593",
   "metadata": {},
   "outputs": [
    {
     "data": {
      "text/plain": [
       "['Apple', 'Banana', 'Orange']"
      ]
     },
     "execution_count": 28,
     "metadata": {},
     "output_type": "execute_result"
    }
   ],
   "source": [
    "list1"
   ]
  },
  {
   "cell_type": "code",
   "execution_count": 29,
   "id": "ffd0ffe2",
   "metadata": {},
   "outputs": [],
   "source": [
    "list1[1] = \"Brinjal\""
   ]
  },
  {
   "cell_type": "code",
   "execution_count": 30,
   "id": "b4fa3d82",
   "metadata": {},
   "outputs": [
    {
     "data": {
      "text/plain": [
       "['Apple', 'Brinjal', 'Orange']"
      ]
     },
     "execution_count": 30,
     "metadata": {},
     "output_type": "execute_result"
    }
   ],
   "source": [
    "list1 # list are muatable "
   ]
  },
  {
   "cell_type": "code",
   "execution_count": 31,
   "id": "7b0fbfdd",
   "metadata": {},
   "outputs": [],
   "source": [
    "list1.insert(1,\"banana\")"
   ]
  },
  {
   "cell_type": "code",
   "execution_count": 32,
   "id": "bd358b30",
   "metadata": {},
   "outputs": [
    {
     "data": {
      "text/plain": [
       "['Apple', 'banana', 'Brinjal', 'Orange']"
      ]
     },
     "execution_count": 32,
     "metadata": {},
     "output_type": "execute_result"
    }
   ],
   "source": [
    "list1"
   ]
  },
  {
   "cell_type": "code",
   "execution_count": 33,
   "id": "00c9a3fe",
   "metadata": {},
   "outputs": [],
   "source": [
    "bus_seat = [\"ajay\",\"Bob\",\"sanjay\"]"
   ]
  },
  {
   "cell_type": "code",
   "execution_count": 34,
   "id": "3354c5e2",
   "metadata": {},
   "outputs": [],
   "source": [
    "bus_seat.insert(1,\"ram\") "
   ]
  },
  {
   "cell_type": "code",
   "execution_count": 35,
   "id": "cc7f6cd5",
   "metadata": {},
   "outputs": [
    {
     "data": {
      "text/plain": [
       "['ajay', 'ram', 'Bob', 'sanjay']"
      ]
     },
     "execution_count": 35,
     "metadata": {},
     "output_type": "execute_result"
    }
   ],
   "source": [
    "bus_seat"
   ]
  },
  {
   "cell_type": "code",
   "execution_count": 36,
   "id": "2e2805c6",
   "metadata": {},
   "outputs": [],
   "source": [
    "#extend >> used to append elements from another iterable"
   ]
  },
  {
   "cell_type": "code",
   "execution_count": 37,
   "id": "1d25bb02",
   "metadata": {},
   "outputs": [],
   "source": [
    "my_list = [\"apple\",\"banana\",\"orange\"]\n",
    "brothers_list = [\"brinjal\",\"potato\"]\n",
    "my_list.extend(brothers_list)"
   ]
  },
  {
   "cell_type": "code",
   "execution_count": 38,
   "id": "962c002a",
   "metadata": {},
   "outputs": [
    {
     "data": {
      "text/plain": [
       "['apple', 'banana', 'orange', 'brinjal', 'potato']"
      ]
     },
     "execution_count": 38,
     "metadata": {},
     "output_type": "execute_result"
    }
   ],
   "source": [
    "my_list"
   ]
  },
  {
   "cell_type": "code",
   "execution_count": 39,
   "id": "183ac65e",
   "metadata": {},
   "outputs": [
    {
     "data": {
      "text/plain": [
       "['apple', 'banana', 'orange', 'brinjal', 'potato']"
      ]
     },
     "execution_count": 39,
     "metadata": {},
     "output_type": "execute_result"
    }
   ],
   "source": [
    "my_list"
   ]
  },
  {
   "cell_type": "code",
   "execution_count": 40,
   "id": "bb72eaee",
   "metadata": {},
   "outputs": [],
   "source": [
    "my_list = [\"apple\",\"banana\",\"orange\"]\n",
    "brothers_list = [\"brinjal\",\"potato\"]"
   ]
  },
  {
   "cell_type": "code",
   "execution_count": 41,
   "id": "3251c809",
   "metadata": {},
   "outputs": [
    {
     "data": {
      "text/plain": [
       "['apple', 'banana', 'orange']"
      ]
     },
     "execution_count": 41,
     "metadata": {},
     "output_type": "execute_result"
    }
   ],
   "source": [
    "my_list"
   ]
  },
  {
   "cell_type": "code",
   "execution_count": 42,
   "id": "b788fc52",
   "metadata": {},
   "outputs": [
    {
     "data": {
      "text/plain": [
       "['apple', 'banana', 'orange', 'brinjal', 'potato']"
      ]
     },
     "execution_count": 42,
     "metadata": {},
     "output_type": "execute_result"
    }
   ],
   "source": [
    "#concatenate\n",
    "my_list + brothers_list"
   ]
  },
  {
   "cell_type": "code",
   "execution_count": 43,
   "id": "18b02af5",
   "metadata": {},
   "outputs": [],
   "source": [
    "#repeatation operation"
   ]
  },
  {
   "cell_type": "code",
   "execution_count": 44,
   "id": "c230375b",
   "metadata": {},
   "outputs": [
    {
     "data": {
      "text/plain": [
       "'*****'"
      ]
     },
     "execution_count": 44,
     "metadata": {},
     "output_type": "execute_result"
    }
   ],
   "source": [
    "\"*\" *5"
   ]
  },
  {
   "cell_type": "code",
   "execution_count": 45,
   "id": "3dc9852b",
   "metadata": {},
   "outputs": [
    {
     "data": {
      "text/plain": [
       "[0, 0, 0, 0, 0, 0, 0, 0, 0, 0]"
      ]
     },
     "execution_count": 45,
     "metadata": {},
     "output_type": "execute_result"
    }
   ],
   "source": [
    "[0] *10"
   ]
  },
  {
   "cell_type": "code",
   "execution_count": 47,
   "id": "af6fbf22",
   "metadata": {},
   "outputs": [
    {
     "data": {
      "text/plain": [
       "[1, 2, 3, 4, 5, 1, 2, 3, 4, 5, 1, 2, 3, 4, 5]"
      ]
     },
     "execution_count": 47,
     "metadata": {},
     "output_type": "execute_result"
    }
   ],
   "source": [
    "list(range(1,6))*3"
   ]
  },
  {
   "cell_type": "code",
   "execution_count": 50,
   "id": "4f33ef27",
   "metadata": {},
   "outputs": [
    {
     "name": "stdout",
     "output_type": "stream",
     "text": [
      "your appoinment is tomorrow\n",
      "your appoinment is tomorrow\n",
      "your appoinment is tomorrow\n",
      "\n"
     ]
    }
   ],
   "source": [
    "msg = \"your appoinment is tomorrow\\n\"\n",
    "print(msg*3)"
   ]
  },
  {
   "cell_type": "code",
   "execution_count": 53,
   "id": "339f7d1a",
   "metadata": {},
   "outputs": [
    {
     "data": {
      "text/plain": [
       "False"
      ]
     },
     "execution_count": 53,
     "metadata": {},
     "output_type": "execute_result"
    }
   ],
   "source": [
    " \"Milk\" in grocery_list "
   ]
  },
  {
   "cell_type": "code",
   "execution_count": 54,
   "id": "520f7867",
   "metadata": {},
   "outputs": [
    {
     "data": {
      "text/plain": [
       "['milk', 'Orange', 1, 2, 3, 4, 5.6]"
      ]
     },
     "execution_count": 54,
     "metadata": {},
     "output_type": "execute_result"
    }
   ],
   "source": [
    "grocery_list"
   ]
  },
  {
   "cell_type": "code",
   "execution_count": 55,
   "id": "c2232707",
   "metadata": {},
   "outputs": [],
   "source": [
    "grocery_list[0] =\"banana\""
   ]
  },
  {
   "cell_type": "code",
   "execution_count": 56,
   "id": "88355212",
   "metadata": {},
   "outputs": [
    {
     "data": {
      "text/plain": [
       "['banana', 'Orange', 1, 2, 3, 4, 5.6]"
      ]
     },
     "execution_count": 56,
     "metadata": {},
     "output_type": "execute_result"
    }
   ],
   "source": [
    "grocery_list"
   ]
  },
  {
   "cell_type": "code",
   "execution_count": 57,
   "id": "15995e28",
   "metadata": {},
   "outputs": [],
   "source": [
    "#deep copy and shallow copy\n",
    "#deep copy will not change "
   ]
  },
  {
   "cell_type": "code",
   "execution_count": 58,
   "id": "bce2bb8c",
   "metadata": {},
   "outputs": [],
   "source": [
    "b = grocery_list.copy()"
   ]
  },
  {
   "cell_type": "code",
   "execution_count": 59,
   "id": "64bfa03d",
   "metadata": {},
   "outputs": [
    {
     "data": {
      "text/plain": [
       "['banana', 'Orange', 1, 2, 3, 4, 5.6]"
      ]
     },
     "execution_count": 59,
     "metadata": {},
     "output_type": "execute_result"
    }
   ],
   "source": [
    "b"
   ]
  },
  {
   "cell_type": "code",
   "execution_count": 60,
   "id": "37014448",
   "metadata": {},
   "outputs": [
    {
     "data": {
      "text/plain": [
       "['banana', 'Orange', 1, 2, 3, 4, 5.6]"
      ]
     },
     "execution_count": 60,
     "metadata": {},
     "output_type": "execute_result"
    }
   ],
   "source": [
    "grocery_list"
   ]
  },
  {
   "cell_type": "code",
   "execution_count": 61,
   "id": "33cc01a6",
   "metadata": {},
   "outputs": [],
   "source": [
    "grocery_list[0]=\"Guava\""
   ]
  },
  {
   "cell_type": "code",
   "execution_count": 62,
   "id": "a7b20a05",
   "metadata": {},
   "outputs": [
    {
     "data": {
      "text/plain": [
       "['Guava', 'Orange', 1, 2, 3, 4, 5.6]"
      ]
     },
     "execution_count": 62,
     "metadata": {},
     "output_type": "execute_result"
    }
   ],
   "source": [
    "grocery_list"
   ]
  },
  {
   "cell_type": "code",
   "execution_count": 63,
   "id": "52a3c883",
   "metadata": {},
   "outputs": [
    {
     "data": {
      "text/plain": [
       "['banana', 'Orange', 1, 2, 3, 4, 5.6]"
      ]
     },
     "execution_count": 63,
     "metadata": {},
     "output_type": "execute_result"
    }
   ],
   "source": [
    "b"
   ]
  },
  {
   "cell_type": "code",
   "execution_count": 64,
   "id": "8fac7b99",
   "metadata": {},
   "outputs": [],
   "source": [
    "#sorting lists"
   ]
  },
  {
   "cell_type": "code",
   "execution_count": 72,
   "id": "310750dc",
   "metadata": {},
   "outputs": [],
   "source": [
    "book_list = [\"Data Structure\",\"Data Structure\",\"Algorithm\",\"Web Dev\"]"
   ]
  },
  {
   "cell_type": "code",
   "execution_count": 73,
   "id": "21c6b6f1",
   "metadata": {},
   "outputs": [
    {
     "data": {
      "text/plain": [
       "['Algorithm', 'Data Structure', 'Data Structure', 'Web Dev']"
      ]
     },
     "execution_count": 73,
     "metadata": {},
     "output_type": "execute_result"
    }
   ],
   "source": [
    "sorted(book_list)"
   ]
  },
  {
   "cell_type": "code",
   "execution_count": 74,
   "id": "7deb7dcf",
   "metadata": {},
   "outputs": [
    {
     "data": {
      "text/plain": [
       "2"
      ]
     },
     "execution_count": 74,
     "metadata": {},
     "output_type": "execute_result"
    }
   ],
   "source": [
    "book_list.index(\"Algorithm\")"
   ]
  },
  {
   "cell_type": "code",
   "execution_count": 75,
   "id": "ad06bff7",
   "metadata": {},
   "outputs": [
    {
     "data": {
      "text/plain": [
       "2"
      ]
     },
     "execution_count": 75,
     "metadata": {},
     "output_type": "execute_result"
    }
   ],
   "source": [
    "book_list.count(\"Data Structure\")"
   ]
  },
  {
   "cell_type": "code",
   "execution_count": 76,
   "id": "17cf38d5",
   "metadata": {},
   "outputs": [],
   "source": [
    "book_list.remove(\"Data Structure\")"
   ]
  },
  {
   "cell_type": "code",
   "execution_count": 77,
   "id": "c65b8ac6",
   "metadata": {},
   "outputs": [
    {
     "data": {
      "text/plain": [
       "['Data Structure', 'Algorithm', 'Web Dev']"
      ]
     },
     "execution_count": 77,
     "metadata": {},
     "output_type": "execute_result"
    }
   ],
   "source": [
    "book_list"
   ]
  },
  {
   "cell_type": "code",
   "execution_count": 78,
   "id": "000b5871",
   "metadata": {},
   "outputs": [],
   "source": [
    "book_list.sort()"
   ]
  },
  {
   "cell_type": "code",
   "execution_count": 79,
   "id": "666bc7ec",
   "metadata": {},
   "outputs": [
    {
     "data": {
      "text/plain": [
       "['Algorithm', 'Data Structure', 'Web Dev']"
      ]
     },
     "execution_count": 79,
     "metadata": {},
     "output_type": "execute_result"
    }
   ],
   "source": [
    "book_list"
   ]
  },
  {
   "cell_type": "code",
   "execution_count": 80,
   "id": "620b7a3c",
   "metadata": {},
   "outputs": [],
   "source": [
    "del book_list"
   ]
  },
  {
   "cell_type": "code",
   "execution_count": 86,
   "id": "0f811acf",
   "metadata": {},
   "outputs": [],
   "source": [
    "book_list = ['Algorithm', 'Data Structure', 'Web Dev']"
   ]
  },
  {
   "cell_type": "code",
   "execution_count": 87,
   "id": "18cf3c63",
   "metadata": {},
   "outputs": [],
   "source": [
    "book_list.clear()"
   ]
  },
  {
   "cell_type": "code",
   "execution_count": 88,
   "id": "0e6f05b3",
   "metadata": {},
   "outputs": [
    {
     "data": {
      "text/plain": [
       "[]"
      ]
     },
     "execution_count": 88,
     "metadata": {},
     "output_type": "execute_result"
    }
   ],
   "source": [
    "book_list"
   ]
  },
  {
   "cell_type": "code",
   "execution_count": 89,
   "id": "43232981",
   "metadata": {},
   "outputs": [],
   "source": [
    "book_list = ['Algorithm', 'Data Structure', 'Web Dev']"
   ]
  },
  {
   "cell_type": "code",
   "execution_count": 90,
   "id": "3f3107da",
   "metadata": {},
   "outputs": [
    {
     "data": {
      "text/plain": [
       "'Web Dev'"
      ]
     },
     "execution_count": 90,
     "metadata": {},
     "output_type": "execute_result"
    }
   ],
   "source": [
    "book_list.pop()"
   ]
  },
  {
   "cell_type": "code",
   "execution_count": 91,
   "id": "fb5cd7ec",
   "metadata": {},
   "outputs": [
    {
     "data": {
      "text/plain": [
       "'Data Structure'"
      ]
     },
     "execution_count": 91,
     "metadata": {},
     "output_type": "execute_result"
    }
   ],
   "source": [
    "book_list.pop(1)"
   ]
  },
  {
   "cell_type": "code",
   "execution_count": 92,
   "id": "54d33eaa",
   "metadata": {},
   "outputs": [
    {
     "data": {
      "text/plain": [
       "['Algorithm']"
      ]
     },
     "execution_count": 92,
     "metadata": {},
     "output_type": "execute_result"
    }
   ],
   "source": [
    "book_list"
   ]
  },
  {
   "cell_type": "code",
   "execution_count": 93,
   "id": "6b667b87",
   "metadata": {},
   "outputs": [],
   "source": [
    "#list comprehension"
   ]
  },
  {
   "cell_type": "code",
   "execution_count": 94,
   "id": "f685e99a",
   "metadata": {},
   "outputs": [],
   "source": []
  },
  {
   "cell_type": "code",
   "execution_count": 99,
   "id": "4432f7c5",
   "metadata": {},
   "outputs": [
    {
     "data": {
      "text/plain": [
       "[20, 40, 60, 80, 100, 120]"
      ]
     },
     "execution_count": 99,
     "metadata": {},
     "output_type": "execute_result"
    }
   ],
   "source": [
    "prices = [10,20,30,40,50,60]\n",
    "doubled_price = []\n",
    "for i in prices:\n",
    "    doubled_price.append(i*2)\n",
    "doubled_price"
   ]
  },
  {
   "cell_type": "code",
   "execution_count": 101,
   "id": "7d032081",
   "metadata": {},
   "outputs": [],
   "source": [
    "doubled_price = [price * 2 for price in prices]"
   ]
  },
  {
   "cell_type": "code",
   "execution_count": 102,
   "id": "daa81d74",
   "metadata": {},
   "outputs": [
    {
     "data": {
      "text/plain": [
       "[20, 40, 60, 80, 100, 120]"
      ]
     },
     "execution_count": 102,
     "metadata": {},
     "output_type": "execute_result"
    }
   ],
   "source": [
    "doubled_price"
   ]
  },
  {
   "cell_type": "code",
   "execution_count": 103,
   "id": "60939679",
   "metadata": {},
   "outputs": [
    {
     "data": {
      "text/plain": [
       "['Ajay', 'Bijay', 'Sanjay']"
      ]
     },
     "execution_count": 103,
     "metadata": {},
     "output_type": "execute_result"
    }
   ],
   "source": [
    "names = [\"Ajay\",\"bijay\",\"sanjay\"]\n",
    "[name.capitalize() for name in names]"
   ]
  },
  {
   "cell_type": "code",
   "execution_count": 104,
   "id": "3e6c056b",
   "metadata": {},
   "outputs": [
    {
     "data": {
      "text/plain": [
       "[1, 4, 9, 16, 25, 36]"
      ]
     },
     "execution_count": 104,
     "metadata": {},
     "output_type": "execute_result"
    }
   ],
   "source": [
    "numbers = [1,2,3,4,5,6]\n",
    "[num ** 2 for num in numbers ]\n"
   ]
  },
  {
   "cell_type": "code",
   "execution_count": 108,
   "id": "bc21af7c",
   "metadata": {},
   "outputs": [
    {
     "data": {
      "text/plain": [
       "['ppt', 'pdf', 'jpg', 'py']"
      ]
     },
     "execution_count": 108,
     "metadata": {},
     "output_type": "execute_result"
    }
   ],
   "source": [
    "file_name = [\"doc1.ppt\",\"doc2.pdf\",\"doc3.jpg\",\"doc4.py\"]\n",
    "[file.split(\".\")[-1] for file in file_name]"
   ]
  },
  {
   "cell_type": "code",
   "execution_count": 109,
   "id": "e092255d",
   "metadata": {},
   "outputs": [],
   "source": [
    "#conditional list comprehension"
   ]
  },
  {
   "cell_type": "code",
   "execution_count": 110,
   "id": "9f0d2c24",
   "metadata": {},
   "outputs": [
    {
     "data": {
      "text/plain": [
       "['rj@yahoo.com']"
      ]
     },
     "execution_count": 110,
     "metadata": {},
     "output_type": "execute_result"
    }
   ],
   "source": [
    "email_address = [\"aj@gmail.com\",\"sj@gmail.com\",\"rj@yahoo.com\"]\n",
    "[email for email in email_address if email.endswith(\"@yahoo.com\")]"
   ]
  },
  {
   "cell_type": "code",
   "execution_count": 111,
   "id": "891aeaa5",
   "metadata": {},
   "outputs": [],
   "source": [
    "#nested list comprehension"
   ]
  },
  {
   "cell_type": "code",
   "execution_count": 113,
   "id": "2ee74b64",
   "metadata": {},
   "outputs": [],
   "source": [
    "pairs = []\n",
    "for x in [1,2,3]:\n",
    "    for y in [4,5,6]:\n",
    "        pairs.append((x,y))"
   ]
  },
  {
   "cell_type": "code",
   "execution_count": 114,
   "id": "f8fa0269",
   "metadata": {},
   "outputs": [
    {
     "data": {
      "text/plain": [
       "[(1, 4), (1, 5), (1, 6), (2, 4), (2, 5), (2, 6), (3, 4), (3, 5), (3, 6)]"
      ]
     },
     "execution_count": 114,
     "metadata": {},
     "output_type": "execute_result"
    }
   ],
   "source": [
    "pairs"
   ]
  },
  {
   "cell_type": "code",
   "execution_count": 116,
   "id": "8425d4dd",
   "metadata": {},
   "outputs": [
    {
     "data": {
      "text/plain": [
       "[[1, 4], [1, 5], [1, 6], [2, 4], [2, 5], [2, 6], [3, 4], [3, 5], [3, 6]]"
      ]
     },
     "execution_count": 116,
     "metadata": {},
     "output_type": "execute_result"
    }
   ],
   "source": [
    "[[x,y] for x in [1,2,3] for y in [4,5,6]]"
   ]
  },
  {
   "cell_type": "code",
   "execution_count": 117,
   "id": "7191e30b",
   "metadata": {},
   "outputs": [],
   "source": [
    "#list as stack and queue"
   ]
  },
  {
   "cell_type": "code",
   "execution_count": 118,
   "id": "67fa48e0",
   "metadata": {},
   "outputs": [],
   "source": [
    "#stack >> last in first out principle >> the last element added to the stack wiil be the first one remove "
   ]
  },
  {
   "cell_type": "code",
   "execution_count": 119,
   "id": "5cb86f78",
   "metadata": {},
   "outputs": [
    {
     "data": {
      "text/plain": [
       "['plate1', 'plate2', 'plate3', 'plate4', 'plate5']"
      ]
     },
     "execution_count": 119,
     "metadata": {},
     "output_type": "execute_result"
    }
   ],
   "source": [
    "stack_of_plates =[]\n",
    "stack_of_plates.append(\"plate1\")\n",
    "stack_of_plates.append(\"plate2\")\n",
    "stack_of_plates.append(\"plate3\")\n",
    "stack_of_plates.append(\"plate4\")\n",
    "stack_of_plates.append(\"plate5\")\n",
    "stack_of_plates"
   ]
  },
  {
   "cell_type": "code",
   "execution_count": 120,
   "id": "e81bcb99",
   "metadata": {},
   "outputs": [
    {
     "data": {
      "text/plain": [
       "'plate5'"
      ]
     },
     "execution_count": 120,
     "metadata": {},
     "output_type": "execute_result"
    }
   ],
   "source": [
    "stack_of_plates.pop()"
   ]
  },
  {
   "cell_type": "code",
   "execution_count": 123,
   "id": "76230740",
   "metadata": {},
   "outputs": [
    {
     "data": {
      "text/plain": [
       "['home_page', 'sbout us', 'contact']"
      ]
     },
     "execution_count": 123,
     "metadata": {},
     "output_type": "execute_result"
    }
   ],
   "source": [
    "browsing_history = []\n",
    "browsing_history.append('home_page')\n",
    "browsing_history.append('sbout us')\n",
    "browsing_history.append('contact')\n",
    "browsing_history"
   ]
  },
  {
   "cell_type": "code",
   "execution_count": 124,
   "id": "48cfa7e3",
   "metadata": {},
   "outputs": [
    {
     "data": {
      "text/plain": [
       "'contact'"
      ]
     },
     "execution_count": 124,
     "metadata": {},
     "output_type": "execute_result"
    }
   ],
   "source": [
    "browsing_history.pop()"
   ]
  },
  {
   "cell_type": "code",
   "execution_count": 125,
   "id": "7d1e795e",
   "metadata": {},
   "outputs": [
    {
     "data": {
      "text/plain": [
       "['home_page', 'sbout us']"
      ]
     },
     "execution_count": 125,
     "metadata": {},
     "output_type": "execute_result"
    }
   ],
   "source": [
    "browsing_history"
   ]
  },
  {
   "cell_type": "code",
   "execution_count": 126,
   "id": "64c473cd",
   "metadata": {},
   "outputs": [],
   "source": [
    "#queue >> FIFO first in first out "
   ]
  },
  {
   "cell_type": "code",
   "execution_count": 127,
   "id": "cf4d90cf",
   "metadata": {},
   "outputs": [],
   "source": [
    "#orderly sequential maner"
   ]
  },
  {
   "cell_type": "code",
   "execution_count": 128,
   "id": "9fbd986c",
   "metadata": {},
   "outputs": [],
   "source": [
    "from collections import deque"
   ]
  },
  {
   "cell_type": "code",
   "execution_count": 129,
   "id": "659a026d",
   "metadata": {},
   "outputs": [],
   "source": [
    "checkout = deque()"
   ]
  },
  {
   "cell_type": "code",
   "execution_count": 130,
   "id": "f55555b8",
   "metadata": {},
   "outputs": [],
   "source": [
    "checkout.append(\"cus1\")\n",
    "checkout.append(\"cus2\")\n",
    "checkout.append(\"cus3\")\n",
    "checkout.append(\"cus4\")"
   ]
  },
  {
   "cell_type": "code",
   "execution_count": 131,
   "id": "a7cd3645",
   "metadata": {},
   "outputs": [
    {
     "data": {
      "text/plain": [
       "deque(['cus1', 'cus2', 'cus3', 'cus4'])"
      ]
     },
     "execution_count": 131,
     "metadata": {},
     "output_type": "execute_result"
    }
   ],
   "source": [
    "checkout"
   ]
  },
  {
   "cell_type": "code",
   "execution_count": 138,
   "id": "a905a45f",
   "metadata": {},
   "outputs": [],
   "source": [
    "while checkout:\n",
    "    customer = checkout.popleft()\n",
    "    print(\"serving\",customer)"
   ]
  },
  {
   "cell_type": "code",
   "execution_count": 137,
   "id": "4d19cb12",
   "metadata": {},
   "outputs": [
    {
     "ename": "NameError",
     "evalue": "name 'customer' is not defined",
     "output_type": "error",
     "traceback": [
      "\u001b[1;31m---------------------------------------------------------------------------\u001b[0m",
      "\u001b[1;31mNameError\u001b[0m                                 Traceback (most recent call last)",
      "Cell \u001b[1;32mIn[137], line 1\u001b[0m\n\u001b[1;32m----> 1\u001b[0m customer\n",
      "\u001b[1;31mNameError\u001b[0m: name 'customer' is not defined"
     ]
    }
   ],
   "source": [
    "customer"
   ]
  },
  {
   "cell_type": "code",
   "execution_count": 139,
   "id": "6e176c54",
   "metadata": {},
   "outputs": [],
   "source": [
    "from queue import Queue\n",
    "\n",
    "print_queue = Queue()\n",
    "print_queue.put(\"print job 1\")\n",
    "print_queue.put(\"print job 2\")\n",
    "print_queue.put(\"print job 3\")\n"
   ]
  },
  {
   "cell_type": "code",
   "execution_count": null,
   "id": "95ff3437",
   "metadata": {},
   "outputs": [],
   "source": []
  }
 ],
 "metadata": {
  "kernelspec": {
   "display_name": "Python 3 (ipykernel)",
   "language": "python",
   "name": "python3"
  },
  "language_info": {
   "codemirror_mode": {
    "name": "ipython",
    "version": 3
   },
   "file_extension": ".py",
   "mimetype": "text/x-python",
   "name": "python",
   "nbconvert_exporter": "python",
   "pygments_lexer": "ipython3",
   "version": "3.11.5"
  }
 },
 "nbformat": 4,
 "nbformat_minor": 5
}
