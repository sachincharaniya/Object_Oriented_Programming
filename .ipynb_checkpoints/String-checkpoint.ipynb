{
 "cells": [
  {
   "cell_type": "code",
   "execution_count": 1,
   "id": "dcd16356",
   "metadata": {},
   "outputs": [],
   "source": [
    "char = \"A\""
   ]
  },
  {
   "cell_type": "code",
   "execution_count": 2,
   "id": "d4397f76",
   "metadata": {},
   "outputs": [
    {
     "data": {
      "text/plain": [
       "65"
      ]
     },
     "execution_count": 2,
     "metadata": {},
     "output_type": "execute_result"
    }
   ],
   "source": [
    "ord(char)"
   ]
  },
  {
   "cell_type": "code",
   "execution_count": 3,
   "id": "cebea1b2",
   "metadata": {},
   "outputs": [
    {
     "data": {
      "text/plain": [
       "66"
      ]
     },
     "execution_count": 3,
     "metadata": {},
     "output_type": "execute_result"
    }
   ],
   "source": [
    "ord(\"B\")"
   ]
  },
  {
   "cell_type": "code",
   "execution_count": 4,
   "id": "5142470e",
   "metadata": {},
   "outputs": [
    {
     "data": {
      "text/plain": [
       "'e'"
      ]
     },
     "execution_count": 4,
     "metadata": {},
     "output_type": "execute_result"
    }
   ],
   "source": [
    "chr(101)"
   ]
  },
  {
   "cell_type": "code",
   "execution_count": 6,
   "id": "d1e9c9d7",
   "metadata": {},
   "outputs": [
    {
     "data": {
      "text/plain": [
       "'Ω'"
      ]
     },
     "execution_count": 6,
     "metadata": {},
     "output_type": "execute_result"
    }
   ],
   "source": [
    "'\\u03A9'"
   ]
  },
  {
   "cell_type": "code",
   "execution_count": 7,
   "id": "c70414c6",
   "metadata": {},
   "outputs": [
    {
     "data": {
      "text/plain": [
       "'Σ'"
      ]
     },
     "execution_count": 7,
     "metadata": {},
     "output_type": "execute_result"
    }
   ],
   "source": [
    "'\\u03A3'"
   ]
  },
  {
   "cell_type": "code",
   "execution_count": 8,
   "id": "363bb740",
   "metadata": {},
   "outputs": [
    {
     "data": {
      "text/plain": [
       "'ॳ'"
      ]
     },
     "execution_count": 8,
     "metadata": {},
     "output_type": "execute_result"
    }
   ],
   "source": [
    "'\\u0973'"
   ]
  },
  {
   "cell_type": "code",
   "execution_count": 9,
   "id": "386cbac5",
   "metadata": {},
   "outputs": [
    {
     "data": {
      "text/plain": [
       "'ΰ'"
      ]
     },
     "execution_count": 9,
     "metadata": {},
     "output_type": "execute_result"
    }
   ],
   "source": [
    "chr(944)"
   ]
  },
  {
   "cell_type": "code",
   "execution_count": 10,
   "id": "f6ad39a4",
   "metadata": {},
   "outputs": [],
   "source": [
    "string1 = \"pwskills\""
   ]
  },
  {
   "cell_type": "code",
   "execution_count": 11,
   "id": "87b331fd",
   "metadata": {},
   "outputs": [
    {
     "data": {
      "text/plain": [
       "str"
      ]
     },
     "execution_count": 11,
     "metadata": {},
     "output_type": "execute_result"
    }
   ],
   "source": [
    "type(string1)"
   ]
  },
  {
   "cell_type": "code",
   "execution_count": 12,
   "id": "9fa6fbe2",
   "metadata": {},
   "outputs": [
    {
     "data": {
      "text/plain": [
       "'pwskills'"
      ]
     },
     "execution_count": 12,
     "metadata": {},
     "output_type": "execute_result"
    }
   ],
   "source": [
    "'pwskills'"
   ]
  },
  {
   "cell_type": "code",
   "execution_count": 16,
   "id": "e869dbd7",
   "metadata": {},
   "outputs": [
    {
     "data": {
      "text/plain": [
       "\"I'm a good student\""
      ]
     },
     "execution_count": 16,
     "metadata": {},
     "output_type": "execute_result"
    }
   ],
   "source": [
    "\"\"\"I'm a good student\"\"\""
   ]
  },
  {
   "cell_type": "code",
   "execution_count": 18,
   "id": "34a2ed5a",
   "metadata": {},
   "outputs": [
    {
     "data": {
      "text/plain": [
       "\"I'm a good student\""
      ]
     },
     "execution_count": 18,
     "metadata": {},
     "output_type": "execute_result"
    }
   ],
   "source": [
    "'''I'm a good student'''"
   ]
  },
  {
   "cell_type": "code",
   "execution_count": 22,
   "id": "db7e82fd",
   "metadata": {},
   "outputs": [
    {
     "data": {
      "text/plain": [
       "'hello, world'"
      ]
     },
     "execution_count": 22,
     "metadata": {},
     "output_type": "execute_result"
    }
   ],
   "source": [
    "#concatenation of string ?? combiling two string  \n",
    "string1 = \"hello\"\n",
    "string2 = \"world\"\n",
    "string1 + \", \"+ string2"
   ]
  },
  {
   "cell_type": "code",
   "execution_count": 25,
   "id": "d397f432",
   "metadata": {},
   "outputs": [
    {
     "data": {
      "text/plain": [
       "'String > concatenation'"
      ]
     },
     "execution_count": 25,
     "metadata": {},
     "output_type": "execute_result"
    }
   ],
   "source": [
    "\"String\" +\" > \" +\"concatenation\""
   ]
  },
  {
   "cell_type": "code",
   "execution_count": 27,
   "id": "e528776e",
   "metadata": {},
   "outputs": [],
   "source": [
    "#extract a string\n",
    "string1 = \"I am a good student\""
   ]
  },
  {
   "cell_type": "code",
   "execution_count": 29,
   "id": "f7533100",
   "metadata": {},
   "outputs": [
    {
     "data": {
      "text/plain": [
       "'I am'"
      ]
     },
     "execution_count": 29,
     "metadata": {},
     "output_type": "execute_result"
    }
   ],
   "source": [
    "string1[0:4]"
   ]
  },
  {
   "cell_type": "code",
   "execution_count": 30,
   "id": "4166b12d",
   "metadata": {},
   "outputs": [
    {
     "data": {
      "text/plain": [
       "'a go'"
      ]
     },
     "execution_count": 30,
     "metadata": {},
     "output_type": "execute_result"
    }
   ],
   "source": [
    "string1[5:9]"
   ]
  },
  {
   "cell_type": "code",
   "execution_count": 32,
   "id": "f492a062",
   "metadata": {},
   "outputs": [
    {
     "data": {
      "text/plain": [
       "'wskills'"
      ]
     },
     "execution_count": 32,
     "metadata": {},
     "output_type": "execute_result"
    }
   ],
   "source": [
    "string2 = \"pwskills\"\n",
    "string2[1:]"
   ]
  },
  {
   "cell_type": "code",
   "execution_count": 33,
   "id": "e3cba709",
   "metadata": {},
   "outputs": [
    {
     "data": {
      "text/plain": [
       "'s'"
      ]
     },
     "execution_count": 33,
     "metadata": {},
     "output_type": "execute_result"
    }
   ],
   "source": [
    "string2[-1]"
   ]
  },
  {
   "cell_type": "code",
   "execution_count": 35,
   "id": "e108d897",
   "metadata": {},
   "outputs": [
    {
     "data": {
      "text/plain": [
       "'pwski'"
      ]
     },
     "execution_count": 35,
     "metadata": {},
     "output_type": "execute_result"
    }
   ],
   "source": [
    "string2[:-3] # except last three characters"
   ]
  },
  {
   "cell_type": "code",
   "execution_count": 37,
   "id": "5df9bbb9",
   "metadata": {},
   "outputs": [
    {
     "data": {
      "text/plain": [
       "'lls'"
      ]
     },
     "execution_count": 37,
     "metadata": {},
     "output_type": "execute_result"
    }
   ],
   "source": [
    "string2[-3:]#last 3 character"
   ]
  },
  {
   "cell_type": "code",
   "execution_count": 42,
   "id": "2820e483",
   "metadata": {},
   "outputs": [
    {
     "data": {
      "text/plain": [
       "'hello world'"
      ]
     },
     "execution_count": 42,
     "metadata": {},
     "output_type": "execute_result"
    }
   ],
   "source": [
    "string2 = \"hello world\"\n"
   ]
  },
  {
   "cell_type": "raw",
   "id": "b55a01e4",
   "metadata": {},
   "source": []
  },
  {
   "cell_type": "code",
   "execution_count": 44,
   "id": "2f7ba875",
   "metadata": {},
   "outputs": [
    {
     "data": {
      "text/plain": [
       "'hello world'"
      ]
     },
     "execution_count": 44,
     "metadata": {},
     "output_type": "execute_result"
    }
   ],
   "source": [
    "string2[::1]"
   ]
  },
  {
   "cell_type": "code",
   "execution_count": 45,
   "id": "d30b6ad2",
   "metadata": {},
   "outputs": [
    {
     "data": {
      "text/plain": [
       "'hello world'"
      ]
     },
     "execution_count": 45,
     "metadata": {},
     "output_type": "execute_result"
    }
   ],
   "source": [
    "string2[0:]"
   ]
  },
  {
   "cell_type": "code",
   "execution_count": 46,
   "id": "b8c380bb",
   "metadata": {},
   "outputs": [
    {
     "data": {
      "text/plain": [
       "'hell'"
      ]
     },
     "execution_count": 46,
     "metadata": {},
     "output_type": "execute_result"
    }
   ],
   "source": [
    "string2[0:4]"
   ]
  },
  {
   "cell_type": "code",
   "execution_count": 47,
   "id": "61c53f3f",
   "metadata": {},
   "outputs": [
    {
     "data": {
      "text/plain": [
       "'hlow'"
      ]
     },
     "execution_count": 47,
     "metadata": {},
     "output_type": "execute_result"
    }
   ],
   "source": [
    "string2[0:7:2]"
   ]
  },
  {
   "cell_type": "code",
   "execution_count": 48,
   "id": "0fdd5a9c",
   "metadata": {},
   "outputs": [
    {
     "data": {
      "text/plain": [
       "'dlrow olleh'"
      ]
     },
     "execution_count": 48,
     "metadata": {},
     "output_type": "execute_result"
    }
   ],
   "source": [
    "string2[::-1]"
   ]
  },
  {
   "cell_type": "code",
   "execution_count": 1,
   "id": "64a4e8db",
   "metadata": {},
   "outputs": [
    {
     "data": {
      "text/plain": [
       "14"
      ]
     },
     "execution_count": 1,
     "metadata": {},
     "output_type": "execute_result"
    }
   ],
   "source": [
    "s = \"I am s student\"\n",
    "len(s)"
   ]
  },
  {
   "cell_type": "code",
   "execution_count": 2,
   "id": "f0c50041",
   "metadata": {},
   "outputs": [],
   "source": [
    "s = \"I am a student\""
   ]
  },
  {
   "cell_type": "code",
   "execution_count": 3,
   "id": "b268fdbb",
   "metadata": {},
   "outputs": [
    {
     "data": {
      "text/plain": [
       "'I am a student'"
      ]
     },
     "execution_count": 3,
     "metadata": {},
     "output_type": "execute_result"
    }
   ],
   "source": [
    "s"
   ]
  },
  {
   "cell_type": "code",
   "execution_count": 5,
   "id": "68bcb2f1",
   "metadata": {},
   "outputs": [
    {
     "data": {
      "text/plain": [
       "'I am a teacher'"
      ]
     },
     "execution_count": 5,
     "metadata": {},
     "output_type": "execute_result"
    }
   ],
   "source": [
    "s.replace('student','teacher')"
   ]
  },
  {
   "cell_type": "code",
   "execution_count": 6,
   "id": "96c710a2",
   "metadata": {},
   "outputs": [
    {
     "data": {
      "text/plain": [
       "'I am a student'"
      ]
     },
     "execution_count": 6,
     "metadata": {},
     "output_type": "execute_result"
    }
   ],
   "source": [
    "s"
   ]
  },
  {
   "cell_type": "code",
   "execution_count": 7,
   "id": "b43a76ba",
   "metadata": {},
   "outputs": [],
   "source": [
    "address = \"123 suhana apt, marathali, Bangalore\""
   ]
  },
  {
   "cell_type": "code",
   "execution_count": 8,
   "id": "14d0d049",
   "metadata": {},
   "outputs": [
    {
     "data": {
      "text/plain": [
       "'123 suhana apt, marathali, Bangalore'"
      ]
     },
     "execution_count": 8,
     "metadata": {},
     "output_type": "execute_result"
    }
   ],
   "source": [
    "address"
   ]
  },
  {
   "cell_type": "code",
   "execution_count": 9,
   "id": "2ba0b7ae",
   "metadata": {},
   "outputs": [
    {
     "data": {
      "text/plain": [
       "'123 suhana Apartment, marathali, Bangalore'"
      ]
     },
     "execution_count": 9,
     "metadata": {},
     "output_type": "execute_result"
    }
   ],
   "source": [
    "address.replace('apt',\"Apartment\")"
   ]
  },
  {
   "cell_type": "code",
   "execution_count": 10,
   "id": "aee9cd28",
   "metadata": {},
   "outputs": [
    {
     "data": {
      "text/plain": [
       "'Be Right Back, Talk to you letter, Laughing out load'"
      ]
     },
     "execution_count": 10,
     "metadata": {},
     "output_type": "execute_result"
    }
   ],
   "source": [
    "text = \"BRB, TTYL, LOL\"\n",
    "text.replace(\"BRB\",\"Be Right Back\").replace(\"TTYL\",\"Talk to you letter\").replace(\"LOL\",\"Laughing out load\")"
   ]
  },
  {
   "cell_type": "code",
   "execution_count": 11,
   "id": "5bed0b43",
   "metadata": {},
   "outputs": [],
   "source": [
    "text = \"Hellow,World\""
   ]
  },
  {
   "cell_type": "code",
   "execution_count": 12,
   "id": "6a1d3c9a",
   "metadata": {},
   "outputs": [
    {
     "data": {
      "text/plain": [
       "'Hellow,World'"
      ]
     },
     "execution_count": 12,
     "metadata": {},
     "output_type": "execute_result"
    }
   ],
   "source": [
    "text"
   ]
  },
  {
   "cell_type": "code",
   "execution_count": 13,
   "id": "a04bfcb3",
   "metadata": {},
   "outputs": [
    {
     "data": {
      "text/plain": [
       "'hellow,world'"
      ]
     },
     "execution_count": 13,
     "metadata": {},
     "output_type": "execute_result"
    }
   ],
   "source": [
    "text.lower()"
   ]
  },
  {
   "cell_type": "code",
   "execution_count": 14,
   "id": "1fff38b8",
   "metadata": {},
   "outputs": [
    {
     "data": {
      "text/plain": [
       "'HELLOW,WORLD'"
      ]
     },
     "execution_count": 14,
     "metadata": {},
     "output_type": "execute_result"
    }
   ],
   "source": [
    "text.upper()"
   ]
  },
  {
   "cell_type": "code",
   "execution_count": 15,
   "id": "a89ca009",
   "metadata": {},
   "outputs": [
    {
     "data": {
      "text/plain": [
       "'Hellow,World'"
      ]
     },
     "execution_count": 15,
     "metadata": {},
     "output_type": "execute_result"
    }
   ],
   "source": [
    "text.title()"
   ]
  },
  {
   "cell_type": "code",
   "execution_count": 16,
   "id": "b05d83d4",
   "metadata": {},
   "outputs": [
    {
     "data": {
      "text/plain": [
       "'i AM is a sTUDENT'"
      ]
     },
     "execution_count": 16,
     "metadata": {},
     "output_type": "execute_result"
    }
   ],
   "source": [
    "text1 = \"I am IS A Student\"\n",
    "text1.swapcase() "
   ]
  },
  {
   "cell_type": "code",
   "execution_count": 17,
   "id": "fb86af7c",
   "metadata": {},
   "outputs": [
    {
     "data": {
      "text/plain": [
       "'Hellow,world'"
      ]
     },
     "execution_count": 17,
     "metadata": {},
     "output_type": "execute_result"
    }
   ],
   "source": [
    "text.capitalize()"
   ]
  },
  {
   "cell_type": "code",
   "execution_count": 18,
   "id": "d85363ff",
   "metadata": {},
   "outputs": [
    {
     "data": {
      "text/plain": [
       "True"
      ]
     },
     "execution_count": 18,
     "metadata": {},
     "output_type": "execute_result"
    }
   ],
   "source": [
    "#string searching\n",
    "sentence = \"I am a student at PWSkills\"\n",
    "\"am\" in sentence"
   ]
  },
  {
   "cell_type": "code",
   "execution_count": 19,
   "id": "43e92b7c",
   "metadata": {},
   "outputs": [
    {
     "name": "stdout",
     "output_type": "stream",
     "text": [
      "The search word is present\n"
     ]
    }
   ],
   "source": [
    "sentence = \"I am a student at PWSkills\"\n",
    "search_word = \"am\"\n",
    "'if search_word in sentence:\n",
    "    print(\"The search word is present\")\n",
    "else:\n",
    "    print(\"Not\")"
   ]
  },
  {
   "cell_type": "code",
   "execution_count": 20,
   "id": "c9043b4b",
   "metadata": {},
   "outputs": [
    {
     "name": "stdout",
     "output_type": "stream",
     "text": [
      "Valid email\n"
     ]
    }
   ],
   "source": [
    "email = \"sachin13@gmail.com\"\n",
    "if \"@\" in email:\n",
    "    print(\"Valid email\")\n",
    "else:\n",
    "    print(\"Invalid email\")"
   ]
  },
  {
   "cell_type": "code",
   "execution_count": 21,
   "id": "963b1c1d",
   "metadata": {},
   "outputs": [
    {
     "name": "stdout",
     "output_type": "stream",
     "text": [
      "its a pdf file\n"
     ]
    }
   ],
   "source": [
    "document = \"some_file.pdf\"\n",
    "if \".pdf\" in document:\n",
    "    print(\"its a pdf file\")\n",
    "else:\n",
    "    print(\"not\")"
   ]
  },
  {
   "cell_type": "code",
   "execution_count": 22,
   "id": "883ccfe3",
   "metadata": {},
   "outputs": [
    {
     "data": {
      "text/plain": [
       "False"
      ]
     },
     "execution_count": 22,
     "metadata": {},
     "output_type": "execute_result"
    }
   ],
   "source": [
    "#string comparison \n",
    "str1 = \"Hello\"\n",
    "str2 = \"hello\"\n",
    "str1 == str2"
   ]
  },
  {
   "cell_type": "code",
   "execution_count": 23,
   "id": "98f68213",
   "metadata": {},
   "outputs": [
    {
     "data": {
      "text/plain": [
       "True"
      ]
     },
     "execution_count": 23,
     "metadata": {},
     "output_type": "execute_result"
    }
   ],
   "source": [
    "#string comparison \n",
    "str1 = \"Hello\"\n",
    "str2 = \"Hello\"\n",
    "str1 == str2"
   ]
  },
  {
   "cell_type": "code",
   "execution_count": 25,
   "id": "c9499215",
   "metadata": {},
   "outputs": [
    {
     "data": {
      "text/plain": [
       "True"
      ]
     },
     "execution_count": 25,
     "metadata": {},
     "output_type": "execute_result"
    }
   ],
   "source": [
    "#string comparison \n",
    "str1 = \"Hello\"\n",
    "str2 = \"hello\"\n",
    "str1.lower() == str2.lower()"
   ]
  },
  {
   "cell_type": "code",
   "execution_count": 26,
   "id": "6362b7ca",
   "metadata": {},
   "outputs": [
    {
     "name": "stdout",
     "output_type": "stream",
     "text": [
      "already in use\n"
     ]
    }
   ],
   "source": [
    "reg_username = [\"pw\",\"PW\",\"pW\"]\n",
    "new_user = \"pw\"\n",
    "if new_user in reg_username:\n",
    "    print(\"already in use\")\n",
    "else:\n",
    "    print(\"username is available\")"
   ]
  },
  {
   "cell_type": "code",
   "execution_count": 28,
   "id": "2b3c0774",
   "metadata": {},
   "outputs": [
    {
     "name": "stdout",
     "output_type": "stream",
     "text": [
      "scan the product code 23\n",
      "talk to reception\n"
     ]
    }
   ],
   "source": [
    "product_code = \"P123\"\n",
    "scanned_code = input(\"scan the product code \")\n",
    "if product_code == scanned_code:\n",
    "    print(\"The price is 100\")\n",
    "else:\n",
    "    print(\"talk to reception\")"
   ]
  },
  {
   "cell_type": "code",
   "execution_count": 29,
   "id": "1b07db39",
   "metadata": {},
   "outputs": [
    {
     "data": {
      "text/plain": [
       "['Ajay', 'Bee', 'Nakuka']"
      ]
     },
     "execution_count": 29,
     "metadata": {},
     "output_type": "execute_result"
    }
   ],
   "source": [
    "#tring ordering\n",
    "names = [\"Ajay\",\"Nakuka\",\"Bee\"]\n",
    "sorted(names)"
   ]
  },
  {
   "cell_type": "code",
   "execution_count": 30,
   "id": "493e9be1",
   "metadata": {},
   "outputs": [],
   "source": [
    "playlist =[\"KKHH\",\"Magic\",\"Hello\",\"Magic\"]"
   ]
  },
  {
   "cell_type": "code",
   "execution_count": 31,
   "id": "92897faa",
   "metadata": {},
   "outputs": [
    {
     "data": {
      "text/plain": [
       "['Hello', 'KKHH', 'Magic', 'Magic']"
      ]
     },
     "execution_count": 31,
     "metadata": {},
     "output_type": "execute_result"
    }
   ],
   "source": [
    "sorted(playlist)"
   ]
  },
  {
   "cell_type": "code",
   "execution_count": 32,
   "id": "5ee2f10a",
   "metadata": {},
   "outputs": [
    {
     "data": {
      "text/plain": [
       "'PWSKILLS'"
      ]
     },
     "execution_count": 32,
     "metadata": {},
     "output_type": "execute_result"
    }
   ],
   "source": [
    "#common string operations\n",
    "input_str = \"       PWSKILLS    \"\n",
    "input_str.strip()"
   ]
  },
  {
   "cell_type": "code",
   "execution_count": 33,
   "id": "9036b6f8",
   "metadata": {},
   "outputs": [
    {
     "data": {
      "text/plain": [
       "'PWSK ILLS'"
      ]
     },
     "execution_count": 33,
     "metadata": {},
     "output_type": "execute_result"
    }
   ],
   "source": [
    "#common string operations\n",
    "input_str = \"       PWSK ILLS    \"\n",
    "input_str.strip()"
   ]
  },
  {
   "cell_type": "code",
   "execution_count": 34,
   "id": "29a84ef8",
   "metadata": {},
   "outputs": [
    {
     "data": {
      "text/plain": [
       "'Apple'"
      ]
     },
     "execution_count": 34,
     "metadata": {},
     "output_type": "execute_result"
    }
   ],
   "source": [
    "csv_row = \"Apple     \"\n",
    "csv_row.strip()"
   ]
  },
  {
   "cell_type": "code",
   "execution_count": 35,
   "id": "57196539",
   "metadata": {},
   "outputs": [
    {
     "data": {
      "text/plain": [
       "'Ajay, data science,teacher'"
      ]
     },
     "execution_count": 35,
     "metadata": {},
     "output_type": "execute_result"
    }
   ],
   "source": [
    "#string splitting\n",
    "data = \"Ajay, data science,teacher\"\n",
    "data"
   ]
  },
  {
   "cell_type": "code",
   "execution_count": 38,
   "id": "853237c5",
   "metadata": {},
   "outputs": [],
   "source": [
    "teacher_into  = data.split(',')"
   ]
  },
  {
   "cell_type": "code",
   "execution_count": 39,
   "id": "6d16f818",
   "metadata": {},
   "outputs": [
    {
     "data": {
      "text/plain": [
       "['Ajay', ' data science', 'teacher']"
      ]
     },
     "execution_count": 39,
     "metadata": {},
     "output_type": "execute_result"
    }
   ],
   "source": [
    "teacher_into "
   ]
  },
  {
   "cell_type": "code",
   "execution_count": 40,
   "id": "d9605e3e",
   "metadata": {},
   "outputs": [],
   "source": [
    "name = teacher_into[0]\n",
    "sub = teacher_into[1]\n",
    "des = teacher_into[2] "
   ]
  },
  {
   "cell_type": "code",
   "execution_count": 42,
   "id": "f867223a",
   "metadata": {},
   "outputs": [
    {
     "data": {
      "text/plain": [
       "'Ajay'"
      ]
     },
     "execution_count": 42,
     "metadata": {},
     "output_type": "execute_result"
    }
   ],
   "source": [
    "name.strip()"
   ]
  },
  {
   "cell_type": "code",
   "execution_count": 45,
   "id": "d95ab5a1",
   "metadata": {},
   "outputs": [],
   "source": [
    "#escape sequence  special combination of character used within a string\n",
    "address =  \"\"\"123, sanmukha villa, marathali, bangalore\"\"\""
   ]
  },
  {
   "cell_type": "code",
   "execution_count": 46,
   "id": "6fc8417b",
   "metadata": {},
   "outputs": [
    {
     "data": {
      "text/plain": [
       "'123, sanmukha villa, marathali, bangalore'"
      ]
     },
     "execution_count": 46,
     "metadata": {},
     "output_type": "execute_result"
    }
   ],
   "source": [
    "address"
   ]
  },
  {
   "cell_type": "code",
   "execution_count": 49,
   "id": "3c27eee9",
   "metadata": {},
   "outputs": [],
   "source": [
    "address = \"\"\"123,sanmukha villa,marathali, bangalore\"\"\""
   ]
  },
  {
   "cell_type": "code",
   "execution_count": 51,
   "id": "5232b468",
   "metadata": {},
   "outputs": [
    {
     "name": "stdout",
     "output_type": "stream",
     "text": [
      "123,sanmukha villa,marathali, bangalore\n"
     ]
    }
   ],
   "source": [
    "print(address)"
   ]
  },
  {
   "cell_type": "code",
   "execution_count": 52,
   "id": "aa202807",
   "metadata": {},
   "outputs": [],
   "source": [
    "address = \"\"\"123,sanmukha villa,\\nmarathali, \\nbangalore\"\"\""
   ]
  },
  {
   "cell_type": "raw",
   "id": "490c9b26",
   "metadata": {},
   "source": []
  },
  {
   "cell_type": "code",
   "execution_count": 57,
   "id": "24c64e8d",
   "metadata": {},
   "outputs": [
    {
     "name": "stdout",
     "output_type": "stream",
     "text": [
      "123,sanmukha villa,\n",
      "marathali, \n",
      "bangalore\n"
     ]
    }
   ],
   "source": [
    "print(address) #\"\\n\" >> to insert a new line character "
   ]
  },
  {
   "cell_type": "code",
   "execution_count": 63,
   "id": "e6830f0a",
   "metadata": {},
   "outputs": [],
   "source": [
    "#\\t escape character\n",
    "table = \"Name\\tAge\\tGrade\\nAlice\\t20\\tA\\nRam\\t30\\tA+\""
   ]
  },
  {
   "cell_type": "code",
   "execution_count": 64,
   "id": "c4a4da16",
   "metadata": {},
   "outputs": [
    {
     "name": "stdout",
     "output_type": "stream",
     "text": [
      "Name\tAge\tGrade\n",
      "Alice\t20\tA\n",
      "Ram\t30\tA+\n"
     ]
    }
   ],
   "source": [
    "print(table)"
   ]
  },
  {
   "cell_type": "code",
   "execution_count": 65,
   "id": "d7ce08bd",
   "metadata": {},
   "outputs": [
    {
     "name": "stdout",
     "output_type": "stream",
     "text": [
      "C:\\USERS\\DOWNLOAD\\FILES.text\n"
     ]
    }
   ],
   "source": [
    "file_path = \"C:\\\\USERS\\\\DOWNLOAD\\\\FILES.text\"\n",
    "print(file_path)"
   ]
  },
  {
   "cell_type": "code",
   "execution_count": 66,
   "id": "4853b7e2",
   "metadata": {},
   "outputs": [],
   "source": [
    "#\\' single quote escape'"
   ]
  },
  {
   "cell_type": "code",
   "execution_count": 68,
   "id": "faa55bdf",
   "metadata": {},
   "outputs": [
    {
     "data": {
      "text/plain": [
       "\"I Can't believe its a friday\""
      ]
     },
     "execution_count": 68,
     "metadata": {},
     "output_type": "execute_result"
    }
   ],
   "source": [
    "str1 = 'I Can\\'t believe its a friday'\n",
    "str1"
   ]
  },
  {
   "cell_type": "code",
   "execution_count": 71,
   "id": "1f9f3ca8",
   "metadata": {},
   "outputs": [
    {
     "name": "stdout",
     "output_type": "stream",
     "text": [
      "Hello, I am \r",
      "Ajay.I am going to Delhi\n"
     ]
    }
   ],
   "source": [
    "#carriag return \\r \n",
    "\n",
    "print(\"Hello, I am \\rAjay.I am going to Delhi\")"
   ]
  },
  {
   "cell_type": "code",
   "execution_count": 75,
   "id": "c07d0445",
   "metadata": {},
   "outputs": [],
   "source": [
    "#String formatting >> crating staring with placeholder for variables"
   ]
  },
  {
   "cell_type": "code",
   "execution_count": 78,
   "id": "5d189e2b",
   "metadata": {},
   "outputs": [
    {
     "data": {
      "text/plain": [
       "'hello Users, how are you?'"
      ]
     },
     "execution_count": 78,
     "metadata": {},
     "output_type": "execute_result"
    }
   ],
   "source": [
    "username = \"Users\"\n",
    "f\"hello {username}, how are you?\""
   ]
  },
  {
   "cell_type": "code",
   "execution_count": 79,
   "id": "ee09997e",
   "metadata": {},
   "outputs": [
    {
     "name": "stdout",
     "output_type": "stream",
     "text": [
      "Hello PW SKILLS! wish you a wonderful day\n"
     ]
    }
   ],
   "source": [
    "#string formatting\n",
    "name = \"PW SKILLS\"\n",
    "greeting = \"Hello %s! wish you a wonderful day\" %name\n",
    "print(greeting)"
   ]
  },
  {
   "cell_type": "code",
   "execution_count": 80,
   "id": "3ed2b639",
   "metadata": {},
   "outputs": [],
   "source": [
    "#.format"
   ]
  },
  {
   "cell_type": "code",
   "execution_count": 82,
   "id": "2e61553f",
   "metadata": {},
   "outputs": [],
   "source": [
    "template = \"Hello,{} welcome to {}\"\n",
    "message = template.format(\"Bijiy\",\"Data Science\")"
   ]
  },
  {
   "cell_type": "markdown",
   "id": "3fa9fae5",
   "metadata": {},
   "source": [
    "message"
   ]
  },
  {
   "cell_type": "code",
   "execution_count": 83,
   "id": "3bbcd808",
   "metadata": {},
   "outputs": [
    {
     "data": {
      "text/plain": [
       "'Hello,Bijiy welcome to Data Science'"
      ]
     },
     "execution_count": 83,
     "metadata": {},
     "output_type": "execute_result"
    }
   ],
   "source": [
    "message"
   ]
  },
  {
   "cell_type": "code",
   "execution_count": 84,
   "id": "b23b1a32",
   "metadata": {},
   "outputs": [],
   "source": [
    "# if strings (formatted string literals)"
   ]
  },
  {
   "cell_type": "code",
   "execution_count": 86,
   "id": "3e5571ed",
   "metadata": {},
   "outputs": [
    {
     "data": {
      "text/plain": [
       "'My course is pw data and it duration is 3 year.'"
      ]
     },
     "execution_count": 86,
     "metadata": {},
     "output_type": "execute_result"
    }
   ],
   "source": [
    "course = \"pw data\"\n",
    "duration = \"3\"\n",
    "f\"My course is {course} and it duration is {duration} year.\""
   ]
  },
  {
   "cell_type": "code",
   "execution_count": 87,
   "id": "dfc73595",
   "metadata": {},
   "outputs": [
    {
     "name": "stdout",
     "output_type": "stream",
     "text": [
      "hello user Ajay, today is 2024-02-22 post\n"
     ]
    }
   ],
   "source": [
    "user_name = \"Ajay\"\n",
    "post_date = \"2024-02-22\"\n",
    "print(f\"hello user {user_name}, today is {post_date} post\")"
   ]
  },
  {
   "cell_type": "code",
   "execution_count": 93,
   "id": "6ff8a69b",
   "metadata": {},
   "outputs": [
    {
     "data": {
      "text/plain": [
       "False"
      ]
     },
     "execution_count": 93,
     "metadata": {},
     "output_type": "execute_result"
    }
   ],
   "source": [
    "str1 = \"pwskills\"\n",
    "str1.startswith(\"q\")"
   ]
  },
  {
   "cell_type": "code",
   "execution_count": 95,
   "id": "703b2e8a",
   "metadata": {},
   "outputs": [
    {
     "data": {
      "text/plain": [
       "False"
      ]
     },
     "execution_count": 95,
     "metadata": {},
     "output_type": "execute_result"
    }
   ],
   "source": [
    "str1 = \"pwskills\"\n",
    "str1.endswith(\"A\")"
   ]
  },
  {
   "cell_type": "code",
   "execution_count": 96,
   "id": "405e5234",
   "metadata": {},
   "outputs": [
    {
     "data": {
      "text/plain": [
       "True"
      ]
     },
     "execution_count": 96,
     "metadata": {},
     "output_type": "execute_result"
    }
   ],
   "source": [
    "a = \"acb123\"\n",
    "a.isalnum()"
   ]
  },
  {
   "cell_type": "code",
   "execution_count": 97,
   "id": "8130e1ba",
   "metadata": {},
   "outputs": [
    {
     "data": {
      "text/plain": [
       "8"
      ]
     },
     "execution_count": 97,
     "metadata": {},
     "output_type": "execute_result"
    }
   ],
   "source": [
    "s = \"pwskills\"\n",
    "len(s)"
   ]
  },
  {
   "cell_type": "code",
   "execution_count": 98,
   "id": "2af4d497",
   "metadata": {},
   "outputs": [
    {
     "name": "stdout",
     "output_type": "stream",
     "text": [
      "p\n",
      "w\n",
      "s\n",
      "k\n",
      "i\n",
      "l\n",
      "l\n",
      "s\n",
      "8\n"
     ]
    }
   ],
   "source": [
    "count = 0\n",
    "for i in s:\n",
    "    print(i)\n",
    "    count = count + 1\n",
    "print(count)"
   ]
  },
  {
   "cell_type": "code",
   "execution_count": null,
   "id": "a7bd27e8",
   "metadata": {},
   "outputs": [],
   "source": []
  }
 ],
 "metadata": {
  "kernelspec": {
   "display_name": "Python 3 (ipykernel)",
   "language": "python",
   "name": "python3"
  },
  "language_info": {
   "codemirror_mode": {
    "name": "ipython",
    "version": 3
   },
   "file_extension": ".py",
   "mimetype": "text/x-python",
   "name": "python",
   "nbconvert_exporter": "python",
   "pygments_lexer": "ipython3",
   "version": "3.11.5"
  }
 },
 "nbformat": 4,
 "nbformat_minor": 5
}
