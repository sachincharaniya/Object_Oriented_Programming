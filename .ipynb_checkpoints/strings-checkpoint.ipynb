{
 "cells": [
  {
   "cell_type": "code",
   "execution_count": 1,
   "id": "2ec3dd79",
   "metadata": {},
   "outputs": [
    {
     "name": "stdout",
     "output_type": "stream",
     "text": [
      "enter your name :sachin\n"
     ]
    },
    {
     "data": {
      "text/plain": [
       "'sachin'"
      ]
     },
     "execution_count": 1,
     "metadata": {},
     "output_type": "execute_result"
    }
   ],
   "source": [
    "name = input(\"enter your name :\")\n"
   ]
  },
  {
   "cell_type": "code",
   "execution_count": 2,
   "id": "096f8490",
   "metadata": {},
   "outputs": [
    {
     "name": "stdout",
     "output_type": "stream",
     "text": [
      "sachin\n"
     ]
    }
   ],
   "source": [
    "print(name)"
   ]
  },
  {
   "cell_type": "code",
   "execution_count": 3,
   "id": "fd602f91",
   "metadata": {},
   "outputs": [
    {
     "data": {
      "text/plain": [
       "str"
      ]
     },
     "execution_count": 3,
     "metadata": {},
     "output_type": "execute_result"
    }
   ],
   "source": [
    "type(name)"
   ]
  },
  {
   "cell_type": "code",
   "execution_count": 4,
   "id": "95c0104e",
   "metadata": {},
   "outputs": [
    {
     "data": {
      "text/plain": [
       "6"
      ]
     },
     "execution_count": 4,
     "metadata": {},
     "output_type": "execute_result"
    }
   ],
   "source": [
    "len(name)"
   ]
  },
  {
   "cell_type": "code",
   "execution_count": 6,
   "id": "231274fc",
   "metadata": {},
   "outputs": [
    {
     "ename": "IndentationError",
     "evalue": "unexpected indent (2353824047.py, line 5)",
     "output_type": "error",
     "traceback": [
      "\u001b[1;36m  Cell \u001b[1;32mIn[6], line 5\u001b[1;36m\u001b[0m\n\u001b[1;33m    a = 1 # integers\u001b[0m\n\u001b[1;37m    ^\u001b[0m\n\u001b[1;31mIndentationError\u001b[0m\u001b[1;31m:\u001b[0m unexpected indent\n"
     ]
    }
   ],
   "source": [
    "#variables\n",
    "\n",
    "#datatypes\n",
    "    #numeric data types \n",
    "    a = 1 # integers\n",
    "    b = 3.4 # float \n",
    "    c = 2+3j # complex\n",
    "    \n",
    "#Boolean \n",
    "isworking = True # False\n",
    "\n",
    "#array datatypes\n",
    "\n",
    "name = \"sachin charaniya\" #string data types \n",
    "\n",
    "name_of_fruits = [\"Apple\",\"banana\",\"grapes\"] #list\n",
    "name_of_country=(\"India\",\"US\",\"UK\") #tuples\n"
   ]
  },
  {
   "cell_type": "code",
   "execution_count": 19,
   "id": "02735404",
   "metadata": {},
   "outputs": [],
   "source": [
    "name_of_fruits = [\"Apple\",\"banana\",\"grapes\"]\n",
    "name_of_country=(\"India\",\"US\",\"UK\") "
   ]
  },
  {
   "cell_type": "code",
   "execution_count": 28,
   "id": "2bd0707d",
   "metadata": {},
   "outputs": [],
   "source": [
    "name_of_fruits.extend(name_of_country)"
   ]
  },
  {
   "cell_type": "code",
   "execution_count": 29,
   "id": "baa38fe2",
   "metadata": {},
   "outputs": [],
   "source": [
    "name_of_fruits.insert(1,'paches')"
   ]
  },
  {
   "cell_type": "code",
   "execution_count": 30,
   "id": "994a2b79",
   "metadata": {},
   "outputs": [
    {
     "data": {
      "text/plain": [
       "['Apple', 'paches', 'paches', 'name', 'banana', 'grapes', 'India', 'US', 'UK']"
      ]
     },
     "execution_count": 30,
     "metadata": {},
     "output_type": "execute_result"
    }
   ],
   "source": [
    "name_of_fruits"
   ]
  },
  {
   "cell_type": "code",
   "execution_count": 34,
   "id": "7e6d0cb3",
   "metadata": {},
   "outputs": [
    {
     "data": {
      "text/plain": [
       "6"
      ]
     },
     "execution_count": 34,
     "metadata": {},
     "output_type": "execute_result"
    }
   ],
   "source": [
    "name_of_fruits.index(\"India\")"
   ]
  },
  {
   "cell_type": "code",
   "execution_count": 35,
   "id": "db674d57",
   "metadata": {},
   "outputs": [
    {
     "data": {
      "text/plain": [
       "['Apple', 'paches', 'paches', 'name', 'banana', 'grapes', 'India', 'US', 'UK']"
      ]
     },
     "execution_count": 35,
     "metadata": {},
     "output_type": "execute_result"
    }
   ],
   "source": [
    "name_of_fruits"
   ]
  },
  {
   "cell_type": "code",
   "execution_count": 36,
   "id": "90202ea1",
   "metadata": {},
   "outputs": [
    {
     "data": {
      "text/plain": [
       "'UK'"
      ]
     },
     "execution_count": 36,
     "metadata": {},
     "output_type": "execute_result"
    }
   ],
   "source": [
    "name_of_fruits.pop()"
   ]
  },
  {
   "cell_type": "code",
   "execution_count": 37,
   "id": "81a5e494",
   "metadata": {},
   "outputs": [
    {
     "data": {
      "text/plain": [
       "['Apple', 'paches', 'paches', 'name', 'banana', 'grapes', 'India', 'US']"
      ]
     },
     "execution_count": 37,
     "metadata": {},
     "output_type": "execute_result"
    }
   ],
   "source": [
    "name_of_fruits"
   ]
  },
  {
   "cell_type": "code",
   "execution_count": 39,
   "id": "cb257a46",
   "metadata": {},
   "outputs": [],
   "source": [
    "name_of_fruits.remove('Apple')"
   ]
  },
  {
   "cell_type": "code",
   "execution_count": 40,
   "id": "f0cc5662",
   "metadata": {},
   "outputs": [
    {
     "data": {
      "text/plain": [
       "['paches', 'paches', 'name', 'banana', 'grapes', 'India', 'US']"
      ]
     },
     "execution_count": 40,
     "metadata": {},
     "output_type": "execute_result"
    }
   ],
   "source": [
    "name_of_fruits"
   ]
  },
  {
   "cell_type": "code",
   "execution_count": 41,
   "id": "51dd1268",
   "metadata": {},
   "outputs": [],
   "source": [
    "name_of_fruits.reverse()"
   ]
  },
  {
   "cell_type": "code",
   "execution_count": 42,
   "id": "e5724855",
   "metadata": {},
   "outputs": [
    {
     "data": {
      "text/plain": [
       "['US', 'India', 'grapes', 'banana', 'name', 'paches', 'paches']"
      ]
     },
     "execution_count": 42,
     "metadata": {},
     "output_type": "execute_result"
    }
   ],
   "source": [
    "name_of_fruits"
   ]
  },
  {
   "cell_type": "code",
   "execution_count": 43,
   "id": "e4596bfa",
   "metadata": {},
   "outputs": [],
   "source": [
    "#dictionary\n",
    "invertory = {\n",
    "    \"apple\":{\"gressn apple\":10,\"golden\":40},\n",
    "    \"grapes\":200,\n",
    "    \"peaches\":50\n",
    "}"
   ]
  },
  {
   "cell_type": "code",
   "execution_count": 44,
   "id": "0671976c",
   "metadata": {},
   "outputs": [
    {
     "data": {
      "text/plain": [
       "{'apple': {'gressn apple': 10, 'golden': 40}, 'grapes': 200, 'peaches': 50}"
      ]
     },
     "execution_count": 44,
     "metadata": {},
     "output_type": "execute_result"
    }
   ],
   "source": [
    "invertory"
   ]
  },
  {
   "cell_type": "code",
   "execution_count": 45,
   "id": "c2d75bf2",
   "metadata": {},
   "outputs": [
    {
     "data": {
      "text/plain": [
       "dict_keys(['apple', 'grapes', 'peaches'])"
      ]
     },
     "execution_count": 45,
     "metadata": {},
     "output_type": "execute_result"
    }
   ],
   "source": [
    "invertory.keys()"
   ]
  },
  {
   "cell_type": "code",
   "execution_count": 51,
   "id": "19a8893c",
   "metadata": {},
   "outputs": [
    {
     "data": {
      "text/plain": [
       "{'apple': {'gressn apple': 10, 'golden': 40}, 'grapes': 200, 'peaches': 50}"
      ]
     },
     "execution_count": 51,
     "metadata": {},
     "output_type": "execute_result"
    }
   ],
   "source": [
    "invertory"
   ]
  },
  {
   "cell_type": "code",
   "execution_count": 52,
   "id": "c14d0d36",
   "metadata": {},
   "outputs": [
    {
     "data": {
      "text/plain": [
       "3"
      ]
     },
     "execution_count": 52,
     "metadata": {},
     "output_type": "execute_result"
    }
   ],
   "source": [
    "len(invertory.keys())"
   ]
  },
  {
   "cell_type": "code",
   "execution_count": 55,
   "id": "fd56e4b1",
   "metadata": {},
   "outputs": [],
   "source": [
    "com = invertory.copy()"
   ]
  },
  {
   "cell_type": "markdown",
   "id": "4f599949",
   "metadata": {},
   "source": []
  },
  {
   "cell_type": "code",
   "execution_count": 56,
   "id": "ac2f14b0",
   "metadata": {},
   "outputs": [
    {
     "data": {
      "text/plain": [
       "{'apple': {'gressn apple': 10, 'golden': 40}, 'grapes': 200, 'peaches': 50}"
      ]
     },
     "execution_count": 56,
     "metadata": {},
     "output_type": "execute_result"
    }
   ],
   "source": [
    "com"
   ]
  },
  {
   "cell_type": "code",
   "execution_count": 57,
   "id": "686e9768",
   "metadata": {},
   "outputs": [],
   "source": [
    "# operator "
   ]
  },
  {
   "cell_type": "code",
   "execution_count": 58,
   "id": "33deefc5",
   "metadata": {},
   "outputs": [],
   "source": [
    "#create a coversion of celsius to farheriheit"
   ]
  },
  {
   "cell_type": "code",
   "execution_count": 62,
   "id": "ddb1cc28",
   "metadata": {},
   "outputs": [
    {
     "name": "stdout",
     "output_type": "stream",
     "text": [
      "enter the temp: 23\n"
     ]
    },
    {
     "data": {
      "text/plain": [
       "73.4"
      ]
     },
     "execution_count": 62,
     "metadata": {},
     "output_type": "execute_result"
    }
   ],
   "source": [
    "tem = input(\"enter the temp: \")\n",
    "tem = float(tem)\n",
    "far = (9 / 5 * tem) + 32\n",
    "far "
   ]
  },
  {
   "cell_type": "code",
   "execution_count": 63,
   "id": "2c637e03",
   "metadata": {},
   "outputs": [],
   "source": [
    "# control flow statement \n",
    "# conditional statement \n",
    "# looping statement \n",
    "# try expect \n"
   ]
  },
  {
   "cell_type": "code",
   "execution_count": 68,
   "id": "cb65cb5a",
   "metadata": {},
   "outputs": [
    {
     "name": "stdout",
     "output_type": "stream",
     "text": [
      "enter the temp: 23\n",
      "user have a low temparature\n"
     ]
    }
   ],
   "source": [
    "tem = input(\"enter the temp: \")\n",
    "tem = float(tem)\n",
    "far = (9 / 5 * tem) + 32\n",
    "far \n",
    "if far > 100:\n",
    "    print(\"user have a fever\")\n",
    "elif far < 95 :\n",
    "    print(\"user have a low temparature\")\n",
    "else:\n",
    "    print(\"user don't have fever\")"
   ]
  },
  {
   "cell_type": "code",
   "execution_count": 69,
   "id": "137d26ff",
   "metadata": {},
   "outputs": [],
   "source": [
    "# create calculator "
   ]
  },
  {
   "cell_type": "code",
   "execution_count": 72,
   "id": "ede2a874",
   "metadata": {},
   "outputs": [
    {
     "name": "stdout",
     "output_type": "stream",
     "text": [
      "enter number :20 \n",
      "enter number :10\n",
      "30\n",
      "10\n",
      "200\n",
      "2.0\n"
     ]
    }
   ],
   "source": [
    "num1 = int(input(\"enter number :\"))\n",
    "num2 = int(input(\"enter number :\"))\n",
    "\n",
    "sum = num1 + num2 \n",
    "sub = num1 - num2 \n",
    "mul = num1 * num2 \n",
    "div = num1 / num2 \n",
    "\n",
    "print(sum)\n",
    "print(sub)\n",
    "print(mul)\n",
    "print(div)"
   ]
  },
  {
   "cell_type": "code",
   "execution_count": 73,
   "id": "b2ac9548",
   "metadata": {},
   "outputs": [
    {
     "name": "stdout",
     "output_type": "stream",
     "text": [
      "enter the first number10\n",
      "enter the second number20\n",
      "enter the operation*\n",
      "200\n"
     ]
    }
   ],
   "source": [
    "num1 = int(input(\"enter the first number\"))\n",
    "num2 = int(input(\"enter the second number\"))\n",
    "ope = input(\"enter the operation\")\n",
    "if ope == \"+\":\n",
    "    print(num1+num2)\n",
    "elif ope == \"-\":\n",
    "    print(num1-num2)\n",
    "elif ope == \"*\":\n",
    "    print(num1 * num2)\n",
    "elif ope ==\"/\":\n",
    "    print(num1 / num2)"
   ]
  },
  {
   "cell_type": "code",
   "execution_count": 75,
   "id": "19ff255b",
   "metadata": {},
   "outputs": [
    {
     "name": "stdout",
     "output_type": "stream",
     "text": [
      "US\n",
      "INDIA\n",
      "GRAPES\n",
      "BANANA\n",
      "NAME\n",
      "PACHES\n",
      "PACHES\n"
     ]
    }
   ],
   "source": [
    "for i in name_of_fruits:\n",
    "    print(i.upper())"
   ]
  },
  {
   "cell_type": "code",
   "execution_count": 80,
   "id": "385b1a2b",
   "metadata": {},
   "outputs": [
    {
     "name": "stdout",
     "output_type": "stream",
     "text": [
      "0 even number\n",
      "1 odd number\n",
      "2 even number\n",
      "3 odd number\n",
      "4 even number\n",
      "5 odd number\n",
      "6 even number\n",
      "7 odd number\n",
      "8 even number\n",
      "9 odd number\n"
     ]
    }
   ],
   "source": [
    "for i in range(10):\n",
    "    if i % 2 == 0:\n",
    "        print(f\"{i} even number\")\n",
    "    else:\n",
    "        print(f\"{i} odd number\")"
   ]
  },
  {
   "cell_type": "code",
   "execution_count": 81,
   "id": "ddd3fd5a",
   "metadata": {},
   "outputs": [],
   "source": [
    "#create a method to find the sq of all number and save it in a new list "
   ]
  },
  {
   "cell_type": "code",
   "execution_count": 86,
   "id": "d8c1b907",
   "metadata": {},
   "outputs": [
    {
     "ename": "AttributeError",
     "evalue": "'tuple' object has no attribute 'append'",
     "output_type": "error",
     "traceback": [
      "\u001b[1;31m---------------------------------------------------------------------------\u001b[0m",
      "\u001b[1;31mAttributeError\u001b[0m                            Traceback (most recent call last)",
      "Cell \u001b[1;32mIn[86], line 3\u001b[0m\n\u001b[0;32m      1\u001b[0m list_new\u001b[38;5;241m=\u001b[39m()\n\u001b[0;32m      2\u001b[0m \u001b[38;5;28;01mfor\u001b[39;00m i \u001b[38;5;129;01min\u001b[39;00m \u001b[38;5;28mrange\u001b[39m(\u001b[38;5;241m10\u001b[39m):\n\u001b[1;32m----> 3\u001b[0m     list_new\u001b[38;5;241m.\u001b[39mappend(i\u001b[38;5;241m*\u001b[39mi)\n\u001b[0;32m      4\u001b[0m list_new\n",
      "\u001b[1;31mAttributeError\u001b[0m: 'tuple' object has no attribute 'append'"
     ]
    }
   ],
   "source": [
    "list_new=[]\n",
    "for i in range(10):\n",
    "    list_new.append(i*i)\n",
    "list_new"
   ]
  },
  {
   "cell_type": "code",
   "execution_count": null,
   "id": "6e7170f5",
   "metadata": {},
   "outputs": [],
   "source": []
  }
 ],
 "metadata": {
  "kernelspec": {
   "display_name": "Python 3 (ipykernel)",
   "language": "python",
   "name": "python3"
  },
  "language_info": {
   "codemirror_mode": {
    "name": "ipython",
    "version": 3
   },
   "file_extension": ".py",
   "mimetype": "text/x-python",
   "name": "python",
   "nbconvert_exporter": "python",
   "pygments_lexer": "ipython3",
   "version": "3.11.5"
  }
 },
 "nbformat": 4,
 "nbformat_minor": 5
}
