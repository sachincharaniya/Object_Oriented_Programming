{
 "cells": [
  {
   "cell_type": "code",
   "execution_count": 1,
   "id": "830e005b",
   "metadata": {},
   "outputs": [
    {
     "name": "stdout",
     "output_type": "stream",
     "text": [
      "hello world\n"
     ]
    }
   ],
   "source": [
    "print(\"hello world\")"
   ]
  },
  {
   "cell_type": "code",
   "execution_count": 2,
   "id": "e1f4c756",
   "metadata": {},
   "outputs": [
    {
     "data": {
      "text/plain": [
       "5"
      ]
     },
     "execution_count": 2,
     "metadata": {},
     "output_type": "execute_result"
    }
   ],
   "source": [
    "len(\"hello\")"
   ]
  },
  {
   "cell_type": "code",
   "execution_count": 3,
   "id": "e8801833",
   "metadata": {},
   "outputs": [],
   "source": [
    "# function\n",
    "#inbuilt >> print, len , type\n",
    "#user defined\n"
   ]
  },
  {
   "cell_type": "code",
   "execution_count": 4,
   "id": "c92c75c5",
   "metadata": {},
   "outputs": [],
   "source": [
    "# functions >> it is blcok of code that performs some specific computations\n",
    "# it keeps your code neat and clean , organise , reusable \n"
   ]
  },
  {
   "cell_type": "code",
   "execution_count": 5,
   "id": "61925a50",
   "metadata": {},
   "outputs": [
    {
     "data": {
      "text/plain": [
       "2"
      ]
     },
     "execution_count": 5,
     "metadata": {},
     "output_type": "execute_result"
    }
   ],
   "source": [
    "int(2.2)"
   ]
  },
  {
   "cell_type": "code",
   "execution_count": 6,
   "id": "5bc621c2",
   "metadata": {},
   "outputs": [
    {
     "data": {
      "text/plain": [
       "2.0"
      ]
     },
     "execution_count": 6,
     "metadata": {},
     "output_type": "execute_result"
    }
   ],
   "source": [
    "float(2)"
   ]
  },
  {
   "cell_type": "code",
   "execution_count": 12,
   "id": "37babb18",
   "metadata": {},
   "outputs": [
    {
     "data": {
      "text/plain": [
       "7"
      ]
     },
     "execution_count": 12,
     "metadata": {},
     "output_type": "execute_result"
    }
   ],
   "source": [
    "import math as m\n",
    "m.ceil(6.4)"
   ]
  },
  {
   "cell_type": "code",
   "execution_count": 14,
   "id": "d7827f9f",
   "metadata": {},
   "outputs": [
    {
     "data": {
      "text/plain": [
       "3"
      ]
     },
     "execution_count": 14,
     "metadata": {},
     "output_type": "execute_result"
    }
   ],
   "source": [
    "m.floor(3.6)"
   ]
  },
  {
   "cell_type": "code",
   "execution_count": 16,
   "id": "26c2a6ad",
   "metadata": {},
   "outputs": [],
   "source": [
    "#syntax of function\n",
    "#def fun():\n",
    "    #do something \n",
    "    #do someting\n",
    "    #retrun\n",
    "    "
   ]
  },
  {
   "cell_type": "code",
   "execution_count": 19,
   "id": "3707f8c6",
   "metadata": {},
   "outputs": [
    {
     "name": "stdout",
     "output_type": "stream",
     "text": [
      "welcome to class Rahul\n",
      "welcome to class Shweta\n",
      "welcome to class Amruta\n"
     ]
    }
   ],
   "source": [
    "print(\"welcome to class Rahul\")\n",
    "print(\"welcome to class Shweta\")\n",
    "print(\"welcome to class Amruta\")"
   ]
  },
  {
   "cell_type": "code",
   "execution_count": 21,
   "id": "914fd4e0",
   "metadata": {},
   "outputs": [
    {
     "name": "stdout",
     "output_type": "stream",
     "text": [
      "welcome to class Ajay\n",
      "welcome to class bijay\n"
     ]
    }
   ],
   "source": [
    "def greet(n):\n",
    "    print(\"welcome to class\",n)\n",
    "greet(\"Ajay\")\n",
    "greet(\"bijay\")"
   ]
  },
  {
   "cell_type": "code",
   "execution_count": 24,
   "id": "0093c51a",
   "metadata": {},
   "outputs": [
    {
     "name": "stdout",
     "output_type": "stream",
     "text": [
      "this is my first function\n"
     ]
    }
   ],
   "source": [
    "def func():\n",
    "    print(\"this is my first function\")\n",
    "func()"
   ]
  },
  {
   "cell_type": "code",
   "execution_count": 25,
   "id": "36304ec5",
   "metadata": {},
   "outputs": [
    {
     "name": "stdout",
     "output_type": "stream",
     "text": [
      "this is my first function\n"
     ]
    },
    {
     "data": {
      "text/plain": [
       "NoneType"
      ]
     },
     "execution_count": 25,
     "metadata": {},
     "output_type": "execute_result"
    }
   ],
   "source": [
    "type(func())"
   ]
  },
  {
   "cell_type": "code",
   "execution_count": 27,
   "id": "cda80d57",
   "metadata": {},
   "outputs": [
    {
     "data": {
      "text/plain": [
       "'this is my first function in python'"
      ]
     },
     "execution_count": 27,
     "metadata": {},
     "output_type": "execute_result"
    }
   ],
   "source": [
    "def func():\n",
    "    return \"this is my first function\"\n",
    "func() + \" in python\""
   ]
  },
  {
   "cell_type": "code",
   "execution_count": 28,
   "id": "f1e41ad4",
   "metadata": {},
   "outputs": [
    {
     "data": {
      "text/plain": [
       "('this is first function', 2, 4, (3+7j), True)"
      ]
     },
     "execution_count": 28,
     "metadata": {},
     "output_type": "execute_result"
    }
   ],
   "source": [
    "def func():\n",
    "    return \"this is first function\",2,4,3+7j,True\n",
    "func()"
   ]
  },
  {
   "cell_type": "code",
   "execution_count": 29,
   "id": "c31de52f",
   "metadata": {},
   "outputs": [],
   "source": [
    "a = func()"
   ]
  },
  {
   "cell_type": "code",
   "execution_count": 30,
   "id": "9724e0bf",
   "metadata": {},
   "outputs": [
    {
     "data": {
      "text/plain": [
       "tuple"
      ]
     },
     "execution_count": 30,
     "metadata": {},
     "output_type": "execute_result"
    }
   ],
   "source": [
    "type(a)"
   ]
  },
  {
   "cell_type": "code",
   "execution_count": 31,
   "id": "02703483",
   "metadata": {},
   "outputs": [
    {
     "data": {
      "text/plain": [
       "'this is first function'"
      ]
     },
     "execution_count": 31,
     "metadata": {},
     "output_type": "execute_result"
    }
   ],
   "source": [
    "a[0]"
   ]
  },
  {
   "cell_type": "code",
   "execution_count": 32,
   "id": "e52047ae",
   "metadata": {},
   "outputs": [],
   "source": [
    " a,b,c,d,e = func()"
   ]
  },
  {
   "cell_type": "code",
   "execution_count": 33,
   "id": "ffec3e4b",
   "metadata": {},
   "outputs": [
    {
     "data": {
      "text/plain": [
       "'this is first function'"
      ]
     },
     "execution_count": 33,
     "metadata": {},
     "output_type": "execute_result"
    }
   ],
   "source": [
    "a"
   ]
  },
  {
   "cell_type": "code",
   "execution_count": 34,
   "id": "10c44f82",
   "metadata": {},
   "outputs": [
    {
     "data": {
      "text/plain": [
       "2"
      ]
     },
     "execution_count": 34,
     "metadata": {},
     "output_type": "execute_result"
    }
   ],
   "source": [
    "b"
   ]
  },
  {
   "cell_type": "code",
   "execution_count": 35,
   "id": "3eecb3be",
   "metadata": {},
   "outputs": [
    {
     "data": {
      "text/plain": [
       "4"
      ]
     },
     "execution_count": 35,
     "metadata": {},
     "output_type": "execute_result"
    }
   ],
   "source": [
    "c"
   ]
  },
  {
   "cell_type": "code",
   "execution_count": 36,
   "id": "2d9cf05d",
   "metadata": {},
   "outputs": [
    {
     "data": {
      "text/plain": [
       "4"
      ]
     },
     "execution_count": 36,
     "metadata": {},
     "output_type": "execute_result"
    }
   ],
   "source": [
    "func()[2]"
   ]
  },
  {
   "cell_type": "code",
   "execution_count": 37,
   "id": "088ae727",
   "metadata": {},
   "outputs": [],
   "source": [
    "def func():\n",
    "    calc = 2 + 3 + 6 * 5\n",
    "    return calc"
   ]
  },
  {
   "cell_type": "code",
   "execution_count": 38,
   "id": "310346fe",
   "metadata": {},
   "outputs": [
    {
     "data": {
      "text/plain": [
       "35"
      ]
     },
     "execution_count": 38,
     "metadata": {},
     "output_type": "execute_result"
    }
   ],
   "source": [
    "func()"
   ]
  },
  {
   "cell_type": "code",
   "execution_count": 39,
   "id": "8ced7085",
   "metadata": {},
   "outputs": [
    {
     "data": {
      "text/plain": [
       "int"
      ]
     },
     "execution_count": 39,
     "metadata": {},
     "output_type": "execute_result"
    }
   ],
   "source": [
    "type(func())"
   ]
  },
  {
   "cell_type": "code",
   "execution_count": 42,
   "id": "a2c5e380",
   "metadata": {},
   "outputs": [
    {
     "data": {
      "text/plain": [
       "9"
      ]
     },
     "execution_count": 42,
     "metadata": {},
     "output_type": "execute_result"
    }
   ],
   "source": [
    "def square_no(a): # a is called as arguement \n",
    "    return a*a\n",
    "square_no(3)"
   ]
  },
  {
   "cell_type": "code",
   "execution_count": 43,
   "id": "123f38d3",
   "metadata": {},
   "outputs": [
    {
     "data": {
      "text/plain": [
       "8"
      ]
     },
     "execution_count": 43,
     "metadata": {},
     "output_type": "execute_result"
    }
   ],
   "source": [
    "def sum_(a,b):\n",
    "    return a+b\n",
    "sum_(3,5)"
   ]
  },
  {
   "cell_type": "code",
   "execution_count": 44,
   "id": "fd73b23a",
   "metadata": {},
   "outputs": [
    {
     "data": {
      "text/plain": [
       "'pwSkills'"
      ]
     },
     "execution_count": 44,
     "metadata": {},
     "output_type": "execute_result"
    }
   ],
   "source": [
    "sum_(\"pw\",\"Skills\")"
   ]
  },
  {
   "cell_type": "code",
   "execution_count": 45,
   "id": "733b9602",
   "metadata": {},
   "outputs": [
    {
     "data": {
      "text/plain": [
       "[1, 2, 3, 4, 5, 6]"
      ]
     },
     "execution_count": 45,
     "metadata": {},
     "output_type": "execute_result"
    }
   ],
   "source": [
    "sum_([1,2,3],[4,5,6])"
   ]
  },
  {
   "cell_type": "code",
   "execution_count": 46,
   "id": "881cdb1e",
   "metadata": {},
   "outputs": [
    {
     "data": {
      "text/plain": [
       "'skillspw'"
      ]
     },
     "execution_count": 46,
     "metadata": {},
     "output_type": "execute_result"
    }
   ],
   "source": [
    "sum_(b=\"pw\",a=\"skills\")"
   ]
  },
  {
   "cell_type": "code",
   "execution_count": 47,
   "id": "26961313",
   "metadata": {},
   "outputs": [
    {
     "data": {
      "text/plain": [
       "6"
      ]
     },
     "execution_count": 47,
     "metadata": {},
     "output_type": "execute_result"
    }
   ],
   "source": [
    "def sum_(a,b,c):\n",
    "    return a+b+c\n",
    "sum_(1,2,3)"
   ]
  },
  {
   "cell_type": "code",
   "execution_count": 48,
   "id": "1c881c74",
   "metadata": {},
   "outputs": [
    {
     "data": {
      "text/plain": [
       "5"
      ]
     },
     "execution_count": 48,
     "metadata": {},
     "output_type": "execute_result"
    }
   ],
   "source": [
    "#defalut arguement\n",
    "def sum_(a=0,b=0,c=0):\n",
    "    return a+b+c\n",
    "sum_(2,3)"
   ]
  },
  {
   "cell_type": "code",
   "execution_count": 49,
   "id": "a17c1cec",
   "metadata": {},
   "outputs": [
    {
     "name": "stdout",
     "output_type": "stream",
     "text": [
      "enter the first no12\n",
      "enter the second no12\n"
     ]
    },
    {
     "data": {
      "text/plain": [
       "24"
      ]
     },
     "execution_count": 49,
     "metadata": {},
     "output_type": "execute_result"
    }
   ],
   "source": [
    "def add_two_nos():\n",
    "    a = int(input(\"enter the first no \"))\n",
    "    b = int(input(\"enter the second no \"))\n",
    "    return a + b\n",
    "add_two_nos()"
   ]
  },
  {
   "cell_type": "code",
   "execution_count": 50,
   "id": "fb05547f",
   "metadata": {},
   "outputs": [],
   "source": [
    "#write a function that take list as input and return me all numeric values.\n"
   ]
  },
  {
   "cell_type": "code",
   "execution_count": 51,
   "id": "613b1696",
   "metadata": {},
   "outputs": [],
   "source": [
    "def only_numeric(a):\n",
    "    n = [];\n",
    "    for i in a:\n",
    "        if type(i) == int or type(i) == float:\n",
    "            n.append(i)\n",
    "    return n  "
   ]
  },
  {
   "cell_type": "code",
   "execution_count": 55,
   "id": "95f9a683",
   "metadata": {},
   "outputs": [
    {
     "data": {
      "text/plain": [
       "[1, 2, 3, 4, 5, 6]"
      ]
     },
     "execution_count": 55,
     "metadata": {},
     "output_type": "execute_result"
    }
   ],
   "source": [
    "only_numeric([1,2,3,4.5,6,\"Ajay\",\"pwskills\",True])"
   ]
  },
  {
   "cell_type": "code",
   "execution_count": 60,
   "id": "f242da81",
   "metadata": {},
   "outputs": [],
   "source": [
    "def only_numeric(a):\n",
    "    n = [];\n",
    "    for i in a:\n",
    "        if type(i) == list:\n",
    "            for j in i:\n",
    "                if type(j) == int or type(j) == float:\n",
    "                    n.append(j)\n",
    "        else:\n",
    "            if type(i) == int or type(i) == float:\n",
    "                n.append(i)\n",
    "    return n "
   ]
  },
  {
   "cell_type": "code",
   "execution_count": 62,
   "id": "8c5d9736",
   "metadata": {},
   "outputs": [
    {
     "data": {
      "text/plain": [
       "[1, 2, 3, 4.5, 6, 1, 2, 3, 4]"
      ]
     },
     "execution_count": 62,
     "metadata": {},
     "output_type": "execute_result"
    }
   ],
   "source": [
    "only_numeric([1,2,3,4.5,6,\"Ajay\",\"pwskills\",True,[1,2,3,4]])"
   ]
  },
  {
   "cell_type": "code",
   "execution_count": 63,
   "id": "330128de",
   "metadata": {},
   "outputs": [
    {
     "data": {
      "text/plain": [
       "5"
      ]
     },
     "execution_count": 63,
     "metadata": {},
     "output_type": "execute_result"
    }
   ],
   "source": [
    "def sum_(a,b):\n",
    "    return a + b\n",
    "sum_(2,3)"
   ]
  },
  {
   "cell_type": "code",
   "execution_count": 67,
   "id": "6002ecbc",
   "metadata": {},
   "outputs": [
    {
     "data": {
      "text/plain": [
       "28"
      ]
     },
     "execution_count": 67,
     "metadata": {},
     "output_type": "execute_result"
    }
   ],
   "source": [
    "#variable length arguement\n",
    "def sum_(*args):\n",
    "    s = 0\n",
    "    for i in args:\n",
    "        s = s + i\n",
    "    return s\n",
    "sum_(1,2,3,4,5,6,7)"
   ]
  },
  {
   "cell_type": "code",
   "execution_count": 69,
   "id": "675e328c",
   "metadata": {},
   "outputs": [
    {
     "data": {
      "text/plain": [
       "(2, 3, 4, 5, 6, 7, 8, 9, 'Ajay', [1, 2, 3], (1, 2, 3), True)"
      ]
     },
     "execution_count": 69,
     "metadata": {},
     "output_type": "execute_result"
    }
   ],
   "source": [
    "def test_1(*args):\n",
    "    return args\n",
    "test_1(2,3,4,5,6,7,8,9,\"Ajay\",[1,2,3],(1,2,3),True)"
   ]
  },
  {
   "cell_type": "code",
   "execution_count": 72,
   "id": "42eda568",
   "metadata": {},
   "outputs": [
    {
     "data": {
      "text/plain": [
       "((2, 3, 4, 5, 6, 7, 8, 9, 'Ajay', [1, 2, 3], (1, 2, 3), True), 'ram')"
      ]
     },
     "execution_count": 72,
     "metadata": {},
     "output_type": "execute_result"
    }
   ],
   "source": [
    "def test_1(*args,a):\n",
    "    return args,a\n",
    "test_1(2,3,4,5,6,7,8,9,\"Ajay\",[1,2,3],(1,2,3),True,a=\"ram\")"
   ]
  },
  {
   "cell_type": "code",
   "execution_count": 74,
   "id": "7e583917",
   "metadata": {},
   "outputs": [],
   "source": [
    "def return_list(*args):\n",
    "    l = []\n",
    "    for i in args:\n",
    "        if type(i) == list:\n",
    "            l.append(i)\n",
    "    return l"
   ]
  },
  {
   "cell_type": "code",
   "execution_count": 76,
   "id": "8dc6f0dc",
   "metadata": {},
   "outputs": [
    {
     "data": {
      "text/plain": [
       "[[1, 2, 3], [4, 5, 6, 8]]"
      ]
     },
     "execution_count": 76,
     "metadata": {},
     "output_type": "execute_result"
    }
   ],
   "source": [
    "return_list(2,3,4,5,6,7,8,9,\"Ajay\",[1,2,3],[4,5,6,8],(1,2,3),True)"
   ]
  },
  {
   "cell_type": "code",
   "execution_count": 78,
   "id": "a88adb9b",
   "metadata": {},
   "outputs": [
    {
     "data": {
      "text/plain": [
       "'Ajay is working on IR.'"
      ]
     },
     "execution_count": 78,
     "metadata": {},
     "output_type": "execute_result"
    }
   ],
   "source": [
    "def team(name,project):\n",
    "    return f\"{name} is working on {project}.\"\n",
    "team(name = \"Ajay\",project=\"IR\")"
   ]
  },
  {
   "cell_type": "code",
   "execution_count": 79,
   "id": "da2acba1",
   "metadata": {},
   "outputs": [],
   "source": [
    "# it should accept any no of argument\n",
    "#treated as key value pair\n",
    "# dictionary\n"
   ]
  },
  {
   "cell_type": "code",
   "execution_count": 84,
   "id": "8362a1bd",
   "metadata": {},
   "outputs": [
    {
     "data": {
      "text/plain": [
       "dict"
      ]
     },
     "execution_count": 84,
     "metadata": {},
     "output_type": "execute_result"
    }
   ],
   "source": [
    "def kwarg_func(**kwargs):\n",
    "    return kwargs\n",
    "kwarg_func(a=2,b=3,c=[1,2,3],d=(12,3,5))\n",
    "type(kwarg_func())"
   ]
  },
  {
   "cell_type": "code",
   "execution_count": 85,
   "id": "29a3f637",
   "metadata": {},
   "outputs": [],
   "source": [
    "# write a function which takes  variable key word argument and return only the values which is a list"
   ]
  },
  {
   "cell_type": "code",
   "execution_count": 86,
   "id": "18121099",
   "metadata": {},
   "outputs": [
    {
     "data": {
      "text/plain": [
       "('d', [1, 2, 3, 4])"
      ]
     },
     "execution_count": 86,
     "metadata": {},
     "output_type": "execute_result"
    }
   ],
   "source": [
    "def test(**kwargs):\n",
    "    for i in kwargs.keys():\n",
    "        if type(kwargs[i]) == list:\n",
    "            return i,kwargs[i]\n",
    "test(a=2,b=3,c=6,d=[1,2,3,4],e=(1,2,3))"
   ]
  },
  {
   "cell_type": "code",
   "execution_count": 92,
   "id": "c37b8b66",
   "metadata": {},
   "outputs": [
    {
     "ename": "SyntaxError",
     "evalue": "invalid syntax (2065794753.py, line 3)",
     "output_type": "error",
     "traceback": [
      "\u001b[1;36m  Cell \u001b[1;32mIn[92], line 3\u001b[1;36m\u001b[0m\n\u001b[1;33m    global message = \"hello welcome\"\u001b[0m\n\u001b[1;37m                   ^\u001b[0m\n\u001b[1;31mSyntaxError\u001b[0m\u001b[1;31m:\u001b[0m invalid syntax\n"
     ]
    }
   ],
   "source": [
    "# python namespace \n",
    "def greet():\n",
    "    message = \"hello,welcome\"\n",
    "    print(message)\n",
    "greet()"
   ]
  },
  {
   "cell_type": "code",
   "execution_count": 90,
   "id": "c38d63b0",
   "metadata": {},
   "outputs": [
    {
     "ename": "NameError",
     "evalue": "name 'message' is not defined",
     "output_type": "error",
     "traceback": [
      "\u001b[1;31m---------------------------------------------------------------------------\u001b[0m",
      "\u001b[1;31mNameError\u001b[0m                                 Traceback (most recent call last)",
      "Cell \u001b[1;32mIn[90], line 1\u001b[0m\n\u001b[1;32m----> 1\u001b[0m \u001b[38;5;28mprint\u001b[39m(message)\n",
      "\u001b[1;31mNameError\u001b[0m: name 'message' is not defined"
     ]
    }
   ],
   "source": [
    "print(message)"
   ]
  },
  {
   "cell_type": "code",
   "execution_count": null,
   "id": "29dd3428",
   "metadata": {},
   "outputs": [],
   "source": []
  }
 ],
 "metadata": {
  "kernelspec": {
   "display_name": "Python 3 (ipykernel)",
   "language": "python",
   "name": "python3"
  },
  "language_info": {
   "codemirror_mode": {
    "name": "ipython",
    "version": 3
   },
   "file_extension": ".py",
   "mimetype": "text/x-python",
   "name": "python",
   "nbconvert_exporter": "python",
   "pygments_lexer": "ipython3",
   "version": "3.11.5"
  }
 },
 "nbformat": 4,
 "nbformat_minor": 5
}
