{
 "cells": [
  {
   "cell_type": "code",
   "execution_count": 1,
   "id": "266053d7",
   "metadata": {},
   "outputs": [],
   "source": [
    "#polymorphism >> poly means many, morphism means forms/state\n",
    "#refers to an object taking several forms "
   ]
  },
  {
   "cell_type": "code",
   "execution_count": 2,
   "id": "dae57be4",
   "metadata": {},
   "outputs": [
    {
     "data": {
      "text/plain": [
       "4"
      ]
     },
     "execution_count": 2,
     "metadata": {},
     "output_type": "execute_result"
    }
   ],
   "source": [
    "len(\"ajay\")"
   ]
  },
  {
   "cell_type": "code",
   "execution_count": 3,
   "id": "f21dcf8b",
   "metadata": {},
   "outputs": [
    {
     "data": {
      "text/plain": [
       "5"
      ]
     },
     "execution_count": 3,
     "metadata": {},
     "output_type": "execute_result"
    }
   ],
   "source": [
    "len([1,2,3,4,5])"
   ]
  },
  {
   "cell_type": "code",
   "execution_count": 5,
   "id": "ccb75c8c",
   "metadata": {},
   "outputs": [
    {
     "data": {
      "text/plain": [
       "7"
      ]
     },
     "execution_count": 5,
     "metadata": {},
     "output_type": "execute_result"
    }
   ],
   "source": [
    "def func(a,b):\n",
    "    return a + b\n",
    "func(2 , 5)"
   ]
  },
  {
   "cell_type": "code",
   "execution_count": 6,
   "id": "5fa93dcc",
   "metadata": {},
   "outputs": [
    {
     "data": {
      "text/plain": [
       "'pwskills'"
      ]
     },
     "execution_count": 6,
     "metadata": {},
     "output_type": "execute_result"
    }
   ],
   "source": [
    "func(\"pw\",\"skills\")"
   ]
  },
  {
   "cell_type": "code",
   "execution_count": 8,
   "id": "6431514d",
   "metadata": {},
   "outputs": [
    {
     "data": {
      "text/plain": [
       "[1, 2, 3, 4, 5, 6, 7]"
      ]
     },
     "execution_count": 8,
     "metadata": {},
     "output_type": "execute_result"
    }
   ],
   "source": [
    "func([1,2,3,4],[5,6,7])"
   ]
  },
  {
   "cell_type": "code",
   "execution_count": 11,
   "id": "f3ae3c3e",
   "metadata": {},
   "outputs": [
    {
     "name": "stdout",
     "output_type": "stream",
     "text": [
      "This is lect into with teacher perspective\n",
      "This is lect info with student perspective\n"
     ]
    }
   ],
   "source": [
    "class teacher_tecture:\n",
    "    def lect_info(self):\n",
    "        print(\"This is lect into with teacher perspective\")\n",
    "\n",
    "class student_lecture:\n",
    "    def lect_info(self):\n",
    "        print(\"This is lect info with student perspective\")\n",
    "\n",
    "def parcer(class_obj):\n",
    "    for i in class_obj:\n",
    "        i.lect_info()\n",
    "obj1 = teacher_tecture()\n",
    "obj2 = student_lecture()\n",
    "\n",
    "class_obj = [obj1, obj2]\n",
    "parcer(class_obj)\n"
   ]
  },
  {
   "cell_type": "code",
   "execution_count": 12,
   "id": "5aa96d5d",
   "metadata": {},
   "outputs": [],
   "source": [
    "# polymorphism >> method overloading , method overriding "
   ]
  },
  {
   "cell_type": "code",
   "execution_count": 13,
   "id": "efe128d3",
   "metadata": {},
   "outputs": [
    {
     "name": "stdout",
     "output_type": "stream",
     "text": [
      "welcome to pwskills class  \n"
     ]
    }
   ],
   "source": [
    "#method overloading >> student is taking different forms , the last method overwrites the previous ones  \n",
    "class Student:\n",
    "    def student(self):\n",
    "        print(\"welcome to PwClass\")\n",
    "    def student(self,name=\"\"):\n",
    "        print(\"welcome to pwskills class\",name)\n",
    "    def student(self,name=\"\",course=\"\"):\n",
    "        print(\"welcome to pwskills class\",name,course)\n",
    "stud = Student()\n",
    "stud.student()"
   ]
  },
  {
   "cell_type": "code",
   "execution_count": 14,
   "id": "85049de3",
   "metadata": {},
   "outputs": [
    {
     "name": "stdout",
     "output_type": "stream",
     "text": [
      "welcome to pwskills class sachin \n"
     ]
    }
   ],
   "source": [
    "stud.student(\"sachin\")"
   ]
  },
  {
   "cell_type": "code",
   "execution_count": 15,
   "id": "97701b61",
   "metadata": {},
   "outputs": [
    {
     "name": "stdout",
     "output_type": "stream",
     "text": [
      "welcome to pwskills class sachin data science\n"
     ]
    }
   ],
   "source": [
    "stud.student(\"sachin\",\"data science\")"
   ]
  },
  {
   "cell_type": "code",
   "execution_count": 17,
   "id": "e3f3c07d",
   "metadata": {},
   "outputs": [
    {
     "name": "stdout",
     "output_type": "stream",
     "text": [
      "welcome to pwskills class  \n"
     ]
    }
   ],
   "source": [
    "class Student:\n",
    "    def student(self,name=\"\",course=\"\"):\n",
    "        print(\"welcome to pwskills class\",name,course)\n",
    "stud = Student()\n",
    "stud.student()"
   ]
  },
  {
   "cell_type": "code",
   "execution_count": 18,
   "id": "f9ef51ba",
   "metadata": {},
   "outputs": [],
   "source": [
    "#method overriding >> method in parent class and child class with same signature , the child class method will be executed"
   ]
  },
  {
   "cell_type": "code",
   "execution_count": 19,
   "id": "d5de0748",
   "metadata": {},
   "outputs": [
    {
     "name": "stdout",
     "output_type": "stream",
     "text": [
      "Cat meows\n"
     ]
    }
   ],
   "source": [
    "class Animal:\n",
    "    def sound(self):\n",
    "        print(\"animal sound\")\n",
    "class Cat(Animal):\n",
    "    def sound(self):\n",
    "        print(\"Cat meows\")\n",
    "cat = Cat()\n",
    "cat.sound()"
   ]
  },
  {
   "cell_type": "code",
   "execution_count": 20,
   "id": "94369e6e",
   "metadata": {},
   "outputs": [
    {
     "name": "stdout",
     "output_type": "stream",
     "text": [
      "animal sound\n"
     ]
    }
   ],
   "source": [
    "cat = Animal()\n",
    "cat.sound()"
   ]
  },
  {
   "cell_type": "code",
   "execution_count": 41,
   "id": "e6170e9a",
   "metadata": {},
   "outputs": [],
   "source": [
    "#Encapsulation >> means hiding something \n",
    "# Bundling of data and methods\n",
    "# access modifier >> public , protected , private"
   ]
  },
  {
   "cell_type": "code",
   "execution_count": 42,
   "id": "4c2aa79d",
   "metadata": {},
   "outputs": [],
   "source": [
    "#public >> accessible from anywhere from outside/inside  the class\n",
    "\n",
    "class Student:\n",
    "    def __init__(self, name, degree):\n",
    "        self.name = name\n",
    "        self.degree = degree"
   ]
  },
  {
   "cell_type": "code",
   "execution_count": 46,
   "id": "0caac115",
   "metadata": {},
   "outputs": [
    {
     "data": {
      "text/plain": [
       "'sachin'"
      ]
     },
     "execution_count": 46,
     "metadata": {},
     "output_type": "execute_result"
    }
   ],
   "source": [
    "stud = Student(\"sachin\",\"Master\")\n",
    "stud.name"
   ]
  },
  {
   "cell_type": "code",
   "execution_count": 45,
   "id": "b035776c",
   "metadata": {},
   "outputs": [
    {
     "data": {
      "text/plain": [
       "'sachin'"
      ]
     },
     "execution_count": 45,
     "metadata": {},
     "output_type": "execute_result"
    }
   ],
   "source": [
    "stud.name"
   ]
  },
  {
   "cell_type": "code",
   "execution_count": 47,
   "id": "769b18f2",
   "metadata": {},
   "outputs": [],
   "source": [
    "stud.degree = \"Phd\""
   ]
  },
  {
   "cell_type": "code",
   "execution_count": 49,
   "id": "0ccbb05d",
   "metadata": {},
   "outputs": [
    {
     "data": {
      "text/plain": [
       "'Phd'"
      ]
     },
     "execution_count": 49,
     "metadata": {},
     "output_type": "execute_result"
    }
   ],
   "source": [
    "stud.degree"
   ]
  },
  {
   "cell_type": "code",
   "execution_count": 88,
   "id": "1d64e31c",
   "metadata": {},
   "outputs": [],
   "source": [
    "# private >> within the class only its accessible\n",
    "class Student:\n",
    "    def __init__(self, name, degree):\n",
    "        self.name = name\n",
    "        self.__degree = degree\n",
    "    def show(self):\n",
    "        # accessing the public and private data member\n",
    "        print(\"Name\",self.name,'degree',self.__degree)\n"
   ]
  },
  {
   "cell_type": "code",
   "execution_count": 89,
   "id": "fbdba50f",
   "metadata": {},
   "outputs": [],
   "source": [
    "stud = Student(\"sachin\",\"Master\")"
   ]
  },
  {
   "cell_type": "code",
   "execution_count": 90,
   "id": "fcf5c0f8",
   "metadata": {},
   "outputs": [
    {
     "data": {
      "text/plain": [
       "'sachin'"
      ]
     },
     "execution_count": 90,
     "metadata": {},
     "output_type": "execute_result"
    }
   ],
   "source": [
    "stud.name"
   ]
  },
  {
   "cell_type": "code",
   "execution_count": 91,
   "id": "56098346",
   "metadata": {},
   "outputs": [
    {
     "data": {
      "text/plain": [
       "'Master'"
      ]
     },
     "execution_count": 91,
     "metadata": {},
     "output_type": "execute_result"
    }
   ],
   "source": [
    "#stud.__degree\n",
    "stud._Student__degree"
   ]
  },
  {
   "cell_type": "code",
   "execution_count": 92,
   "id": "8b5a9c82",
   "metadata": {},
   "outputs": [
    {
     "name": "stdout",
     "output_type": "stream",
     "text": [
      "Name sachin degree Master\n"
     ]
    }
   ],
   "source": [
    "stud.show()"
   ]
  },
  {
   "cell_type": "code",
   "execution_count": 93,
   "id": "478869c7",
   "metadata": {},
   "outputs": [
    {
     "data": {
      "text/plain": [
       "['__class__',\n",
       " '__delattr__',\n",
       " '__dict__',\n",
       " '__dir__',\n",
       " '__doc__',\n",
       " '__eq__',\n",
       " '__format__',\n",
       " '__ge__',\n",
       " '__getattribute__',\n",
       " '__getstate__',\n",
       " '__gt__',\n",
       " '__hash__',\n",
       " '__init__',\n",
       " '__init_subclass__',\n",
       " '__le__',\n",
       " '__lt__',\n",
       " '__module__',\n",
       " '__ne__',\n",
       " '__new__',\n",
       " '__reduce__',\n",
       " '__reduce_ex__',\n",
       " '__repr__',\n",
       " '__setattr__',\n",
       " '__sizeof__',\n",
       " '__str__',\n",
       " '__subclasshook__',\n",
       " '__weakref__',\n",
       " 'show']"
      ]
     },
     "execution_count": 93,
     "metadata": {},
     "output_type": "execute_result"
    }
   ],
   "source": [
    "dir(Student)"
   ]
  },
  {
   "cell_type": "code",
   "execution_count": 35,
   "id": "2e25d379",
   "metadata": {},
   "outputs": [],
   "source": [
    "class Car:\n",
    "    def __init__(self, year, make, speed, model):\n",
    "        self.__year = year\n",
    "        self.__make = make\n",
    "        self.__speed = speed\n",
    "        self.__model = model\n",
    "    \n",
    "    def set_speed(self,speed):\n",
    "        self.__speed = 0 if speed < 0 else speed\n",
    "    \n",
    "    def get_speed(self):\n",
    "        return self.__speed\n",
    "    "
   ]
  },
  {
   "cell_type": "code",
   "execution_count": 36,
   "id": "fbb5bddc",
   "metadata": {},
   "outputs": [],
   "source": [
    "car = Car(\"1995\",\"Maruti\",\"80\",\"Brezza\")"
   ]
  },
  {
   "cell_type": "code",
   "execution_count": 37,
   "id": "201287fd",
   "metadata": {},
   "outputs": [
    {
     "data": {
      "text/plain": [
       "'80'"
      ]
     },
     "execution_count": 37,
     "metadata": {},
     "output_type": "execute_result"
    }
   ],
   "source": [
    "car._Car__speed"
   ]
  },
  {
   "cell_type": "code",
   "execution_count": 38,
   "id": "78573e91",
   "metadata": {},
   "outputs": [
    {
     "data": {
      "text/plain": [
       "'80'"
      ]
     },
     "execution_count": 38,
     "metadata": {},
     "output_type": "execute_result"
    }
   ],
   "source": [
    "car.get_speed()"
   ]
  },
  {
   "cell_type": "code",
   "execution_count": 39,
   "id": "1e35c246",
   "metadata": {},
   "outputs": [],
   "source": [
    "car.set_speed(-1000)"
   ]
  },
  {
   "cell_type": "code",
   "execution_count": 40,
   "id": "a54b884d",
   "metadata": {},
   "outputs": [
    {
     "data": {
      "text/plain": [
       "0"
      ]
     },
     "execution_count": 40,
     "metadata": {},
     "output_type": "execute_result"
    }
   ],
   "source": [
    "car.get_speed()"
   ]
  },
  {
   "cell_type": "code",
   "execution_count": 41,
   "id": "476cf883",
   "metadata": {},
   "outputs": [],
   "source": [
    "car.set_speed(100)"
   ]
  },
  {
   "cell_type": "code",
   "execution_count": 45,
   "id": "4cd67810",
   "metadata": {},
   "outputs": [
    {
     "data": {
      "text/plain": [
       "100"
      ]
     },
     "execution_count": 45,
     "metadata": {},
     "output_type": "execute_result"
    }
   ],
   "source": [
    "car.get_speed()"
   ]
  },
  {
   "cell_type": "code",
   "execution_count": null,
   "id": "602187b7",
   "metadata": {},
   "outputs": [],
   "source": [
    "class Bank:\n",
    "    def __init__(self,balance):\n",
    "        self.__balance = balance\n",
    "    def __init__(self,amount):\n",
    "        self.__balance = self.__balance + amount\n",
    "    def withdraw(self,amount):\n",
    "        if self.__balance >= amount:\n",
    "            self.__balance = self.__balance - amount\n",
    "            return True\n",
    "        else:\n",
    "            return False"
   ]
  }
 ],
 "metadata": {
  "kernelspec": {
   "display_name": "Python 3 (ipykernel)",
   "language": "python",
   "name": "python3"
  },
  "language_info": {
   "codemirror_mode": {
    "name": "ipython",
    "version": 3
   },
   "file_extension": ".py",
   "mimetype": "text/x-python",
   "name": "python",
   "nbconvert_exporter": "python",
   "pygments_lexer": "ipython3",
   "version": "3.11.5"
  }
 },
 "nbformat": 4,
 "nbformat_minor": 5
}
