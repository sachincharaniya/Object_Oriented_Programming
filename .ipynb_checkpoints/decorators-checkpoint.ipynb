{
 "cells": [
  {
   "cell_type": "code",
   "execution_count": 1,
   "id": "12db0a13",
   "metadata": {},
   "outputs": [],
   "source": [
    "def my_decorator_func():\n",
    "    print(\"The line being printed before the com\")\n",
    "    print(1 + 11)\n",
    "    print(\"The line being printed after the com\")\n",
    "    "
   ]
  },
  {
   "cell_type": "code",
   "execution_count": 2,
   "id": "b3680ff0",
   "metadata": {},
   "outputs": [
    {
     "name": "stdout",
     "output_type": "stream",
     "text": [
      "The line being printed before the com\n",
      "12\n",
      "The line being printed after the com\n"
     ]
    }
   ],
   "source": [
    "my_decorator_func()"
   ]
  },
  {
   "cell_type": "code",
   "execution_count": 5,
   "id": "a2a804a1",
   "metadata": {},
   "outputs": [
    {
     "name": "stdout",
     "output_type": "stream",
     "text": [
      "The line being printed before the com\n",
      "hello\n",
      "The line being printed after the com\n"
     ]
    }
   ],
   "source": [
    "def my_decorator(func):# decorator func that takes another function as arguments \n",
    "    def wapper():# adds the functionality before and after calling func\n",
    "        print(\"The line being printed before the com\")\n",
    "        func()\n",
    "        print(\"The line being printed after the com\")\n",
    "    return wapper\n",
    "@my_decorator\n",
    "def say_hello():\n",
    "    print(\"hello\")\n",
    "say_hello() # when say_hello() is called , it is actually calling wapper() which in turn calls say_hello()\n",
    "        \n",
    "    "
   ]
  },
  {
   "cell_type": "code",
   "execution_count": 10,
   "id": "7643b3ae",
   "metadata": {},
   "outputs": [
    {
     "name": "stdout",
     "output_type": "stream",
     "text": [
      "7700\n",
      "0.001010894775390625\n"
     ]
    }
   ],
   "source": [
    "import time\n",
    "def timer_decorator(func):\n",
    "    def timer():\n",
    "        start = time.time()\n",
    "        func()\n",
    "        end = time.time()\n",
    "        print(end-start)\n",
    "    return timer\n",
    "@timer_decorator\n",
    "def say_hello():\n",
    "    print(1100*7)\n",
    "say_hello()"
   ]
  },
  {
   "cell_type": "code",
   "execution_count": 13,
   "id": "f02723ee",
   "metadata": {},
   "outputs": [
    {
     "name": "stdout",
     "output_type": "stream",
     "text": [
      "Something is happening before func\n",
      "hello\n",
      "something is happening after func\n"
     ]
    }
   ],
   "source": [
    "class MyDecorator:\n",
    "    def __init__(self,func):\n",
    "        self.func = func\n",
    "    def __call__(self):\n",
    "        print(\"Something is happening before func\")\n",
    "        self.func()\n",
    "        print(\"something is happening after func\")\n",
    "@MyDecorator # __call__ is a specia; method which is invoked when you call a decoratoe called \n",
    "def say_hello():\n",
    "    print(\"hello\")\n",
    "say_hello()"
   ]
  },
  {
   "cell_type": "code",
   "execution_count": 14,
   "id": "931e6d82",
   "metadata": {},
   "outputs": [],
   "source": [
    "#built in decorators >> classmethod , staticmethod property"
   ]
  },
  {
   "cell_type": "code",
   "execution_count": 15,
   "id": "c335bd20",
   "metadata": {},
   "outputs": [],
   "source": [
    "#static method >> which can be called without creating an instance of class"
   ]
  },
  {
   "cell_type": "code",
   "execution_count": 16,
   "id": "4dcb2205",
   "metadata": {},
   "outputs": [
    {
     "data": {
      "text/plain": [
       "6"
      ]
     },
     "execution_count": 16,
     "metadata": {},
     "output_type": "execute_result"
    }
   ],
   "source": [
    "class Math:\n",
    "    def add(self,a,b):\n",
    "        return a+b\n",
    "a = Math()\n",
    "a.add(2,4)"
   ]
  },
  {
   "cell_type": "code",
   "execution_count": 17,
   "id": "698ca5de",
   "metadata": {},
   "outputs": [
    {
     "data": {
      "text/plain": [
       "6"
      ]
     },
     "execution_count": 17,
     "metadata": {},
     "output_type": "execute_result"
    }
   ],
   "source": [
    "class Math:\n",
    "    @staticmethod\n",
    "    def add(a,b):\n",
    "        return a+b\n",
    "Math.add(2,4)"
   ]
  },
  {
   "cell_type": "code",
   "execution_count": 18,
   "id": "7270d06a",
   "metadata": {},
   "outputs": [],
   "source": [
    "# class method >> tackes class iteslef as first arguments "
   ]
  },
  {
   "cell_type": "code",
   "execution_count": 27,
   "id": "7ad416b4",
   "metadata": {},
   "outputs": [],
   "source": [
    "class Math:\n",
    "    @classmethod # takes reference to the class itself to modify and access class level \n",
    "    def add(cls,x,y):\n",
    "        return cl.__name__,x + y # cls.__name__>> Math\n",
    "        "
   ]
  },
  {
   "cell_type": "code",
   "execution_count": 28,
   "id": "3e7318c6",
   "metadata": {},
   "outputs": [
    {
     "data": {
      "text/plain": [
       "('Math', 6)"
      ]
     },
     "execution_count": 28,
     "metadata": {},
     "output_type": "execute_result"
    }
   ],
   "source": [
    "Math.add(2,4)"
   ]
  },
  {
   "cell_type": "code",
   "execution_count": 40,
   "id": "aa4d4e0f",
   "metadata": {},
   "outputs": [],
   "source": [
    "class Circle:\n",
    "    def __init__(self,radius):\n",
    "        self.radius = radius\n",
    "        \n",
    "    def area(self):\n",
    "        radius = self.radius\n",
    "        return 3.14 * radius ** 2\n",
    "c = Circle(4)"
   ]
  },
  {
   "cell_type": "code",
   "execution_count": 41,
   "id": "c86a19e4",
   "metadata": {},
   "outputs": [
    {
     "data": {
      "text/plain": [
       "50.24"
      ]
     },
     "execution_count": 41,
     "metadata": {},
     "output_type": "execute_result"
    }
   ],
   "source": [
    "c.area() # used with ()"
   ]
  },
  {
   "cell_type": "code",
   "execution_count": 39,
   "id": "01a4f5fe",
   "metadata": {},
   "outputs": [],
   "source": [
    "class Circle:\n",
    "    def __init__(self,radius):\n",
    "        self.radius = radius\n",
    "    \n",
    "    @property\n",
    "    def area(self):\n",
    "        radius = self.radius\n",
    "        return 3.14 * radius ** 2\n",
    "c = Circle(4)"
   ]
  },
  {
   "cell_type": "code",
   "execution_count": 37,
   "id": "f17a63e6",
   "metadata": {},
   "outputs": [
    {
     "data": {
      "text/plain": [
       "50.24"
      ]
     },
     "execution_count": 37,
     "metadata": {},
     "output_type": "execute_result"
    }
   ],
   "source": [
    "c.area # not used ()"
   ]
  },
  {
   "cell_type": "code",
   "execution_count": 51,
   "id": "6f6d383b",
   "metadata": {},
   "outputs": [],
   "source": [
    "class Student:\n",
    "    def __init__(self,name,price):\n",
    "        self.name = name\n",
    "        self.price = price\n",
    "stud = Student(\"Ajay\",300)"
   ]
  },
  {
   "cell_type": "code",
   "execution_count": 52,
   "id": "a0e7af53",
   "metadata": {},
   "outputs": [
    {
     "data": {
      "text/plain": [
       "'Ajay'"
      ]
     },
     "execution_count": 52,
     "metadata": {},
     "output_type": "execute_result"
    }
   ],
   "source": [
    "stud.name"
   ]
  },
  {
   "cell_type": "code",
   "execution_count": 53,
   "id": "87991e9b",
   "metadata": {},
   "outputs": [
    {
     "data": {
      "text/plain": [
       "300"
      ]
     },
     "execution_count": 53,
     "metadata": {},
     "output_type": "execute_result"
    }
   ],
   "source": [
    "stud.price # "
   ]
  },
  {
   "cell_type": "code",
   "execution_count": 59,
   "id": "2d53a2d5",
   "metadata": {},
   "outputs": [
    {
     "data": {
      "text/plain": [
       "'Ajay'"
      ]
     },
     "execution_count": 59,
     "metadata": {},
     "output_type": "execute_result"
    }
   ],
   "source": [
    "class Student:\n",
    "    def __init__(self,name,price):\n",
    "        self.__name = name\n",
    "        self.__price = price\n",
    "\n",
    "    @property # it will make access_price as attribute of the class\n",
    "    def access_price(self):\n",
    "        return self.__price\n",
    "stud = Student(\"Ajay\",2000)\n",
    "stud._Student__name ## access to the prive variable in class"
   ]
  },
  {
   "cell_type": "code",
   "execution_count": 60,
   "id": "c3044b5e",
   "metadata": {},
   "outputs": [
    {
     "data": {
      "text/plain": [
       "2000"
      ]
     },
     "execution_count": 60,
     "metadata": {},
     "output_type": "execute_result"
    }
   ],
   "source": [
    "stud._Student__price"
   ]
  },
  {
   "cell_type": "code",
   "execution_count": 61,
   "id": "f617f680",
   "metadata": {},
   "outputs": [
    {
     "data": {
      "text/plain": [
       "2000"
      ]
     },
     "execution_count": 61,
     "metadata": {},
     "output_type": "execute_result"
    }
   ],
   "source": [
    "stud.access_price"
   ]
  },
  {
   "cell_type": "code",
   "execution_count": 70,
   "id": "24ed7146",
   "metadata": {},
   "outputs": [],
   "source": [
    "class Student:\n",
    "    def __init__(self,name,price):\n",
    "        self.__name = name\n",
    "        self.__price = price\n",
    "\n",
    "    @property # it will make access_price as attribute of the class\n",
    "    def access_price(self):\n",
    "        return self.__price\n",
    "    \n",
    "    @access_price.setter\n",
    "    def price_set(self,price_new):\n",
    "        self.__price = price_new\n",
    "        \n",
    "    @access_price.deleter\n",
    "    def del_price(self):\n",
    "        del self.__price\n",
    "        \n",
    "stud = Student(\"Ajay\",2000)"
   ]
  },
  {
   "cell_type": "code",
   "execution_count": 71,
   "id": "3312259b",
   "metadata": {},
   "outputs": [
    {
     "data": {
      "text/plain": [
       "2000"
      ]
     },
     "execution_count": 71,
     "metadata": {},
     "output_type": "execute_result"
    }
   ],
   "source": [
    "stud.access_price"
   ]
  },
  {
   "cell_type": "code",
   "execution_count": 72,
   "id": "c1c3ea5c",
   "metadata": {},
   "outputs": [],
   "source": [
    "stud.price_set = 1200"
   ]
  },
  {
   "cell_type": "code",
   "execution_count": 73,
   "id": "779fd9cf",
   "metadata": {},
   "outputs": [
    {
     "data": {
      "text/plain": [
       "1200"
      ]
     },
     "execution_count": 73,
     "metadata": {},
     "output_type": "execute_result"
    }
   ],
   "source": [
    "stud.access_price"
   ]
  },
  {
   "cell_type": "code",
   "execution_count": 74,
   "id": "d69e5cf9",
   "metadata": {},
   "outputs": [],
   "source": [
    "stud = Student(\"Ajay\",2000)"
   ]
  },
  {
   "cell_type": "code",
   "execution_count": 75,
   "id": "36ae9890",
   "metadata": {},
   "outputs": [],
   "source": [
    "stud.price_set = 1200"
   ]
  },
  {
   "cell_type": "code",
   "execution_count": 76,
   "id": "1380484a",
   "metadata": {},
   "outputs": [
    {
     "data": {
      "text/plain": [
       "1200"
      ]
     },
     "execution_count": 76,
     "metadata": {},
     "output_type": "execute_result"
    }
   ],
   "source": [
    "stud.access_price"
   ]
  },
  {
   "cell_type": "code",
   "execution_count": 77,
   "id": "db2452a9",
   "metadata": {},
   "outputs": [],
   "source": [
    "del stud.del_price"
   ]
  },
  {
   "cell_type": "code",
   "execution_count": 78,
   "id": "5dc53e36",
   "metadata": {},
   "outputs": [
    {
     "ename": "AttributeError",
     "evalue": "'Student' object has no attribute '_Student__price'",
     "output_type": "error",
     "traceback": [
      "\u001b[1;31m---------------------------------------------------------------------------\u001b[0m",
      "\u001b[1;31mAttributeError\u001b[0m                            Traceback (most recent call last)",
      "Cell \u001b[1;32mIn[78], line 1\u001b[0m\n\u001b[1;32m----> 1\u001b[0m stud\u001b[38;5;241m.\u001b[39maccess_price\n",
      "Cell \u001b[1;32mIn[70], line 8\u001b[0m, in \u001b[0;36mStudent.access_price\u001b[1;34m(self)\u001b[0m\n\u001b[0;32m      6\u001b[0m \u001b[38;5;129m@property\u001b[39m \u001b[38;5;66;03m# it will make access_price as attribute of the class\u001b[39;00m\n\u001b[0;32m      7\u001b[0m \u001b[38;5;28;01mdef\u001b[39;00m \u001b[38;5;21maccess_price\u001b[39m(\u001b[38;5;28mself\u001b[39m):\n\u001b[1;32m----> 8\u001b[0m     \u001b[38;5;28;01mreturn\u001b[39;00m \u001b[38;5;28mself\u001b[39m\u001b[38;5;241m.\u001b[39m__price\n",
      "\u001b[1;31mAttributeError\u001b[0m: 'Student' object has no attribute '_Student__price'"
     ]
    }
   ],
   "source": [
    "stud.access_price"
   ]
  },
  {
   "cell_type": "code",
   "execution_count": null,
   "id": "8e10e4b5",
   "metadata": {},
   "outputs": [],
   "source": []
  },
  {
   "cell_type": "code",
   "execution_count": null,
   "id": "f543dfbd",
   "metadata": {},
   "outputs": [],
   "source": []
  }
 ],
 "metadata": {
  "kernelspec": {
   "display_name": "Python 3 (ipykernel)",
   "language": "python",
   "name": "python3"
  },
  "language_info": {
   "codemirror_mode": {
    "name": "ipython",
    "version": 3
   },
   "file_extension": ".py",
   "mimetype": "text/x-python",
   "name": "python",
   "nbconvert_exporter": "python",
   "pygments_lexer": "ipython3",
   "version": "3.11.5"
  }
 },
 "nbformat": 4,
 "nbformat_minor": 5
}
