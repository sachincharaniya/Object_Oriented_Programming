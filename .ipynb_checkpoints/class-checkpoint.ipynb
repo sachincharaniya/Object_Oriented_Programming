{
 "cells": [
  {
   "cell_type": "code",
   "execution_count": 1,
   "id": "b0ef23af",
   "metadata": {},
   "outputs": [
    {
     "name": "stdout",
     "output_type": "stream",
     "text": [
      "<class 'int'>\n"
     ]
    }
   ],
   "source": [
    "# oops >> object oriented programming system\n",
    "a = 5 \n",
    "print(type(a))"
   ]
  },
  {
   "cell_type": "code",
   "execution_count": 2,
   "id": "51d8a743",
   "metadata": {},
   "outputs": [
    {
     "name": "stdout",
     "output_type": "stream",
     "text": [
      "<class 'str'>\n"
     ]
    }
   ],
   "source": [
    "s = \"Pwskills\"\n",
    "print(type(s))"
   ]
  },
  {
   "cell_type": "code",
   "execution_count": 5,
   "id": "92d33004",
   "metadata": {},
   "outputs": [
    {
     "name": "stdout",
     "output_type": "stream",
     "text": [
      "<class '__main__.Car'>\n"
     ]
    }
   ],
   "source": [
    "class Car:# namming convention >> uppercamelcase\n",
    "    pass\n",
    "a = Car()# instance,object , variable \n",
    "print(type(a))"
   ]
  },
  {
   "cell_type": "code",
   "execution_count": 12,
   "id": "13b4e419",
   "metadata": {},
   "outputs": [],
   "source": [
    "class Car: #function / method of a car \n",
    "    def accelerate(self):\n",
    "        print(\"Car is accelerate\")\n",
    "a = Car()    "
   ]
  },
  {
   "cell_type": "code",
   "execution_count": 13,
   "id": "a380f42d",
   "metadata": {},
   "outputs": [
    {
     "name": "stdout",
     "output_type": "stream",
     "text": [
      "Car is accelerate\n"
     ]
    }
   ],
   "source": [
    "a.accelerate()"
   ]
  },
  {
   "cell_type": "code",
   "execution_count": 14,
   "id": "684e5452",
   "metadata": {},
   "outputs": [],
   "source": [
    "# self >> a variable that represents instance of the class using which you can access attribute and method\n",
    "# this is reference of the class "
   ]
  },
  {
   "cell_type": "code",
   "execution_count": 15,
   "id": "d8d92102",
   "metadata": {},
   "outputs": [],
   "source": [
    "# def f1():\n",
    "#     pass\n",
    "# def b1():\n",
    "#     pass\n",
    "# def d1():\n",
    "#     pass\n"
   ]
  },
  {
   "cell_type": "code",
   "execution_count": 16,
   "id": "7e9ef0a7",
   "metadata": {},
   "outputs": [
    {
     "name": "stdout",
     "output_type": "stream",
     "text": [
      "Car is Stoppping\n"
     ]
    }
   ],
   "source": [
    "class Car:\n",
    "    def accelerate(self):\n",
    "        print(\"Car is accelerting\")\n",
    "    def brake(self):\n",
    "        print(\"Car is Stoppping\")\n",
    "a = Car()\n",
    "a.brake()"
   ]
  },
  {
   "cell_type": "code",
   "execution_count": 18,
   "id": "5e1ce7b2",
   "metadata": {
    "scrolled": true
   },
   "outputs": [
    {
     "name": "stdout",
     "output_type": "stream",
     "text": [
      "I am trying to depositr some money\n"
     ]
    }
   ],
   "source": [
    "class Bank:\n",
    "    def deposit(self,amount): # it's method \n",
    "        print(\"I am trying to depositr some money\")\n",
    "    def withdraw(self,amount_withdraw):\n",
    "        print(\"I am trying to withdraw some money\")\n",
    "ajay = Bank() # object\n",
    "ajay.deposit(1000)\n"
   ]
  },
  {
   "cell_type": "code",
   "execution_count": 21,
   "id": "5e247800",
   "metadata": {},
   "outputs": [
    {
     "data": {
      "text/plain": [
       "1000"
      ]
     },
     "execution_count": 21,
     "metadata": {},
     "output_type": "execute_result"
    }
   ],
   "source": [
    "class Bank:\n",
    "    atm = 1000\n",
    "    def deposit(self,amount): # it's method \n",
    "        print(\"I am trying to depositr some money\")\n",
    "    def withdraw(self,amount_withdraw):\n",
    "        print(\"I am trying to withdraw some money\")\n",
    "ajay = Bank()\n",
    "ajay.atm"
   ]
  },
  {
   "cell_type": "code",
   "execution_count": 30,
   "id": "2f640451",
   "metadata": {},
   "outputs": [
    {
     "data": {
      "text/plain": [
       "[1, 2, 3, 4, 5, 6]"
      ]
     },
     "execution_count": 30,
     "metadata": {},
     "output_type": "execute_result"
    }
   ],
   "source": [
    "class Listops:\n",
    "    l = [1,2,3,4,5,6]\n",
    "    def extract_even(self,l):\n",
    "        l1 = []\n",
    "        for i in l:\n",
    "            if i % 2 == 0 :\n",
    "                l1.append(i)\n",
    "        return l1\n",
    "    def extract_odd(self,l):\n",
    "        l1 = []\n",
    "        for i in l:\n",
    "            if i % 2 != 0:\n",
    "                l1.append(i)\n",
    "        return l1\n",
    "ops1 = Listops()\n",
    "ops1.l"
   ]
  },
  {
   "cell_type": "code",
   "execution_count": 31,
   "id": "cbd8b312",
   "metadata": {},
   "outputs": [
    {
     "data": {
      "text/plain": [
       "[2, 4, 6]"
      ]
     },
     "execution_count": 31,
     "metadata": {},
     "output_type": "execute_result"
    }
   ],
   "source": [
    "ops1 = Listops()\n",
    "ops1.extract_even(ops1.l)"
   ]
  },
  {
   "cell_type": "code",
   "execution_count": 32,
   "id": "b2ac5d2b",
   "metadata": {},
   "outputs": [
    {
     "data": {
      "text/plain": [
       "[2, 4, 6]"
      ]
     },
     "execution_count": 32,
     "metadata": {},
     "output_type": "execute_result"
    }
   ],
   "source": [
    "ops2 = Listops()\n",
    "ops2.extract_even(ops2.l)"
   ]
  },
  {
   "cell_type": "code",
   "execution_count": 33,
   "id": "458d1331",
   "metadata": {},
   "outputs": [
    {
     "data": {
      "text/plain": [
       "[1, 3, 5]"
      ]
     },
     "execution_count": 33,
     "metadata": {},
     "output_type": "execute_result"
    }
   ],
   "source": [
    "ops3 = Listops()\n",
    "ops3.extract_odd(ops3.l)"
   ]
  },
  {
   "cell_type": "code",
   "execution_count": 53,
   "id": "9ac73adf",
   "metadata": {},
   "outputs": [
    {
     "data": {
      "text/plain": [
       "[2, 4, 6]"
      ]
     },
     "execution_count": 53,
     "metadata": {},
     "output_type": "execute_result"
    }
   ],
   "source": [
    "class Listops:\n",
    "    def __init__(self,l):\n",
    "        self.l = l\n",
    "    def extract_even(self):\n",
    "        l = self.l\n",
    "        l1 = []\n",
    "        for i in l:\n",
    "            if i % 2 == 0 :\n",
    "                l1.append(i)\n",
    "        return l1\n",
    "    def extract_odd(self):\n",
    "        l = self.l\n",
    "        l1 = []\n",
    "        for i in l:\n",
    "            if i % 2 != 0:\n",
    "                l1.append(i)\n",
    "        return l1\n",
    "ops1 = Listops([1,2,3,4,5,6,7])\n",
    "ops1.extract_odd()\n",
    "ops1.extract_even()"
   ]
  },
  {
   "cell_type": "code",
   "execution_count": 56,
   "id": "97d51cb6",
   "metadata": {},
   "outputs": [
    {
     "name": "stdout",
     "output_type": "stream",
     "text": [
      "ML Linear Regression\n"
     ]
    }
   ],
   "source": [
    "class Book:\n",
    "    def __init__(self,name, author,title):\n",
    "        self.name_of_book = name\n",
    "        self.book_author = author\n",
    "        self.title_name = title\n",
    "    def extract_detials_name_title(self):\n",
    "        print(self.name_of_book,self.title_name)\n",
    "    def extract_detials_name_author(self):\n",
    "        print(self.name_of_book,self.book_author)\n",
    "student1 = Book(\"ML\",\"MURFHY\",\"Linear Regression\")\n",
    "student1.extract_detials_name_title()"
   ]
  },
  {
   "cell_type": "code",
   "execution_count": 57,
   "id": "69830a75",
   "metadata": {},
   "outputs": [],
   "source": [
    "student2= Book(\"DL\",\"Abc\",\"CNN\")"
   ]
  },
  {
   "cell_type": "code",
   "execution_count": 58,
   "id": "86bb45a6",
   "metadata": {},
   "outputs": [
    {
     "name": "stdout",
     "output_type": "stream",
     "text": [
      "DL Abc\n"
     ]
    }
   ],
   "source": [
    "student2.extract_detials_name_author()"
   ]
  },
  {
   "cell_type": "code",
   "execution_count": 59,
   "id": "061483a3",
   "metadata": {},
   "outputs": [
    {
     "data": {
      "text/plain": [
       "'DL'"
      ]
     },
     "execution_count": 59,
     "metadata": {},
     "output_type": "execute_result"
    }
   ],
   "source": [
    "student2.name_of_book"
   ]
  },
  {
   "cell_type": "code",
   "execution_count": 62,
   "id": "52838e69",
   "metadata": {},
   "outputs": [
    {
     "ename": "TypeError",
     "evalue": "Book.__init__() takes 0 positional arguments but 1 was given",
     "output_type": "error",
     "traceback": [
      "\u001b[1;31m---------------------------------------------------------------------------\u001b[0m",
      "\u001b[1;31mTypeError\u001b[0m                                 Traceback (most recent call last)",
      "Cell \u001b[1;32mIn[62], line 10\u001b[0m\n\u001b[0;32m      8\u001b[0m     \u001b[38;5;28;01mdef\u001b[39;00m \u001b[38;5;21mextract_detials_name_author\u001b[39m(\u001b[38;5;28mself\u001b[39m):\n\u001b[0;32m      9\u001b[0m         \u001b[38;5;28mprint\u001b[39m(\u001b[38;5;28mself\u001b[39m\u001b[38;5;241m.\u001b[39mname_of_book,\u001b[38;5;28mself\u001b[39m\u001b[38;5;241m.\u001b[39mbook_author)\n\u001b[1;32m---> 10\u001b[0m student1 \u001b[38;5;241m=\u001b[39m Book()\n",
      "\u001b[1;31mTypeError\u001b[0m: Book.__init__() takes 0 positional arguments but 1 was given"
     ]
    }
   ],
   "source": [
    "class Book:\n",
    "    def __init__(self):\n",
    "        self.name_of_book = \"DSA\"\n",
    "        self.book_author = \"Cormen\"\n",
    "        self.title_name = \"Stacks\"\n",
    "    def extract_detials_name_title(self):\n",
    "        print(self.name_of_book,self.title_name)\n",
    "    def extract_detials_name_author(self):\n",
    "        print(self.name_of_book,self.book_author)\n",
    "student1 = Book()"
   ]
  },
  {
   "cell_type": "code",
   "execution_count": null,
   "id": "f94145a8",
   "metadata": {},
   "outputs": [],
   "source": []
  }
 ],
 "metadata": {
  "kernelspec": {
   "display_name": "Python 3 (ipykernel)",
   "language": "python",
   "name": "python3"
  },
  "language_info": {
   "codemirror_mode": {
    "name": "ipython",
    "version": 3
   },
   "file_extension": ".py",
   "mimetype": "text/x-python",
   "name": "python",
   "nbconvert_exporter": "python",
   "pygments_lexer": "ipython3",
   "version": "3.11.5"
  }
 },
 "nbformat": 4,
 "nbformat_minor": 5
}
