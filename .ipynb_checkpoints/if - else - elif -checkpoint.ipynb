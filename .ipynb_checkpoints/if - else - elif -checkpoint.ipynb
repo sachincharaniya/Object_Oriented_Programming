{
 "cells": [
  {
   "cell_type": "code",
   "execution_count": 1,
   "id": "ee450786",
   "metadata": {},
   "outputs": [
    {
     "name": "stdout",
     "output_type": "stream",
     "text": [
      "The no is greater than 100\n"
     ]
    }
   ],
   "source": [
    "a = 2 \n",
    "if a < 100:\n",
    "    print(\"The no is greater than 100\")"
   ]
  },
  {
   "cell_type": "code",
   "execution_count": 2,
   "id": "81f4affe",
   "metadata": {},
   "outputs": [
    {
     "name": "stdout",
     "output_type": "stream",
     "text": [
      "I will not play cricket\n"
     ]
    }
   ],
   "source": [
    "weather = \"rainy\"\n",
    "if weather == \"rainy\":\n",
    "    print(\"I will not play cricket\")"
   ]
  },
  {
   "cell_type": "code",
   "execution_count": 3,
   "id": "42e39b45",
   "metadata": {},
   "outputs": [
    {
     "name": "stdout",
     "output_type": "stream",
     "text": [
      "room temp\n"
     ]
    }
   ],
   "source": [
    "temp = 30 \n",
    "if temp > 25:\n",
    "    print(\"room temp\")"
   ]
  },
  {
   "cell_type": "code",
   "execution_count": 4,
   "id": "4814bdc1",
   "metadata": {},
   "outputs": [
    {
     "name": "stdout",
     "output_type": "stream",
     "text": [
      "I am studying this course\n"
     ]
    }
   ],
   "source": [
    "is_ds_course = True\n",
    "if is_ds_course:\n",
    "    print(\"I am studying this course\")"
   ]
  },
  {
   "cell_type": "code",
   "execution_count": 5,
   "id": "77dd9bc2",
   "metadata": {},
   "outputs": [
    {
     "name": "stdout",
     "output_type": "stream",
     "text": [
      "I am studying this course\n"
     ]
    }
   ],
   "source": [
    "is_ds_course = True\n",
    "if is_ds_course:\n",
    "    print(\"I am studying this course\")\n",
    "else:\n",
    "    print(\"I am playing cricket\")"
   ]
  },
  {
   "cell_type": "code",
   "execution_count": 6,
   "id": "adf07610",
   "metadata": {},
   "outputs": [
    {
     "name": "stdout",
     "output_type": "stream",
     "text": [
      "I am playing cricket\n"
     ]
    }
   ],
   "source": [
    "is_ds_course = False\n",
    "if is_ds_course:\n",
    "    print(\"I am studying this course\")\n",
    "else:\n",
    "    print(\"I am playing cricket\")"
   ]
  },
  {
   "cell_type": "code",
   "execution_count": 7,
   "id": "4897b729",
   "metadata": {},
   "outputs": [
    {
     "name": "stdout",
     "output_type": "stream",
     "text": [
      " x is not greather than 5 \n"
     ]
    }
   ],
   "source": [
    "x = 1 \n",
    "if x > 5 :\n",
    "    print(\"x is greather than 5 \")\n",
    "else :\n",
    "    print(\" x is not greather than 5 \")"
   ]
  },
  {
   "cell_type": "code",
   "execution_count": 8,
   "id": "6a4de1db",
   "metadata": {},
   "outputs": [
    {
     "name": "stdout",
     "output_type": "stream",
     "text": [
      "not a adult\n"
     ]
    }
   ],
   "source": [
    "age = 20\n",
    "if age >= 21:\n",
    "    print(\"allowed\")\n",
    "else :\n",
    "    print(\"not a adult\")"
   ]
  },
  {
   "cell_type": "code",
   "execution_count": 9,
   "id": "27678f23",
   "metadata": {},
   "outputs": [
    {
     "name": "stdout",
     "output_type": "stream",
     "text": [
      "allowed\n"
     ]
    }
   ],
   "source": [
    "age = 22\n",
    "if age >= 21:\n",
    "    print(\"allowed\")\n",
    "else :\n",
    "    print(\"not a adult\")"
   ]
  },
  {
   "cell_type": "code",
   "execution_count": 10,
   "id": "26fe198e",
   "metadata": {},
   "outputs": [
    {
     "name": "stdout",
     "output_type": "stream",
     "text": [
      "even\n"
     ]
    }
   ],
   "source": [
    "# to check if a no is even or not \n",
    "num = 10 \n",
    "if num % 2 == 0:\n",
    "    print(\"even\")\n",
    "else :\n",
    "    print(\"odd\")"
   ]
  },
  {
   "cell_type": "code",
   "execution_count": 11,
   "id": "680f8d1f",
   "metadata": {},
   "outputs": [
    {
     "name": "stdout",
     "output_type": "stream",
     "text": [
      "pass\n"
     ]
    }
   ],
   "source": [
    "score = 45 \n",
    "if score > 33:\n",
    "    print(\"pass\")\n",
    "else:\n",
    "    print(\"fail\")"
   ]
  },
  {
   "cell_type": "code",
   "execution_count": 12,
   "id": "18afb07a",
   "metadata": {},
   "outputs": [
    {
     "name": "stdout",
     "output_type": "stream",
     "text": [
      "will execute if a is lesser than 100\n"
     ]
    }
   ],
   "source": [
    "# if - elif-else\n",
    "a = 10 \n",
    "if a > 100:\n",
    "    print(\"will execute if a is grether than 100\")\n",
    "elif a < 100:\n",
    "    print(\"will execute if a is lesser than 100\")\n",
    "else :\n",
    "    print(\"the number is equals to 100\")"
   ]
  },
  {
   "cell_type": "code",
   "execution_count": 13,
   "id": "bcb27610",
   "metadata": {},
   "outputs": [
    {
     "name": "stdout",
     "output_type": "stream",
     "text": [
      "the number is equals to 100\n"
     ]
    }
   ],
   "source": [
    "# if - elif-else\n",
    "a = 100 \n",
    "if a > 100:\n",
    "    print(\"will execute if a is grether than 100\")\n",
    "elif a < 100:\n",
    "    print(\"will execute if a is lesser than 100\")\n",
    "else :\n",
    "    print(\"the number is equals to 100\")"
   ]
  },
  {
   "cell_type": "code",
   "execution_count": 14,
   "id": "83c57ac1",
   "metadata": {},
   "outputs": [
    {
     "name": "stdout",
     "output_type": "stream",
     "text": [
      "grade B\n"
     ]
    }
   ],
   "source": [
    "score = 80 \n",
    "if score >= 90:\n",
    "    print(\"grade A\")\n",
    "elif 80 <= score <= 90:\n",
    "    print(\"grade B\")\n",
    "else:\n",
    "    print(\"grade less than B\")\n",
    "    "
   ]
  },
  {
   "cell_type": "code",
   "execution_count": 15,
   "id": "ee627f68",
   "metadata": {},
   "outputs": [
    {
     "name": "stdout",
     "output_type": "stream",
     "text": [
      "good afternoon\n"
     ]
    }
   ],
   "source": [
    "hour = 14 \n",
    "if hour < 12:\n",
    "    print(\"good morining \")\n",
    "elif 12 <= hour <= 17:\n",
    "    print(\"good afternoon\")\n",
    "else :\n",
    "    print(\"good night\")"
   ]
  },
  {
   "cell_type": "code",
   "execution_count": null,
   "id": "b75d1e43",
   "metadata": {},
   "outputs": [],
   "source": [
    "age = 30 \n",
    "if age < 18:\n",
    "    print(\"Age is minor\")\n",
    "elif 18<= age <=65:\n",
    "    print(\"you are adult\")\n",
    "else:\n",
    "    print(\"you are a senior citizen\")"
   ]
  },
  {
   "cell_type": "code",
   "execution_count": 1,
   "id": "cb4e2d4e",
   "metadata": {},
   "outputs": [
    {
     "name": "stdout",
     "output_type": "stream",
     "text": [
      "both x and y is greater than 5 \n"
     ]
    }
   ],
   "source": [
    "#nested if else condition \n",
    "x = 10 \n",
    "y = 5 \n",
    "if x > 5 :\n",
    "    if y >= 5 :\n",
    "        print(\"both x and y is greater than 5 \")\n",
    "    else :\n",
    "        print(\"x is greater than 5 but y is not\")\n",
    "else:\n",
    "    print(\"x is not greater than 5 \")"
   ]
  },
  {
   "cell_type": "code",
   "execution_count": 5,
   "id": "2ff8d90d",
   "metadata": {},
   "outputs": [
    {
     "name": "stdout",
     "output_type": "stream",
     "text": [
      "Enter a no 122\n",
      "no is greater than 100\n"
     ]
    }
   ],
   "source": [
    "a = int(input(\"Enter a no \"))\n",
    "if a >= 100:\n",
    "    print(\"no is greater than 100\")\n",
    "elif 0 < a < 100:\n",
    "    print(\"a is greatear than 0 and less than 100\")\n",
    "else:\n",
    "    print(\"negative no\")"
   ]
  },
  {
   "cell_type": "code",
   "execution_count": 10,
   "id": "368e441f",
   "metadata": {},
   "outputs": [
    {
     "name": "stdout",
     "output_type": "stream",
     "text": [
      "you are not a VIP , regular pricess applied \n"
     ]
    }
   ],
   "source": [
    "is_vip = False\n",
    "age = 30 \n",
    "if is_vip:\n",
    "    if age >= 18:\n",
    "        if age < 65:\n",
    "            print(\"welcome vip customer\")\n",
    "        else:\n",
    "            print(\"you are vip but also qualified for senior citizen discount\")\n",
    "    else:\n",
    "        print(\"Vip status is only for adult\")\n",
    "else :\n",
    "    print(\"you are not a VIP , regular pricess applied \")"
   ]
  },
  {
   "cell_type": "code",
   "execution_count": 12,
   "id": "8f95990e",
   "metadata": {
    "scrolled": true
   },
   "outputs": [
    {
     "name": "stdout",
     "output_type": "stream",
     "text": [
      "pls enter your name ajay\n",
      "pls enter your emailaj@gmail.com\n",
      "pls enter your password23\n",
      "registration successful\n"
     ]
    }
   ],
   "source": [
    "name = input(\"pls enter your name \")\n",
    "email = input(\"pls enter your email\")\n",
    "password = input(\"pls enter your password\")\n",
    "if name == \"\":\n",
    "    print(\"name cannot be empty\")\n",
    "else: \n",
    "    if \"@\" not in email:\n",
    "        print(\"invalied email address\")\n",
    "    else:\n",
    "        if len(password) < 0 :\n",
    "            print(\"invalid password\")\n",
    "        else:\n",
    "            print(\"registration successful\")"
   ]
  },
  {
   "cell_type": "code",
   "execution_count": null,
   "id": "d7ae5b2b",
   "metadata": {},
   "outputs": [],
   "source": []
  }
 ],
 "metadata": {
  "kernelspec": {
   "display_name": "Python 3 (ipykernel)",
   "language": "python",
   "name": "python3"
  },
  "language_info": {
   "codemirror_mode": {
    "name": "ipython",
    "version": 3
   },
   "file_extension": ".py",
   "mimetype": "text/x-python",
   "name": "python",
   "nbconvert_exporter": "python",
   "pygments_lexer": "ipython3",
   "version": "3.11.5"
  }
 },
 "nbformat": 4,
 "nbformat_minor": 5
}
